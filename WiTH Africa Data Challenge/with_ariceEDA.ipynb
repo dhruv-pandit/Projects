{
 "cells": [
  {
   "cell_type": "code",
   "execution_count": 1,
   "metadata": {},
   "outputs": [],
   "source": [
    "import pandas as pd\n",
    "import plotly as px\n",
    "import geopandas as gp"
   ]
  },
  {
   "cell_type": "code",
   "execution_count": 2,
   "metadata": {},
   "outputs": [],
   "source": [
    "data_df = pd.read_excel(r'/Users/dhruvpandit/Documents/GitHub/Projects/WiTH Africa Data Challenge/whc-sites-2021.xls')"
   ]
  },
  {
   "cell_type": "code",
   "execution_count": 3,
   "metadata": {},
   "outputs": [
    {
     "data": {
      "text/plain": [
       "Index(['unique_number', 'id_no', 'rev_bis', 'name_en', 'short_description_en',\n",
       "       'justification_en', 'date_inscribed', 'secondary_dates', 'danger',\n",
       "       'date_end', 'danger_list', 'longitude', 'latitude', 'area_hectares',\n",
       "       'C1', 'C2', 'C3', 'C4', 'C5', 'C6', 'N7', 'N8', 'N9', 'N10',\n",
       "       'criteria_txt', 'category', 'category_short', 'states_name_en',\n",
       "       'region_en', 'iso_code', 'udnp_code', 'transboundary'],\n",
       "      dtype='object')"
      ]
     },
     "execution_count": 3,
     "metadata": {},
     "output_type": "execute_result"
    }
   ],
   "source": [
    "data_df.drop(data_df.loc[:, data_df.columns.str.endswith('_fr')].columns, axis=1, inplace=True)\n",
    "data_df = data_df[data_df['region_en'] == 'Africa']\n",
    "data_df.columns"
   ]
  },
  {
   "cell_type": "code",
   "execution_count": 8,
   "metadata": {},
   "outputs": [
    {
     "data": {
      "text/html": [
       "<div>\n",
       "<style scoped>\n",
       "    .dataframe tbody tr th:only-of-type {\n",
       "        vertical-align: middle;\n",
       "    }\n",
       "\n",
       "    .dataframe tbody tr th {\n",
       "        vertical-align: top;\n",
       "    }\n",
       "\n",
       "    .dataframe thead th {\n",
       "        text-align: right;\n",
       "    }\n",
       "</style>\n",
       "<table border=\"1\" class=\"dataframe\">\n",
       "  <thead>\n",
       "    <tr style=\"text-align: right;\">\n",
       "      <th></th>\n",
       "      <th>unique_number</th>\n",
       "      <th>id_no</th>\n",
       "      <th>rev_bis</th>\n",
       "      <th>name_en</th>\n",
       "      <th>short_description_en</th>\n",
       "      <th>justification_en</th>\n",
       "      <th>date_inscribed</th>\n",
       "      <th>secondary_dates</th>\n",
       "      <th>danger</th>\n",
       "      <th>date_end</th>\n",
       "      <th>...</th>\n",
       "      <th>N9</th>\n",
       "      <th>N10</th>\n",
       "      <th>criteria_txt</th>\n",
       "      <th>category</th>\n",
       "      <th>category_short</th>\n",
       "      <th>states_name_en</th>\n",
       "      <th>region_en</th>\n",
       "      <th>iso_code</th>\n",
       "      <th>udnp_code</th>\n",
       "      <th>transboundary</th>\n",
       "    </tr>\n",
       "  </thead>\n",
       "  <tbody>\n",
       "    <tr>\n",
       "      <th>12</th>\n",
       "      <td>2128</td>\n",
       "      <td>1511</td>\n",
       "      <td>NaN</td>\n",
       "      <td>Mbanza Kongo, Vestiges of the Capital of the f...</td>\n",
       "      <td>&lt;p&gt;The town of Mbanza Kongo, located on a plat...</td>\n",
       "      <td>NaN</td>\n",
       "      <td>2017</td>\n",
       "      <td>NaN</td>\n",
       "      <td>0</td>\n",
       "      <td>NaN</td>\n",
       "      <td>...</td>\n",
       "      <td>0</td>\n",
       "      <td>0</td>\n",
       "      <td>(iii)(iv)</td>\n",
       "      <td>Cultural</td>\n",
       "      <td>C</td>\n",
       "      <td>Angola</td>\n",
       "      <td>Africa</td>\n",
       "      <td>ao</td>\n",
       "      <td>ang</td>\n",
       "      <td>0</td>\n",
       "    </tr>\n",
       "    <tr>\n",
       "      <th>75</th>\n",
       "      <td>1560</td>\n",
       "      <td>323</td>\n",
       "      <td>Bis</td>\n",
       "      <td>Royal Palaces of Abomey</td>\n",
       "      <td>&lt;p&gt;From 1625 to 1900, 12 kings succeeded one a...</td>\n",
       "      <td>NaN</td>\n",
       "      <td>1985</td>\n",
       "      <td>NaN</td>\n",
       "      <td>0</td>\n",
       "      <td>2007.0</td>\n",
       "      <td>...</td>\n",
       "      <td>0</td>\n",
       "      <td>0</td>\n",
       "      <td>(iii)(iv)</td>\n",
       "      <td>Cultural</td>\n",
       "      <td>C</td>\n",
       "      <td>Benin</td>\n",
       "      <td>Africa</td>\n",
       "      <td>bj</td>\n",
       "      <td>ben</td>\n",
       "      <td>0</td>\n",
       "    </tr>\n",
       "    <tr>\n",
       "      <th>84</th>\n",
       "      <td>1191</td>\n",
       "      <td>1021</td>\n",
       "      <td>NaN</td>\n",
       "      <td>Tsodilo</td>\n",
       "      <td>&lt;p&gt;With one of the highest concentrations of r...</td>\n",
       "      <td>&lt;p&gt;&lt;strong&gt;Criterion i:&lt;/strong&gt; For many thou...</td>\n",
       "      <td>2001</td>\n",
       "      <td>NaN</td>\n",
       "      <td>0</td>\n",
       "      <td>NaN</td>\n",
       "      <td>...</td>\n",
       "      <td>0</td>\n",
       "      <td>0</td>\n",
       "      <td>(i)(iii)(vi)</td>\n",
       "      <td>Cultural</td>\n",
       "      <td>C</td>\n",
       "      <td>Botswana</td>\n",
       "      <td>Africa</td>\n",
       "      <td>bw</td>\n",
       "      <td>bwa</td>\n",
       "      <td>0</td>\n",
       "    </tr>\n",
       "    <tr>\n",
       "      <th>85</th>\n",
       "      <td>1976</td>\n",
       "      <td>1432</td>\n",
       "      <td>NaN</td>\n",
       "      <td>Okavango Delta</td>\n",
       "      <td>&lt;p&gt;This delta in north-west Botswana comprises...</td>\n",
       "      <td>NaN</td>\n",
       "      <td>2014</td>\n",
       "      <td>NaN</td>\n",
       "      <td>0</td>\n",
       "      <td>NaN</td>\n",
       "      <td>...</td>\n",
       "      <td>1</td>\n",
       "      <td>1</td>\n",
       "      <td>(vii)(ix)(x)</td>\n",
       "      <td>Natural</td>\n",
       "      <td>N</td>\n",
       "      <td>Botswana</td>\n",
       "      <td>Africa</td>\n",
       "      <td>bw</td>\n",
       "      <td>bwa</td>\n",
       "      <td>0</td>\n",
       "    </tr>\n",
       "    <tr>\n",
       "      <th>117</th>\n",
       "      <td>1696</td>\n",
       "      <td>1225</td>\n",
       "      <td>Rev</td>\n",
       "      <td>Ruins of Loropéni</td>\n",
       "      <td>&lt;p&gt;The 11,130m2 property, the first to be insc...</td>\n",
       "      <td>NaN</td>\n",
       "      <td>2009</td>\n",
       "      <td>NaN</td>\n",
       "      <td>0</td>\n",
       "      <td>NaN</td>\n",
       "      <td>...</td>\n",
       "      <td>0</td>\n",
       "      <td>0</td>\n",
       "      <td>(iii)</td>\n",
       "      <td>Cultural</td>\n",
       "      <td>C</td>\n",
       "      <td>Burkina Faso</td>\n",
       "      <td>Africa</td>\n",
       "      <td>bf</td>\n",
       "      <td>bfa</td>\n",
       "      <td>0</td>\n",
       "    </tr>\n",
       "    <tr>\n",
       "      <th>...</th>\n",
       "      <td>...</td>\n",
       "      <td>...</td>\n",
       "      <td>...</td>\n",
       "      <td>...</td>\n",
       "      <td>...</td>\n",
       "      <td>...</td>\n",
       "      <td>...</td>\n",
       "      <td>...</td>\n",
       "      <td>...</td>\n",
       "      <td>...</td>\n",
       "      <td>...</td>\n",
       "      <td>...</td>\n",
       "      <td>...</td>\n",
       "      <td>...</td>\n",
       "      <td>...</td>\n",
       "      <td>...</td>\n",
       "      <td>...</td>\n",
       "      <td>...</td>\n",
       "      <td>...</td>\n",
       "      <td>...</td>\n",
       "      <td>...</td>\n",
       "    </tr>\n",
       "    <tr>\n",
       "      <th>1127</th>\n",
       "      <td>1920</td>\n",
       "      <td>1380</td>\n",
       "      <td>Rev</td>\n",
       "      <td>Sangha Trinational</td>\n",
       "      <td>&lt;p&gt;Situated in the north-western Congo Basin, ...</td>\n",
       "      <td>NaN</td>\n",
       "      <td>2012</td>\n",
       "      <td>NaN</td>\n",
       "      <td>0</td>\n",
       "      <td>NaN</td>\n",
       "      <td>...</td>\n",
       "      <td>1</td>\n",
       "      <td>1</td>\n",
       "      <td>(ix)(x)</td>\n",
       "      <td>Natural</td>\n",
       "      <td>N</td>\n",
       "      <td>Cameroon,Central African Republic,Congo</td>\n",
       "      <td>Africa</td>\n",
       "      <td>cf,cg,cm</td>\n",
       "      <td>caf,cmr,cog</td>\n",
       "      <td>1</td>\n",
       "    </tr>\n",
       "    <tr>\n",
       "      <th>1132</th>\n",
       "      <td>173</td>\n",
       "      <td>155</td>\n",
       "      <td>-257</td>\n",
       "      <td>Mount Nimba Strict Nature Reserve</td>\n",
       "      <td>&lt;p&gt;Located on the borders of Guinea, Liberia a...</td>\n",
       "      <td>NaN</td>\n",
       "      <td>1981</td>\n",
       "      <td>1982</td>\n",
       "      <td>1</td>\n",
       "      <td>NaN</td>\n",
       "      <td>...</td>\n",
       "      <td>1</td>\n",
       "      <td>1</td>\n",
       "      <td>(ix)(x)</td>\n",
       "      <td>Natural</td>\n",
       "      <td>N</td>\n",
       "      <td>Côte d'Ivoire,Guinea</td>\n",
       "      <td>Africa</td>\n",
       "      <td>ci,gn</td>\n",
       "      <td>civ,gin</td>\n",
       "      <td>1</td>\n",
       "    </tr>\n",
       "    <tr>\n",
       "      <th>1138</th>\n",
       "      <td>1403</td>\n",
       "      <td>1226</td>\n",
       "      <td>NaN</td>\n",
       "      <td>Stone Circles of Senegambia</td>\n",
       "      <td>&lt;p&gt;The site consists of four large groups of s...</td>\n",
       "      <td>NaN</td>\n",
       "      <td>2006</td>\n",
       "      <td>NaN</td>\n",
       "      <td>0</td>\n",
       "      <td>NaN</td>\n",
       "      <td>...</td>\n",
       "      <td>0</td>\n",
       "      <td>0</td>\n",
       "      <td>(i)(iii)</td>\n",
       "      <td>Cultural</td>\n",
       "      <td>C</td>\n",
       "      <td>Gambia (the),Senegal</td>\n",
       "      <td>Africa</td>\n",
       "      <td>gm,sn</td>\n",
       "      <td>gmb,sen</td>\n",
       "      <td>1</td>\n",
       "    </tr>\n",
       "    <tr>\n",
       "      <th>1147</th>\n",
       "      <td>1885</td>\n",
       "      <td>985</td>\n",
       "      <td>Bis</td>\n",
       "      <td>Maloti-Drakensberg Park</td>\n",
       "      <td>&lt;p&gt;The Maloti-Drakensberg Park is a transnatio...</td>\n",
       "      <td>NaN</td>\n",
       "      <td>2000</td>\n",
       "      <td>2013</td>\n",
       "      <td>0</td>\n",
       "      <td>NaN</td>\n",
       "      <td>...</td>\n",
       "      <td>0</td>\n",
       "      <td>1</td>\n",
       "      <td>(i)(iii)(vii)(x)</td>\n",
       "      <td>Mixed</td>\n",
       "      <td>C/N</td>\n",
       "      <td>Lesotho,South Africa</td>\n",
       "      <td>Africa</td>\n",
       "      <td>ls,za</td>\n",
       "      <td>lso,zaf</td>\n",
       "      <td>1</td>\n",
       "    </tr>\n",
       "    <tr>\n",
       "      <th>1154</th>\n",
       "      <td>593</td>\n",
       "      <td>509</td>\n",
       "      <td>NaN</td>\n",
       "      <td>Mosi-oa-Tunya / Victoria Falls</td>\n",
       "      <td>&lt;p&gt;These are among the most spectacular waterf...</td>\n",
       "      <td>NaN</td>\n",
       "      <td>1989</td>\n",
       "      <td>NaN</td>\n",
       "      <td>0</td>\n",
       "      <td>NaN</td>\n",
       "      <td>...</td>\n",
       "      <td>0</td>\n",
       "      <td>0</td>\n",
       "      <td>(vii)(viii)</td>\n",
       "      <td>Natural</td>\n",
       "      <td>N</td>\n",
       "      <td>Zambia,Zimbabwe</td>\n",
       "      <td>Africa</td>\n",
       "      <td>zm,zw</td>\n",
       "      <td>zmb,zwe</td>\n",
       "      <td>1</td>\n",
       "    </tr>\n",
       "  </tbody>\n",
       "</table>\n",
       "<p>98 rows × 32 columns</p>\n",
       "</div>"
      ],
      "text/plain": [
       "      unique_number  id_no rev_bis  \\\n",
       "12             2128   1511     NaN   \n",
       "75             1560    323     Bis   \n",
       "84             1191   1021     NaN   \n",
       "85             1976   1432     NaN   \n",
       "117            1696   1225     Rev   \n",
       "...             ...    ...     ...   \n",
       "1127           1920   1380     Rev   \n",
       "1132            173    155    -257   \n",
       "1138           1403   1226     NaN   \n",
       "1147           1885    985     Bis   \n",
       "1154            593    509     NaN   \n",
       "\n",
       "                                                name_en  \\\n",
       "12    Mbanza Kongo, Vestiges of the Capital of the f...   \n",
       "75                              Royal Palaces of Abomey   \n",
       "84                                              Tsodilo   \n",
       "85                                       Okavango Delta   \n",
       "117                                   Ruins of Loropéni   \n",
       "...                                                 ...   \n",
       "1127                                 Sangha Trinational   \n",
       "1132                  Mount Nimba Strict Nature Reserve   \n",
       "1138                        Stone Circles of Senegambia   \n",
       "1147                            Maloti-Drakensberg Park   \n",
       "1154                     Mosi-oa-Tunya / Victoria Falls   \n",
       "\n",
       "                                   short_description_en  \\\n",
       "12    <p>The town of Mbanza Kongo, located on a plat...   \n",
       "75    <p>From 1625 to 1900, 12 kings succeeded one a...   \n",
       "84    <p>With one of the highest concentrations of r...   \n",
       "85    <p>This delta in north-west Botswana comprises...   \n",
       "117   <p>The 11,130m2 property, the first to be insc...   \n",
       "...                                                 ...   \n",
       "1127  <p>Situated in the north-western Congo Basin, ...   \n",
       "1132  <p>Located on the borders of Guinea, Liberia a...   \n",
       "1138  <p>The site consists of four large groups of s...   \n",
       "1147  <p>The Maloti-Drakensberg Park is a transnatio...   \n",
       "1154  <p>These are among the most spectacular waterf...   \n",
       "\n",
       "                                       justification_en  date_inscribed  \\\n",
       "12                                                  NaN            2017   \n",
       "75                                                  NaN            1985   \n",
       "84    <p><strong>Criterion i:</strong> For many thou...            2001   \n",
       "85                                                  NaN            2014   \n",
       "117                                                 NaN            2009   \n",
       "...                                                 ...             ...   \n",
       "1127                                                NaN            2012   \n",
       "1132                                                NaN            1981   \n",
       "1138                                                NaN            2006   \n",
       "1147                                                NaN            2000   \n",
       "1154                                                NaN            1989   \n",
       "\n",
       "     secondary_dates  danger  date_end  ... N9  N10      criteria_txt  \\\n",
       "12               NaN       0       NaN  ...  0    0         (iii)(iv)   \n",
       "75               NaN       0    2007.0  ...  0    0         (iii)(iv)   \n",
       "84               NaN       0       NaN  ...  0    0      (i)(iii)(vi)   \n",
       "85               NaN       0       NaN  ...  1    1      (vii)(ix)(x)   \n",
       "117              NaN       0       NaN  ...  0    0             (iii)   \n",
       "...              ...     ...       ...  ... ..  ...               ...   \n",
       "1127             NaN       0       NaN  ...  1    1           (ix)(x)   \n",
       "1132            1982       1       NaN  ...  1    1           (ix)(x)   \n",
       "1138             NaN       0       NaN  ...  0    0          (i)(iii)   \n",
       "1147            2013       0       NaN  ...  0    1  (i)(iii)(vii)(x)   \n",
       "1154             NaN       0       NaN  ...  0    0       (vii)(viii)   \n",
       "\n",
       "      category  category_short                           states_name_en  \\\n",
       "12    Cultural               C                                   Angola   \n",
       "75    Cultural               C                                    Benin   \n",
       "84    Cultural               C                                 Botswana   \n",
       "85     Natural               N                                 Botswana   \n",
       "117   Cultural               C                             Burkina Faso   \n",
       "...        ...             ...                                      ...   \n",
       "1127   Natural               N  Cameroon,Central African Republic,Congo   \n",
       "1132   Natural               N                     Côte d'Ivoire,Guinea   \n",
       "1138  Cultural               C                     Gambia (the),Senegal   \n",
       "1147     Mixed             C/N                     Lesotho,South Africa   \n",
       "1154   Natural               N                          Zambia,Zimbabwe   \n",
       "\n",
       "      region_en  iso_code    udnp_code  transboundary  \n",
       "12       Africa        ao          ang              0  \n",
       "75       Africa        bj          ben              0  \n",
       "84       Africa        bw          bwa              0  \n",
       "85       Africa        bw          bwa              0  \n",
       "117      Africa        bf          bfa              0  \n",
       "...         ...       ...          ...            ...  \n",
       "1127     Africa  cf,cg,cm  caf,cmr,cog              1  \n",
       "1132     Africa     ci,gn      civ,gin              1  \n",
       "1138     Africa     gm,sn      gmb,sen              1  \n",
       "1147     Africa     ls,za      lso,zaf              1  \n",
       "1154     Africa     zm,zw      zmb,zwe              1  \n",
       "\n",
       "[98 rows x 32 columns]"
      ]
     },
     "execution_count": 8,
     "metadata": {},
     "output_type": "execute_result"
    }
   ],
   "source": [
    "data_df"
   ]
  },
  {
   "cell_type": "code",
   "execution_count": 4,
   "metadata": {},
   "outputs": [],
   "source": [
    "data_df_transformed = data_df[['rev_bis', 'name_en', 'short_description_en',\n",
    "       'justification_en', 'date_inscribed', 'secondary_dates', 'danger',\n",
    "       'date_end', 'danger_list', 'longitude', 'latitude', 'area_hectares',\n",
    "       'category', 'category_short', 'states_name_en']]"
   ]
  },
  {
   "cell_type": "code",
   "execution_count": 32,
   "metadata": {},
   "outputs": [
    {
     "data": {
      "text/html": [
       "<div>\n",
       "<style scoped>\n",
       "    .dataframe tbody tr th:only-of-type {\n",
       "        vertical-align: middle;\n",
       "    }\n",
       "\n",
       "    .dataframe tbody tr th {\n",
       "        vertical-align: top;\n",
       "    }\n",
       "\n",
       "    .dataframe thead th {\n",
       "        text-align: right;\n",
       "    }\n",
       "</style>\n",
       "<table border=\"1\" class=\"dataframe\">\n",
       "  <thead>\n",
       "    <tr style=\"text-align: right;\">\n",
       "      <th></th>\n",
       "      <th>rev_bis</th>\n",
       "      <th>name_en</th>\n",
       "      <th>short_description_en</th>\n",
       "      <th>justification_en</th>\n",
       "      <th>date_inscribed</th>\n",
       "      <th>secondary_dates</th>\n",
       "      <th>danger</th>\n",
       "      <th>date_end</th>\n",
       "      <th>danger_list</th>\n",
       "      <th>longitude</th>\n",
       "      <th>latitude</th>\n",
       "      <th>area_hectares</th>\n",
       "      <th>category</th>\n",
       "      <th>category_short</th>\n",
       "      <th>states_name_en</th>\n",
       "      <th>geometry</th>\n",
       "    </tr>\n",
       "  </thead>\n",
       "  <tbody>\n",
       "    <tr>\n",
       "      <th>12</th>\n",
       "      <td>NaN</td>\n",
       "      <td>Mbanza Kongo, Vestiges of the Capital of the f...</td>\n",
       "      <td>&lt;p&gt;The town of Mbanza Kongo, located on a plat...</td>\n",
       "      <td>NaN</td>\n",
       "      <td>2017</td>\n",
       "      <td>NaN</td>\n",
       "      <td>0</td>\n",
       "      <td>NaN</td>\n",
       "      <td>NaN</td>\n",
       "      <td>14.249722</td>\n",
       "      <td>-6.268889</td>\n",
       "      <td>89.290</td>\n",
       "      <td>Cultural</td>\n",
       "      <td>C</td>\n",
       "      <td>Angola</td>\n",
       "      <td>POINT (14.24972 -6.26889)</td>\n",
       "    </tr>\n",
       "    <tr>\n",
       "      <th>75</th>\n",
       "      <td>Bis</td>\n",
       "      <td>Royal Palaces of Abomey</td>\n",
       "      <td>&lt;p&gt;From 1625 to 1900, 12 kings succeeded one a...</td>\n",
       "      <td>NaN</td>\n",
       "      <td>1985</td>\n",
       "      <td>NaN</td>\n",
       "      <td>0</td>\n",
       "      <td>2007.0</td>\n",
       "      <td>P 1985-2007</td>\n",
       "      <td>1.983333</td>\n",
       "      <td>7.183333</td>\n",
       "      <td>47.600</td>\n",
       "      <td>Cultural</td>\n",
       "      <td>C</td>\n",
       "      <td>Benin</td>\n",
       "      <td>POINT (1.98333 7.18333)</td>\n",
       "    </tr>\n",
       "    <tr>\n",
       "      <th>84</th>\n",
       "      <td>NaN</td>\n",
       "      <td>Tsodilo</td>\n",
       "      <td>&lt;p&gt;With one of the highest concentrations of r...</td>\n",
       "      <td>&lt;p&gt;&lt;strong&gt;Criterion i:&lt;/strong&gt; For many thou...</td>\n",
       "      <td>2001</td>\n",
       "      <td>NaN</td>\n",
       "      <td>0</td>\n",
       "      <td>NaN</td>\n",
       "      <td>NaN</td>\n",
       "      <td>21.733333</td>\n",
       "      <td>-18.750000</td>\n",
       "      <td>4800.000</td>\n",
       "      <td>Cultural</td>\n",
       "      <td>C</td>\n",
       "      <td>Botswana</td>\n",
       "      <td>POINT (21.73333 -18.75000)</td>\n",
       "    </tr>\n",
       "    <tr>\n",
       "      <th>85</th>\n",
       "      <td>NaN</td>\n",
       "      <td>Okavango Delta</td>\n",
       "      <td>&lt;p&gt;This delta in north-west Botswana comprises...</td>\n",
       "      <td>NaN</td>\n",
       "      <td>2014</td>\n",
       "      <td>NaN</td>\n",
       "      <td>0</td>\n",
       "      <td>NaN</td>\n",
       "      <td>NaN</td>\n",
       "      <td>22.900000</td>\n",
       "      <td>-19.283333</td>\n",
       "      <td>2023590.000</td>\n",
       "      <td>Natural</td>\n",
       "      <td>N</td>\n",
       "      <td>Botswana</td>\n",
       "      <td>POINT (22.90000 -19.28333)</td>\n",
       "    </tr>\n",
       "    <tr>\n",
       "      <th>117</th>\n",
       "      <td>Rev</td>\n",
       "      <td>Ruins of Loropéni</td>\n",
       "      <td>&lt;p&gt;The 11,130m2 property, the first to be insc...</td>\n",
       "      <td>NaN</td>\n",
       "      <td>2009</td>\n",
       "      <td>NaN</td>\n",
       "      <td>0</td>\n",
       "      <td>NaN</td>\n",
       "      <td>NaN</td>\n",
       "      <td>-3.583333</td>\n",
       "      <td>10.250000</td>\n",
       "      <td>1.113</td>\n",
       "      <td>Cultural</td>\n",
       "      <td>C</td>\n",
       "      <td>Burkina Faso</td>\n",
       "      <td>POINT (-3.58333 10.25000)</td>\n",
       "    </tr>\n",
       "    <tr>\n",
       "      <th>...</th>\n",
       "      <td>...</td>\n",
       "      <td>...</td>\n",
       "      <td>...</td>\n",
       "      <td>...</td>\n",
       "      <td>...</td>\n",
       "      <td>...</td>\n",
       "      <td>...</td>\n",
       "      <td>...</td>\n",
       "      <td>...</td>\n",
       "      <td>...</td>\n",
       "      <td>...</td>\n",
       "      <td>...</td>\n",
       "      <td>...</td>\n",
       "      <td>...</td>\n",
       "      <td>...</td>\n",
       "      <td>...</td>\n",
       "    </tr>\n",
       "    <tr>\n",
       "      <th>1127</th>\n",
       "      <td>Rev</td>\n",
       "      <td>Sangha Trinational</td>\n",
       "      <td>&lt;p&gt;Situated in the north-western Congo Basin, ...</td>\n",
       "      <td>NaN</td>\n",
       "      <td>2012</td>\n",
       "      <td>NaN</td>\n",
       "      <td>0</td>\n",
       "      <td>NaN</td>\n",
       "      <td>NaN</td>\n",
       "      <td>16.554167</td>\n",
       "      <td>2.609444</td>\n",
       "      <td>746309.000</td>\n",
       "      <td>Natural</td>\n",
       "      <td>N</td>\n",
       "      <td>Cameroon,Central African Republic,Congo</td>\n",
       "      <td>POINT (16.55417 2.60944)</td>\n",
       "    </tr>\n",
       "    <tr>\n",
       "      <th>1132</th>\n",
       "      <td>-257</td>\n",
       "      <td>Mount Nimba Strict Nature Reserve</td>\n",
       "      <td>&lt;p&gt;Located on the borders of Guinea, Liberia a...</td>\n",
       "      <td>NaN</td>\n",
       "      <td>1981</td>\n",
       "      <td>1982</td>\n",
       "      <td>1</td>\n",
       "      <td>NaN</td>\n",
       "      <td>Y 1992</td>\n",
       "      <td>-8.390970</td>\n",
       "      <td>7.603180</td>\n",
       "      <td>17540.000</td>\n",
       "      <td>Natural</td>\n",
       "      <td>N</td>\n",
       "      <td>Côte d'Ivoire,Guinea</td>\n",
       "      <td>POINT (-8.39097 7.60318)</td>\n",
       "    </tr>\n",
       "    <tr>\n",
       "      <th>1138</th>\n",
       "      <td>NaN</td>\n",
       "      <td>Stone Circles of Senegambia</td>\n",
       "      <td>&lt;p&gt;The site consists of four large groups of s...</td>\n",
       "      <td>NaN</td>\n",
       "      <td>2006</td>\n",
       "      <td>NaN</td>\n",
       "      <td>0</td>\n",
       "      <td>NaN</td>\n",
       "      <td>NaN</td>\n",
       "      <td>-15.522500</td>\n",
       "      <td>13.691111</td>\n",
       "      <td>9.850</td>\n",
       "      <td>Cultural</td>\n",
       "      <td>C</td>\n",
       "      <td>Gambia (the),Senegal</td>\n",
       "      <td>POINT (-15.52250 13.69111)</td>\n",
       "    </tr>\n",
       "    <tr>\n",
       "      <th>1147</th>\n",
       "      <td>Bis</td>\n",
       "      <td>Maloti-Drakensberg Park</td>\n",
       "      <td>&lt;p&gt;The Maloti-Drakensberg Park is a transnatio...</td>\n",
       "      <td>NaN</td>\n",
       "      <td>2000</td>\n",
       "      <td>2013</td>\n",
       "      <td>0</td>\n",
       "      <td>NaN</td>\n",
       "      <td>NaN</td>\n",
       "      <td>29.123056</td>\n",
       "      <td>-29.765278</td>\n",
       "      <td>249313.000</td>\n",
       "      <td>Mixed</td>\n",
       "      <td>C/N</td>\n",
       "      <td>Lesotho,South Africa</td>\n",
       "      <td>POINT (29.12306 -29.76528)</td>\n",
       "    </tr>\n",
       "    <tr>\n",
       "      <th>1154</th>\n",
       "      <td>NaN</td>\n",
       "      <td>Mosi-oa-Tunya / Victoria Falls</td>\n",
       "      <td>&lt;p&gt;These are among the most spectacular waterf...</td>\n",
       "      <td>NaN</td>\n",
       "      <td>1989</td>\n",
       "      <td>NaN</td>\n",
       "      <td>0</td>\n",
       "      <td>NaN</td>\n",
       "      <td>NaN</td>\n",
       "      <td>25.855390</td>\n",
       "      <td>-17.924530</td>\n",
       "      <td>6860.000</td>\n",
       "      <td>Natural</td>\n",
       "      <td>N</td>\n",
       "      <td>Zambia,Zimbabwe</td>\n",
       "      <td>POINT (25.85539 -17.92453)</td>\n",
       "    </tr>\n",
       "  </tbody>\n",
       "</table>\n",
       "<p>98 rows × 16 columns</p>\n",
       "</div>"
      ],
      "text/plain": [
       "     rev_bis                                            name_en  \\\n",
       "12       NaN  Mbanza Kongo, Vestiges of the Capital of the f...   \n",
       "75       Bis                            Royal Palaces of Abomey   \n",
       "84       NaN                                            Tsodilo   \n",
       "85       NaN                                     Okavango Delta   \n",
       "117      Rev                                  Ruins of Loropéni   \n",
       "...      ...                                                ...   \n",
       "1127     Rev                                 Sangha Trinational   \n",
       "1132    -257                  Mount Nimba Strict Nature Reserve   \n",
       "1138     NaN                        Stone Circles of Senegambia   \n",
       "1147     Bis                            Maloti-Drakensberg Park   \n",
       "1154     NaN                     Mosi-oa-Tunya / Victoria Falls   \n",
       "\n",
       "                                   short_description_en  \\\n",
       "12    <p>The town of Mbanza Kongo, located on a plat...   \n",
       "75    <p>From 1625 to 1900, 12 kings succeeded one a...   \n",
       "84    <p>With one of the highest concentrations of r...   \n",
       "85    <p>This delta in north-west Botswana comprises...   \n",
       "117   <p>The 11,130m2 property, the first to be insc...   \n",
       "...                                                 ...   \n",
       "1127  <p>Situated in the north-western Congo Basin, ...   \n",
       "1132  <p>Located on the borders of Guinea, Liberia a...   \n",
       "1138  <p>The site consists of four large groups of s...   \n",
       "1147  <p>The Maloti-Drakensberg Park is a transnatio...   \n",
       "1154  <p>These are among the most spectacular waterf...   \n",
       "\n",
       "                                       justification_en  date_inscribed  \\\n",
       "12                                                  NaN            2017   \n",
       "75                                                  NaN            1985   \n",
       "84    <p><strong>Criterion i:</strong> For many thou...            2001   \n",
       "85                                                  NaN            2014   \n",
       "117                                                 NaN            2009   \n",
       "...                                                 ...             ...   \n",
       "1127                                                NaN            2012   \n",
       "1132                                                NaN            1981   \n",
       "1138                                                NaN            2006   \n",
       "1147                                                NaN            2000   \n",
       "1154                                                NaN            1989   \n",
       "\n",
       "     secondary_dates  danger  date_end  danger_list  longitude   latitude  \\\n",
       "12               NaN       0       NaN          NaN  14.249722  -6.268889   \n",
       "75               NaN       0    2007.0  P 1985-2007   1.983333   7.183333   \n",
       "84               NaN       0       NaN          NaN  21.733333 -18.750000   \n",
       "85               NaN       0       NaN          NaN  22.900000 -19.283333   \n",
       "117              NaN       0       NaN          NaN  -3.583333  10.250000   \n",
       "...              ...     ...       ...          ...        ...        ...   \n",
       "1127             NaN       0       NaN          NaN  16.554167   2.609444   \n",
       "1132            1982       1       NaN       Y 1992  -8.390970   7.603180   \n",
       "1138             NaN       0       NaN          NaN -15.522500  13.691111   \n",
       "1147            2013       0       NaN          NaN  29.123056 -29.765278   \n",
       "1154             NaN       0       NaN          NaN  25.855390 -17.924530   \n",
       "\n",
       "      area_hectares  category category_short  \\\n",
       "12           89.290  Cultural              C   \n",
       "75           47.600  Cultural              C   \n",
       "84         4800.000  Cultural              C   \n",
       "85      2023590.000   Natural              N   \n",
       "117           1.113  Cultural              C   \n",
       "...             ...       ...            ...   \n",
       "1127     746309.000   Natural              N   \n",
       "1132      17540.000   Natural              N   \n",
       "1138          9.850  Cultural              C   \n",
       "1147     249313.000     Mixed            C/N   \n",
       "1154       6860.000   Natural              N   \n",
       "\n",
       "                               states_name_en                    geometry  \n",
       "12                                     Angola   POINT (14.24972 -6.26889)  \n",
       "75                                      Benin     POINT (1.98333 7.18333)  \n",
       "84                                   Botswana  POINT (21.73333 -18.75000)  \n",
       "85                                   Botswana  POINT (22.90000 -19.28333)  \n",
       "117                              Burkina Faso   POINT (-3.58333 10.25000)  \n",
       "...                                       ...                         ...  \n",
       "1127  Cameroon,Central African Republic,Congo    POINT (16.55417 2.60944)  \n",
       "1132                     Côte d'Ivoire,Guinea    POINT (-8.39097 7.60318)  \n",
       "1138                     Gambia (the),Senegal  POINT (-15.52250 13.69111)  \n",
       "1147                     Lesotho,South Africa  POINT (29.12306 -29.76528)  \n",
       "1154                          Zambia,Zimbabwe  POINT (25.85539 -17.92453)  \n",
       "\n",
       "[98 rows x 16 columns]"
      ]
     },
     "execution_count": 32,
     "metadata": {},
     "output_type": "execute_result"
    }
   ],
   "source": [
    "data_df_transformed"
   ]
  },
  {
   "cell_type": "code",
   "execution_count": 7,
   "metadata": {},
   "outputs": [
    {
     "data": {
      "text/plain": [
       "<AxesSubplot: >"
      ]
     },
     "execution_count": 7,
     "metadata": {},
     "output_type": "execute_result"
    },
    {
     "data": {
      "image/png": "[encoded data removed]",
      "text/plain": [
       "<Figure size 640x480 with 1 Axes>"
      ]
     },
     "metadata": {},
     "output_type": "display_data"
    }
   ],
   "source": [
    "data_df_transformed['area_hectares'].hist()"
   ]
  },
  {
   "cell_type": "code",
   "execution_count": 26,
   "metadata": {},
   "outputs": [
    {
     "data": {
      "text/plain": [
       "<AxesSubplot: >"
      ]
     },
     "execution_count": 26,
     "metadata": {},
     "output_type": "execute_result"
    },
    {
     "data": {
      "image/png": "[encoded data removed]",
      "text/plain": [
       "<Figure size 640x480 with 1 Axes>"
      ]
     },
     "metadata": {},
     "output_type": "display_data"
    }
   ],
   "source": [
    "data_df_transformed['category'].value_counts().plot.bar()"
   ]
  },
  {
   "cell_type": "code",
   "execution_count": 43,
   "metadata": {},
   "outputs": [
    {
     "data": {
      "image/png": "[encoded data removed]",
      "text/plain": [
       "<Figure size 640x480 with 1 Axes>"
      ]
     },
     "metadata": {},
     "output_type": "display_data"
    }
   ],
   "source": [
    "import matplotlib.pyplot as plt\n",
    "# assuming your data is in a dataframe called df\n",
    "\n",
    "data_df_transformed.groupby(['category', 'danger'])['states_name_en'].count().unstack().plot(kind='bar', stacked=True)\n",
    "\n",
    "plt.title('Frequency of Categories by Danger')\n",
    "plt.xlabel('Category')\n",
    "plt.ylabel('Count')\n",
    "\n",
    "plt.show()\n"
   ]
  },
  {
   "cell_type": "code",
   "execution_count": 8,
   "metadata": {},
   "outputs": [
    {
     "data": {
      "text/html": [
       "<div style=\"width:100%;\"><div style=\"position:relative;width:100%;height:0;padding-bottom:60%;\"><span style=\"color:#565656\">Make this Notebook Trusted to load map: File -> Trust Notebook</span><iframe srcdoc=\"&lt;!DOCTYPE html&gt;\n",
       "&lt;html&gt;\n",
       "&lt;head&gt;\n",
       "    \n",
       "    &lt;meta http-equiv=&quot;content-type&quot; content=&quot;text/html; charset=UTF-8&quot; /&gt;\n",
       "    \n",
       "        &lt;script&gt;\n",
       "            L_NO_TOUCH = false;\n",
       "            L_DISABLE_3D = false;\n",
       "        &lt;/script&gt;\n",
       "    \n",
       "    &lt;style&gt;html, body {width: 100%;height: 100%;margin: 0;padding: 0;}&lt;/style&gt;\n",
       "    &lt;style&gt;#map {position:absolute;top:0;bottom:0;right:0;left:0;}&lt;/style&gt;\n",
       "    &lt;script src=&quot;https://cdn.jsdelivr.net/npm/leaflet@1.9.3/dist/leaflet.js&quot;&gt;&lt;/script&gt;\n",
       "    &lt;script src=&quot;https://code.jquery.com/jquery-1.12.4.min.js&quot;&gt;&lt;/script&gt;\n",
       "    &lt;script src=&quot;https://cdn.jsdelivr.net/npm/bootstrap@5.2.2/dist/js/bootstrap.bundle.min.js&quot;&gt;&lt;/script&gt;\n",
       "    &lt;script src=&quot;https://cdnjs.cloudflare.com/ajax/libs/Leaflet.awesome-markers/2.0.2/leaflet.awesome-markers.js&quot;&gt;&lt;/script&gt;\n",
       "    &lt;link rel=&quot;stylesheet&quot; href=&quot;https://cdn.jsdelivr.net/npm/leaflet@1.9.3/dist/leaflet.css&quot;/&gt;\n",
       "    &lt;link rel=&quot;stylesheet&quot; href=&quot;https://cdn.jsdelivr.net/npm/bootstrap@5.2.2/dist/css/bootstrap.min.css&quot;/&gt;\n",
       "    &lt;link rel=&quot;stylesheet&quot; href=&quot;https://netdna.bootstrapcdn.com/bootstrap/3.0.0/css/bootstrap.min.css&quot;/&gt;\n",
       "    &lt;link rel=&quot;stylesheet&quot; href=&quot;https://cdn.jsdelivr.net/npm/@fortawesome/fontawesome-free@6.2.0/css/all.min.css&quot;/&gt;\n",
       "    &lt;link rel=&quot;stylesheet&quot; href=&quot;https://cdnjs.cloudflare.com/ajax/libs/Leaflet.awesome-markers/2.0.2/leaflet.awesome-markers.css&quot;/&gt;\n",
       "    &lt;link rel=&quot;stylesheet&quot; href=&quot;https://cdn.jsdelivr.net/gh/python-visualization/folium/folium/templates/leaflet.awesome.rotate.min.css&quot;/&gt;\n",
       "    \n",
       "            &lt;meta name=&quot;viewport&quot; content=&quot;width=device-width,\n",
       "                initial-scale=1.0, maximum-scale=1.0, user-scalable=no&quot; /&gt;\n",
       "            &lt;style&gt;\n",
       "                #map_30f8b32e03ebbe91f13a9f18664412e0 {\n",
       "                    position: relative;\n",
       "                    width: 100.0%;\n",
       "                    height: 100.0%;\n",
       "                    left: 0.0%;\n",
       "                    top: 0.0%;\n",
       "                }\n",
       "                .leaflet-container { font-size: 1rem; }\n",
       "            &lt;/style&gt;\n",
       "        \n",
       "    \n",
       "                    &lt;style&gt;\n",
       "                        .foliumtooltip {\n",
       "                            \n",
       "                        }\n",
       "                       .foliumtooltip table{\n",
       "                            margin: auto;\n",
       "                        }\n",
       "                        .foliumtooltip tr{\n",
       "                            text-align: left;\n",
       "                        }\n",
       "                        .foliumtooltip th{\n",
       "                            padding: 2px; padding-right: 8px;\n",
       "                        }\n",
       "                    &lt;/style&gt;\n",
       "            \n",
       "    \n",
       "    &lt;script src=&quot;https://code.jquery.com/ui/1.12.1/jquery-ui.js&quot;&gt;&lt;/script&gt;\n",
       "    &lt;script&gt;$( function() {\n",
       "        $( &quot;.maplegend&quot; ).draggable({\n",
       "            start: function (event, ui) {\n",
       "                $(this).css({\n",
       "                    right: &quot;auto&quot;,\n",
       "                    top: &quot;auto&quot;,\n",
       "                    bottom: &quot;auto&quot;\n",
       "                });\n",
       "            }\n",
       "        });\n",
       "    });\n",
       "    &lt;/script&gt;\n",
       "    &lt;style type=&#x27;text/css&#x27;&gt;\n",
       "      .maplegend {\n",
       "        position: absolute;\n",
       "        z-index:9999;\n",
       "        background-color: rgba(255, 255, 255, .8);\n",
       "        border-radius: 5px;\n",
       "        box-shadow: 0 0 15px rgba(0,0,0,0.2);\n",
       "        padding: 10px;\n",
       "        font: 12px/14px Arial, Helvetica, sans-serif;\n",
       "        right: 10px;\n",
       "        bottom: 20px;\n",
       "      }\n",
       "      .maplegend .legend-title {\n",
       "        text-align: left;\n",
       "        margin-bottom: 5px;\n",
       "        font-weight: bold;\n",
       "        }\n",
       "      .maplegend .legend-scale ul {\n",
       "        margin: 0;\n",
       "        margin-bottom: 0px;\n",
       "        padding: 0;\n",
       "        float: left;\n",
       "        list-style: none;\n",
       "        }\n",
       "      .maplegend .legend-scale ul li {\n",
       "        list-style: none;\n",
       "        margin-left: 0;\n",
       "        line-height: 16px;\n",
       "        margin-bottom: 2px;\n",
       "        }\n",
       "      .maplegend ul.legend-labels li span {\n",
       "        display: block;\n",
       "        float: left;\n",
       "        height: 14px;\n",
       "        width: 14px;\n",
       "        margin-right: 5px;\n",
       "        margin-left: 0;\n",
       "        border: 0px solid #ccc;\n",
       "        }\n",
       "      .maplegend .legend-source {\n",
       "        color: #777;\n",
       "        clear: both;\n",
       "        }\n",
       "      .maplegend a {\n",
       "        color: #777;\n",
       "        }\n",
       "    &lt;/style&gt;\n",
       "    \n",
       "&lt;/head&gt;\n",
       "&lt;body&gt;\n",
       "    \n",
       "    \n",
       "    &lt;div id=&#x27;maplegend category&#x27; class=&#x27;maplegend&#x27;&gt;\n",
       "        &lt;div class=&#x27;legend-title&#x27;&gt;category&lt;/div&gt;\n",
       "        &lt;div class=&#x27;legend-scale&#x27;&gt;\n",
       "            &lt;ul class=&#x27;legend-labels&#x27;&gt;\n",
       "                &lt;li&gt;&lt;span style=&#x27;background:#e41a1c&#x27;&gt;&lt;/span&gt;Cultural&lt;/li&gt;\n",
       "                &lt;li&gt;&lt;span style=&#x27;background:#ff7f00&#x27;&gt;&lt;/span&gt;Mixed&lt;/li&gt;\n",
       "                &lt;li&gt;&lt;span style=&#x27;background:#999999&#x27;&gt;&lt;/span&gt;Natural&lt;/li&gt;\n",
       "            &lt;/ul&gt;\n",
       "        &lt;/div&gt;\n",
       "    &lt;/div&gt;\n",
       "    \n",
       "    \n",
       "            &lt;div class=&quot;folium-map&quot; id=&quot;map_30f8b32e03ebbe91f13a9f18664412e0&quot; &gt;&lt;/div&gt;\n",
       "        \n",
       "&lt;/body&gt;\n",
       "&lt;script&gt;\n",
       "    \n",
       "    \n",
       "            var map_30f8b32e03ebbe91f13a9f18664412e0 = L.map(\n",
       "                &quot;map_30f8b32e03ebbe91f13a9f18664412e0&quot;,\n",
       "                {\n",
       "                    center: [-7.653055555550001, 16.9489861111],\n",
       "                    crs: L.CRS.EPSG3857,\n",
       "                    zoom: 10,\n",
       "                    zoomControl: true,\n",
       "                    preferCanvas: false,\n",
       "                }\n",
       "            );\n",
       "            L.control.scale().addTo(map_30f8b32e03ebbe91f13a9f18664412e0);\n",
       "\n",
       "            \n",
       "\n",
       "        \n",
       "    \n",
       "            var tile_layer_7655d9c7c1222ba00e1b2c4918891416 = L.tileLayer(\n",
       "                &quot;https://{s}.tile.openstreetmap.org/{z}/{x}/{y}.png&quot;,\n",
       "                {&quot;attribution&quot;: &quot;Data by \\u0026copy; \\u003ca target=\\&quot;_blank\\&quot; href=\\&quot;http://openstreetmap.org\\&quot;\\u003eOpenStreetMap\\u003c/a\\u003e, under \\u003ca target=\\&quot;_blank\\&quot; href=\\&quot;http://www.openstreetmap.org/copyright\\&quot;\\u003eODbL\\u003c/a\\u003e.&quot;, &quot;detectRetina&quot;: false, &quot;maxNativeZoom&quot;: 18, &quot;maxZoom&quot;: 18, &quot;minZoom&quot;: 0, &quot;noWrap&quot;: false, &quot;opacity&quot;: 1, &quot;subdomains&quot;: &quot;abc&quot;, &quot;tms&quot;: false}\n",
       "            ).addTo(map_30f8b32e03ebbe91f13a9f18664412e0);\n",
       "        \n",
       "    \n",
       "            map_30f8b32e03ebbe91f13a9f18664412e0.fitBounds(\n",
       "                [[-34.3611111111, -23.6051944444], [19.055, 57.5031666666]],\n",
       "                {}\n",
       "            );\n",
       "        \n",
       "    \n",
       "        function geo_json_028ec20f91f5e6086719f07de3880b5a_styler(feature) {\n",
       "            switch(feature.id) {\n",
       "                case &quot;85&quot;: case &quot;123&quot;: case &quot;142&quot;: case &quot;143&quot;: case &quot;217&quot;: case &quot;218&quot;: case &quot;255&quot;: case &quot;256&quot;: case &quot;257&quot;: case &quot;258&quot;: case &quot;259&quot;: case &quot;285&quot;: case &quot;344&quot;: case &quot;604&quot;: case &quot;605&quot;: case &quot;607&quot;: case &quot;630&quot;: case &quot;632&quot;: case &quot;633&quot;: case &quot;705&quot;: case &quot;724&quot;: case &quot;862&quot;: case &quot;864&quot;: case &quot;872&quot;: case &quot;873&quot;: case &quot;883&quot;: case &quot;886&quot;: case &quot;888&quot;: case &quot;891&quot;: case &quot;1016&quot;: case &quot;1017&quot;: case &quot;1058&quot;: case &quot;1060&quot;: case &quot;1061&quot;: case &quot;1108&quot;: case &quot;1125&quot;: case &quot;1127&quot;: case &quot;1132&quot;: case &quot;1154&quot;: \n",
       "                    return {&quot;color&quot;: &quot;#999999&quot;, &quot;fillColor&quot;: &quot;#999999&quot;, &quot;fillOpacity&quot;: 0.5, &quot;weight&quot;: 2};\n",
       "                case &quot;144&quot;: case &quot;343&quot;: case &quot;641&quot;: case &quot;1056&quot;: case &quot;1147&quot;: \n",
       "                    return {&quot;color&quot;: &quot;#ff7f00&quot;, &quot;fillColor&quot;: &quot;#ff7f00&quot;, &quot;fillOpacity&quot;: 0.5, &quot;weight&quot;: 2};\n",
       "                default:\n",
       "                    return {&quot;color&quot;: &quot;#e41a1c&quot;, &quot;fillColor&quot;: &quot;#e41a1c&quot;, &quot;fillOpacity&quot;: 0.5, &quot;weight&quot;: 2};\n",
       "            }\n",
       "        }\n",
       "        function geo_json_028ec20f91f5e6086719f07de3880b5a_highlighter(feature) {\n",
       "            switch(feature.id) {\n",
       "                default:\n",
       "                    return {&quot;fillOpacity&quot;: 0.75};\n",
       "            }\n",
       "        }\n",
       "        function geo_json_028ec20f91f5e6086719f07de3880b5a_pointToLayer(feature, latlng) {\n",
       "            var opts = {&quot;bubblingMouseEvents&quot;: true, &quot;color&quot;: &quot;#3388ff&quot;, &quot;dashArray&quot;: null, &quot;dashOffset&quot;: null, &quot;fill&quot;: true, &quot;fillColor&quot;: &quot;#3388ff&quot;, &quot;fillOpacity&quot;: 0.2, &quot;fillRule&quot;: &quot;evenodd&quot;, &quot;lineCap&quot;: &quot;round&quot;, &quot;lineJoin&quot;: &quot;round&quot;, &quot;opacity&quot;: 1.0, &quot;radius&quot;: 2, &quot;stroke&quot;: true, &quot;weight&quot;: 3};\n",
       "            \n",
       "            let style = geo_json_028ec20f91f5e6086719f07de3880b5a_styler(feature)\n",
       "            Object.assign(opts, style)\n",
       "            \n",
       "            return new L.CircleMarker(latlng, opts)\n",
       "        }\n",
       "\n",
       "        function geo_json_028ec20f91f5e6086719f07de3880b5a_onEachFeature(feature, layer) {\n",
       "            layer.on({\n",
       "                mouseout: function(e) {\n",
       "                    if(typeof e.target.setStyle === &quot;function&quot;){\n",
       "                        geo_json_028ec20f91f5e6086719f07de3880b5a.resetStyle(e.target);\n",
       "                    }\n",
       "                },\n",
       "                mouseover: function(e) {\n",
       "                    if(typeof e.target.setStyle === &quot;function&quot;){\n",
       "                        const highlightStyle = geo_json_028ec20f91f5e6086719f07de3880b5a_highlighter(e.target.feature)\n",
       "                        e.target.setStyle(highlightStyle);\n",
       "                    }\n",
       "                },\n",
       "            });\n",
       "        };\n",
       "        var geo_json_028ec20f91f5e6086719f07de3880b5a = L.geoJson(null, {\n",
       "                onEachFeature: geo_json_028ec20f91f5e6086719f07de3880b5a_onEachFeature,\n",
       "            \n",
       "                style: geo_json_028ec20f91f5e6086719f07de3880b5a_styler,\n",
       "                pointToLayer: geo_json_028ec20f91f5e6086719f07de3880b5a_pointToLayer\n",
       "        });\n",
       "\n",
       "        function geo_json_028ec20f91f5e6086719f07de3880b5a_add (data) {\n",
       "            geo_json_028ec20f91f5e6086719f07de3880b5a\n",
       "                .addData(data)\n",
       "                .addTo(map_30f8b32e03ebbe91f13a9f18664412e0);\n",
       "        }\n",
       "            geo_json_028ec20f91f5e6086719f07de3880b5a_add({&quot;bbox&quot;: [-23.6051944444, -34.3611111111, 57.5031666666, 19.055], &quot;features&quot;: [{&quot;bbox&quot;: [14.2497222222, -6.2688888889, 14.2497222222, -6.2688888889], &quot;geometry&quot;: {&quot;coordinates&quot;: [14.2497222222, -6.2688888889], &quot;type&quot;: &quot;Point&quot;}, &quot;id&quot;: &quot;12&quot;, &quot;properties&quot;: {&quot;__folium_color&quot;: &quot;#e41a1c&quot;, &quot;area_hectares&quot;: 89.29, &quot;category&quot;: &quot;Cultural&quot;, &quot;category_short&quot;: &quot;C&quot;, &quot;danger&quot;: 0, &quot;danger_list&quot;: null, &quot;date_end&quot;: null, &quot;date_inscribed&quot;: 2017, &quot;justification_en&quot;: null, &quot;latitude&quot;: -6.2688888889, &quot;longitude&quot;: 14.2497222222, &quot;name_en&quot;: &quot;Mbanza Kongo, Vestiges of the Capital of the former Kingdom of Kongo&quot;, &quot;rev_bis&quot;: null, &quot;secondary_dates&quot;: null, &quot;short_description_en&quot;: &quot;\\u003cp\\u003eThe town of Mbanza Kongo, located on a plateau at an altitude of 570 m, was the political and spiritual capital of the Kingdom of Kongo, one of the largest constituted states in Southern Africa from the 14th\\u00a0to 19th centuries. The historical area grew around the royal residence, the customary court and the holy tree, as well as the royal funeral places. When the Portuguese arrived in the 15th\\u00a0century they added stone buildings constructed in accordance with European methods to the existing urban conurbation built in local materials. Mbanza Kongo illustrates, more than anywhere in sub-Saharan Africa, the profound changes caused by the introduction of Christianity and the arrival of the Portuguese into Central Africa.\\u003c/p\\u003e&quot;, &quot;states_name_en&quot;: &quot;Angola&quot;}, &quot;type&quot;: &quot;Feature&quot;}, {&quot;bbox&quot;: [1.983333333, 7.183333333, 1.983333333, 7.183333333], &quot;geometry&quot;: {&quot;coordinates&quot;: [1.983333333, 7.183333333], &quot;type&quot;: &quot;Point&quot;}, &quot;id&quot;: &quot;75&quot;, &quot;properties&quot;: {&quot;__folium_color&quot;: &quot;#e41a1c&quot;, &quot;area_hectares&quot;: 47.6, &quot;category&quot;: &quot;Cultural&quot;, &quot;category_short&quot;: &quot;C&quot;, &quot;danger&quot;: 0, &quot;danger_list&quot;: &quot;P 1985-2007&quot;, &quot;date_end&quot;: 2007.0, &quot;date_inscribed&quot;: 1985, &quot;justification_en&quot;: null, &quot;latitude&quot;: 7.183333333, &quot;longitude&quot;: 1.983333333, &quot;name_en&quot;: &quot;Royal Palaces of Abomey&quot;, &quot;rev_bis&quot;: &quot;Bis&quot;, &quot;secondary_dates&quot;: null, &quot;short_description_en&quot;: &quot;\\u003cp\\u003eFrom 1625 to 1900, 12 kings succeeded one another at the head of the powerful Kingdom of Abomey. With the exception of King Akaba, who had his own separate enclosure, they all had their palaces built within the same cob-wall area, in keeping with previous palaces as regards the use of space and materials. The royal palaces of Abomey are a unique reminder of this vanished kingdom.\\u003c/p\\u003e&quot;, &quot;states_name_en&quot;: &quot;Benin&quot;}, &quot;type&quot;: &quot;Feature&quot;}, {&quot;bbox&quot;: [21.73333333, -18.75, 21.73333333, -18.75], &quot;geometry&quot;: {&quot;coordinates&quot;: [21.73333333, -18.75], &quot;type&quot;: &quot;Point&quot;}, &quot;id&quot;: &quot;84&quot;, &quot;properties&quot;: {&quot;__folium_color&quot;: &quot;#e41a1c&quot;, &quot;area_hectares&quot;: 4800.0, &quot;category&quot;: &quot;Cultural&quot;, &quot;category_short&quot;: &quot;C&quot;, &quot;danger&quot;: 0, &quot;danger_list&quot;: null, &quot;date_end&quot;: null, &quot;date_inscribed&quot;: 2001, &quot;justification_en&quot;: &quot;\\u003cp\\u003e\\u003cstrong\\u003eCriterion i:\\u003c/strong\\u003e For many thousands of years the rocky outcrops of Tsodilo in the harsh landscape of the Kalahari Desert have been visited and settled by humans, who have left rich traces of their presence in the form of outstanding rock art.\\u003c/p\\u003e\\n\\u003cp\\u003e\\u003cstrong\\u003eCriterion iii:\\u003c/strong\\u003e Tsodilo is a site that has witnessed visits and settlement by successive human communities for many millennia.\\u003c/p\\u003e\\n\\u003cp\\u003e\\u003cstrong\\u003eCriterion vi: \\u003c/strong\\u003eThe Tsodilo outcrops have immense symbolic and religious significance for the human communities who continue to survive in this hostile environment.\\u003c/p\\u003e&quot;, &quot;latitude&quot;: -18.75, &quot;longitude&quot;: 21.73333333, &quot;name_en&quot;: &quot;Tsodilo&quot;, &quot;rev_bis&quot;: null, &quot;secondary_dates&quot;: null, &quot;short_description_en&quot;: &quot;\\u003cp\\u003eWith one of the highest concentrations of rock art in the world, Tsodilo has been called the \\u0027\\u0027Louvre of the Desert\\u0027\\u0027. Over 4,500 paintings are preserved in an area of only 10 km2 of the Kalahari Desert. The archaeological record of the area gives a chronological account of human activities and environmental changes over at least 100,000 years. Local communities in this hostile environment respect Tsodilo as a place of worship frequented by ancestral spirits.\\u003c/p\\u003e&quot;, &quot;states_name_en&quot;: &quot;Botswana&quot;}, &quot;type&quot;: &quot;Feature&quot;}, {&quot;bbox&quot;: [22.9, -19.2833333333, 22.9, -19.2833333333], &quot;geometry&quot;: {&quot;coordinates&quot;: [22.9, -19.2833333333], &quot;type&quot;: &quot;Point&quot;}, &quot;id&quot;: &quot;85&quot;, &quot;properties&quot;: {&quot;__folium_color&quot;: &quot;#999999&quot;, &quot;area_hectares&quot;: 2023590.0, &quot;category&quot;: &quot;Natural&quot;, &quot;category_short&quot;: &quot;N&quot;, &quot;danger&quot;: 0, &quot;danger_list&quot;: null, &quot;date_end&quot;: null, &quot;date_inscribed&quot;: 2014, &quot;justification_en&quot;: null, &quot;latitude&quot;: -19.2833333333, &quot;longitude&quot;: 22.9, &quot;name_en&quot;: &quot;Okavango Delta&quot;, &quot;rev_bis&quot;: null, &quot;secondary_dates&quot;: null, &quot;short_description_en&quot;: &quot;\\u003cp\\u003eThis delta in north-west Botswana comprises permanent marshlands and seasonally flooded plains. It is one of the very few major interior delta systems that do not flow into a sea or ocean, with a wetland system that is almost intact. One of the unique characteristics of the site is that the annual flooding from the River Okavango occurs during the dry season, with the result that the native plants and animals have synchronized their biological cycles with these seasonal rains and floods. It is an exceptional example of the interaction between climatic, hydrological and biological processes. The Okavango Delta is home to some of the world\\u0026rsquo;s most endangered species of large mammal, such as the cheetah, white rhinoceros, black rhinoceros, African wild dog and lion.\\u003c/p\\u003e&quot;, &quot;states_name_en&quot;: &quot;Botswana&quot;}, &quot;type&quot;: &quot;Feature&quot;}, {&quot;bbox&quot;: [-3.5833333333, 10.25, -3.5833333333, 10.25], &quot;geometry&quot;: {&quot;coordinates&quot;: [-3.5833333333, 10.25], &quot;type&quot;: &quot;Point&quot;}, &quot;id&quot;: &quot;117&quot;, &quot;properties&quot;: {&quot;__folium_color&quot;: &quot;#e41a1c&quot;, &quot;area_hectares&quot;: 1.113, &quot;category&quot;: &quot;Cultural&quot;, &quot;category_short&quot;: &quot;C&quot;, &quot;danger&quot;: 0, &quot;danger_list&quot;: null, &quot;date_end&quot;: null, &quot;date_inscribed&quot;: 2009, &quot;justification_en&quot;: null, &quot;latitude&quot;: 10.25, &quot;longitude&quot;: -3.5833333333, &quot;name_en&quot;: &quot;Ruins of Lorop\\u00e9ni&quot;, &quot;rev_bis&quot;: &quot;Rev&quot;, &quot;secondary_dates&quot;: null, &quot;short_description_en&quot;: &quot;\\u003cp\\u003eThe 11,130m2 property, the first to be inscribed in the country, with its imposing stone walls is the best preserved of ten fortresses in the Lobi area and is part of a larger group of 100 stone enclosures that bear testimony to the power of the trans-Saharan gold trade. Situated near the borders of C\\u00f4te d\\u2019Ivoire, Ghana and Togo, the ruins have recently been shown to be at least 1,000 years old. The settlement was occupied by the Lohron or Koulango peoples, who controlled the extraction and transformation of gold in the region when it reached its apogee from the 14th to the 17th century. Much mystery surrounds this site large parts of which have yet to be excavated. The settlement seems to have been abandoned during some periods during its long history. The property which was finally deserted in the early 19th century is expected to yield much more information.\\u003c/p\\u003e&quot;, &quot;states_name_en&quot;: &quot;Burkina Faso&quot;}, &quot;type&quot;: &quot;Feature&quot;}, {&quot;bbox&quot;: [-3.3289861111, 12.5877583333, -3.3289861111, 12.5877583333], &quot;geometry&quot;: {&quot;coordinates&quot;: [-3.3289861111, 12.5877583333], &quot;type&quot;: &quot;Point&quot;}, &quot;id&quot;: &quot;118&quot;, &quot;properties&quot;: {&quot;__folium_color&quot;: &quot;#e41a1c&quot;, &quot;area_hectares&quot;: 122.3, &quot;category&quot;: &quot;Cultural&quot;, &quot;category_short&quot;: &quot;C&quot;, &quot;danger&quot;: 0, &quot;danger_list&quot;: null, &quot;date_end&quot;: null, &quot;date_inscribed&quot;: 2019, &quot;justification_en&quot;: null, &quot;latitude&quot;: 12.5877583333, &quot;longitude&quot;: -3.3289861111, &quot;name_en&quot;: &quot;Ancient Ferrous Metallurgy Sites of Burkina Faso&quot;, &quot;rev_bis&quot;: null, &quot;secondary_dates&quot;: null, &quot;short_description_en&quot;: &quot;This property is composed of five elements located in different provinces of the country. It includes about fifteen standing, natural-draught furnaces, several other furnace structures, mines and traces of dwellings. Douroula, which dates back to the 8th century BCE, is the oldest evidence of the development of iron production found in Burkina Faso. The other components of the property \\u2013 Tiw\\u00eaga, Yaman\\u00e9, Kindibo and B\\u00e9kuy \\u2013 illustrate the intensification of iron production during the second millennium CE. Even though iron ore reduction \\u2013obtaining iron from ore \\u2013 is no longer practiced today, village blacksmiths still play a major role in supplying tools, while taking part in various rituals.&quot;, &quot;states_name_en&quot;: &quot;Burkina Faso&quot;}, &quot;type&quot;: &quot;Feature&quot;}, {&quot;bbox&quot;: [-23.6051944444, 14.9151388889, -23.6051944444, 14.9151388889], &quot;geometry&quot;: {&quot;coordinates&quot;: [-23.6051944444, 14.9151388889], &quot;type&quot;: &quot;Point&quot;}, &quot;id&quot;: &quot;119&quot;, &quot;properties&quot;: {&quot;__folium_color&quot;: &quot;#e41a1c&quot;, &quot;area_hectares&quot;: 209.1, &quot;category&quot;: &quot;Cultural&quot;, &quot;category_short&quot;: &quot;C&quot;, &quot;danger&quot;: 0, &quot;danger_list&quot;: null, &quot;date_end&quot;: null, &quot;date_inscribed&quot;: 2009, &quot;justification_en&quot;: null, &quot;latitude&quot;: 14.9151388889, &quot;longitude&quot;: -23.6051944444, &quot;name_en&quot;: &quot;Cidade Velha, Historic Centre of Ribeira Grande&quot;, &quot;rev_bis&quot;: null, &quot;secondary_dates&quot;: null, &quot;short_description_en&quot;: &quot;\\u003cp\\u003eThe town of Ribeira Grande, renamed Cidade Velha in the late 18th century, was the first European colonial outpost in the tropics. Located in the south of the island of Santiago, the town features some of the original street layout impressive remains including two churches, a royal fortress and Pillory Square with its ornate 16th century marble pillar.\\u003c/p\\u003e&quot;, &quot;states_name_en&quot;: &quot;Cabo Verde&quot;}, &quot;type&quot;: &quot;Feature&quot;}, {&quot;bbox&quot;: [13.0, 3.0, 13.0, 3.0], &quot;geometry&quot;: {&quot;coordinates&quot;: [13.0, 3.0], &quot;type&quot;: &quot;Point&quot;}, &quot;id&quot;: &quot;123&quot;, &quot;properties&quot;: {&quot;__folium_color&quot;: &quot;#999999&quot;, &quot;area_hectares&quot;: 526000.0, &quot;category&quot;: &quot;Natural&quot;, &quot;category_short&quot;: &quot;N&quot;, &quot;danger&quot;: 0, &quot;danger_list&quot;: null, &quot;date_end&quot;: null, &quot;date_inscribed&quot;: 1987, &quot;justification_en&quot;: null, &quot;latitude&quot;: 3.0, &quot;longitude&quot;: 13.0, &quot;name_en&quot;: &quot;Dja Faunal Reserve&quot;, &quot;rev_bis&quot;: null, &quot;secondary_dates&quot;: null, &quot;short_description_en&quot;: &quot;\\u003cp\\u003eThis is one of the largest and best-protected rainforests in Africa, with 90% of its area left undisturbed. Almost completely surrounded by the Dja River, which forms a natural boundary, the reserve is especially noted for its biodiversity and a wide variety of primates. It contains 107 mammal species, five of which are threatened.\\u003c/p\\u003e&quot;, &quot;states_name_en&quot;: &quot;Cameroon&quot;}, &quot;type&quot;: &quot;Feature&quot;}, {&quot;bbox&quot;: [21.5, 9.0, 21.5, 9.0], &quot;geometry&quot;: {&quot;coordinates&quot;: [21.5, 9.0], &quot;type&quot;: &quot;Point&quot;}, &quot;id&quot;: &quot;142&quot;, &quot;properties&quot;: {&quot;__folium_color&quot;: &quot;#999999&quot;, &quot;area_hectares&quot;: 1740000.0, &quot;category&quot;: &quot;Natural&quot;, &quot;category_short&quot;: &quot;N&quot;, &quot;danger&quot;: 1, &quot;danger_list&quot;: &quot;Y 1997&quot;, &quot;date_end&quot;: null, &quot;date_inscribed&quot;: 1988, &quot;justification_en&quot;: null, &quot;latitude&quot;: 9.0, &quot;longitude&quot;: 21.5, &quot;name_en&quot;: &quot;Manovo-Gounda St Floris National Park&quot;, &quot;rev_bis&quot;: null, &quot;secondary_dates&quot;: null, &quot;short_description_en&quot;: &quot;\\u003cp\\u003eThe importance of this park derives from its wealth of flora and fauna. Its vast savannahs are home to a wide variety of species: black rhinoceroses, elephants, cheetahs, leopards, wild dogs, red-fronted gazelles and buffalo, while various types of waterfowl are to be found in the northern floodplains.\\u003c/p\\u003e&quot;, &quot;states_name_en&quot;: &quot;Central African Republic&quot;}, &quot;type&quot;: &quot;Feature&quot;}, {&quot;bbox&quot;: [20.5055555556, 19.055, 20.5055555556, 19.055], &quot;geometry&quot;: {&quot;coordinates&quot;: [20.5055555556, 19.055], &quot;type&quot;: &quot;Point&quot;}, &quot;id&quot;: &quot;143&quot;, &quot;properties&quot;: {&quot;__folium_color&quot;: &quot;#999999&quot;, &quot;area_hectares&quot;: 62808.0, &quot;category&quot;: &quot;Natural&quot;, &quot;category_short&quot;: &quot;N&quot;, &quot;danger&quot;: 0, &quot;danger_list&quot;: null, &quot;date_end&quot;: null, &quot;date_inscribed&quot;: 2012, &quot;justification_en&quot;: null, &quot;latitude&quot;: 19.055, &quot;longitude&quot;: 20.5055555556, &quot;name_en&quot;: &quot;Lakes of Ounianga&quot;, &quot;rev_bis&quot;: null, &quot;secondary_dates&quot;: null, &quot;short_description_en&quot;: &quot;\\u003cp\\u003eThe site includes eighteen interconnected lakes in the hyper arid Ennedi region of the Sahara desert covering an area of 62,808\\u0026nbsp;ha. It constitutes an exceptional natural landscape of great beauty with striking colours and shapes. The saline, hyper saline and freshwater lakes are supplied by groundwater and are found in two groups 40\\u0026nbsp;km apart. Ounianga Kebir comprises four lakes, the largest of which, Yoan, covers an area of 358\\u0026nbsp;ha and is 27\\u0026nbsp;m deep. Its highly saline waters only sustain algae and some microorganisms. The second group, Ounianga Serir, comprises fourteen lakes separated by sand dunes. Floating reeds cover almost half the surface of these lakes reducing evaporation. At 436\\u0026nbsp;ha, Lake Teli has the largest surface area but is less than 10\\u0026nbsp;m deep. With their high quality freshwater, some of these lakes are home to aquatic fauna, particularly fish.\\u003c/p\\u003e&quot;, &quot;states_name_en&quot;: &quot;Chad&quot;}, &quot;type&quot;: &quot;Feature&quot;}, {&quot;bbox&quot;: [21.8627777778, 17.0416666667, 21.8627777778, 17.0416666667], &quot;geometry&quot;: {&quot;coordinates&quot;: [21.8627777778, 17.0416666667], &quot;type&quot;: &quot;Point&quot;}, &quot;id&quot;: &quot;144&quot;, &quot;properties&quot;: {&quot;__folium_color&quot;: &quot;#ff7f00&quot;, &quot;area_hectares&quot;: 2441200.0, &quot;category&quot;: &quot;Mixed&quot;, &quot;category_short&quot;: &quot;C/N&quot;, &quot;danger&quot;: 0, &quot;danger_list&quot;: null, &quot;date_end&quot;: null, &quot;date_inscribed&quot;: 2016, &quot;justification_en&quot;: null, &quot;latitude&quot;: 17.0416666667, &quot;longitude&quot;: 21.8627777778, &quot;name_en&quot;: &quot;Ennedi Massif: Natural and Cultural Landscape&quot;, &quot;rev_bis&quot;: null, &quot;secondary_dates&quot;: null, &quot;short_description_en&quot;: &quot;\\u003cp\\u003eIn the northeast of the country, the sandstone Ennedi Massif has been sculpted over time by water and wind erosion into a plateau featuring canyons and valleys that present a spectacular landscape marked by cliffs, natural arches and pitons. In the largest canyons, the permanent presence of water plays an essential role in the Massif\\u2019s ecosystem, sustaining flora and fauna as well as human life. Thousands of images have been painted and carved into the rock surface of caves, canyons and shelters, presenting one of the largest ensembles of rock art in the Sahara.\\u003c/p\\u003e&quot;, &quot;states_name_en&quot;: &quot;Chad&quot;}, &quot;type&quot;: &quot;Feature&quot;}, {&quot;bbox&quot;: [-7.0952777778, 5.6488888889, -7.0952777778, 5.6488888889], &quot;geometry&quot;: {&quot;coordinates&quot;: [-7.0952777778, 5.6488888889], &quot;type&quot;: &quot;Point&quot;}, &quot;id&quot;: &quot;217&quot;, &quot;properties&quot;: {&quot;__folium_color&quot;: &quot;#999999&quot;, &quot;area_hectares&quot;: 330000.0, &quot;category&quot;: &quot;Natural&quot;, &quot;category_short&quot;: &quot;N&quot;, &quot;danger&quot;: 0, &quot;danger_list&quot;: null, &quot;date_end&quot;: null, &quot;date_inscribed&quot;: 1982, &quot;justification_en&quot;: null, &quot;latitude&quot;: 5.6488888889, &quot;longitude&quot;: -7.0952777778, &quot;name_en&quot;: &quot;Ta\\u00ef National Park&quot;, &quot;rev_bis&quot;: null, &quot;secondary_dates&quot;: null, &quot;short_description_en&quot;: &quot;\\u003cp\\u003eThis park is one of the last major remnants of the primary tropical forest of West Africa. Its rich natural flora, and threatened mammal species such as the pygmy hippopotamus and 11 species of monkeys, are of great scientific interest.\\u003c/p\\u003e&quot;, &quot;states_name_en&quot;: &quot;C\\u00f4te d\\u0027Ivoire&quot;}, &quot;type&quot;: &quot;Feature&quot;}, {&quot;bbox&quot;: [-4.0, 9.0, -4.0, 9.0], &quot;geometry&quot;: {&quot;coordinates&quot;: [-4.0, 9.0], &quot;type&quot;: &quot;Point&quot;}, &quot;id&quot;: &quot;218&quot;, &quot;properties&quot;: {&quot;__folium_color&quot;: &quot;#999999&quot;, &quot;area_hectares&quot;: 1150000.0, &quot;category&quot;: &quot;Natural&quot;, &quot;category_short&quot;: &quot;N&quot;, &quot;danger&quot;: 0, &quot;danger_list&quot;: &quot;P 2003-2017&quot;, &quot;date_end&quot;: 2017.0, &quot;date_inscribed&quot;: 1983, &quot;justification_en&quot;: null, &quot;latitude&quot;: 9.0, &quot;longitude&quot;: -4.0, &quot;name_en&quot;: &quot;Como\\u00e9 National Park&quot;, &quot;rev_bis&quot;: null, &quot;secondary_dates&quot;: null, &quot;short_description_en&quot;: &quot;\\u003cp\\u003eOne of the largest protected areas in West Africa, this park is characterized by its great plant diversity. Due to the presence of the Como\\u00e9 river, it contains plants which are normally only found much farther south, such as shrub savannahs and patches of thick rainforest.\\u003c/p\\u003e&quot;, &quot;states_name_en&quot;: &quot;C\\u00f4te d\\u0027Ivoire&quot;}, &quot;type&quot;: &quot;Feature&quot;}, {&quot;bbox&quot;: [-3.7363888889, 5.1958333333, -3.7363888889, 5.1958333333], &quot;geometry&quot;: {&quot;coordinates&quot;: [-3.7363888889, 5.1958333333], &quot;type&quot;: &quot;Point&quot;}, &quot;id&quot;: &quot;219&quot;, &quot;properties&quot;: {&quot;__folium_color&quot;: &quot;#e41a1c&quot;, &quot;area_hectares&quot;: 109.89, &quot;category&quot;: &quot;Cultural&quot;, &quot;category_short&quot;: &quot;C&quot;, &quot;danger&quot;: 0, &quot;danger_list&quot;: null, &quot;date_end&quot;: null, &quot;date_inscribed&quot;: 2012, &quot;justification_en&quot;: null, &quot;latitude&quot;: 5.1958333333, &quot;longitude&quot;: -3.7363888889, &quot;name_en&quot;: &quot;Historic Town of Grand-Bassam&quot;, &quot;rev_bis&quot;: &quot;Rev&quot;, &quot;secondary_dates&quot;: null, &quot;short_description_en&quot;: &quot;\\u003cp\\u003eThe first capital of C\\u00f4te d\\u2019Ivoire, the Historic Town of Grand-Bassam, is an example of a late 19\\u003csup\\u003eth\\u003c/sup\\u003e- and early 20\\u003csup\\u003eth\\u003c/sup\\u003e-century colonial town planned with quarters specializing in commerce, administration, housing for Europeans and for Africans. The site includes the N\\u2019zima African fishing village alongside colonial architecture marked by functional houses with galleries, verandas and gardens. Grand-Bassam was the most important port, economic and judicial centre of C\\u00f4te d\\u2019Ivoire. It bears witness to the complex social relations between Europeans and Africans, and to the subsequent independence movement. As a vibrant centre of the territory of French trading posts in the Gulf of Guinea, which preceded modern C\\u00f4te d\\u2019Ivoire, it attracted populations from all parts of Africa, Europe and the Mediterranean Levant.\\u003c/p\\u003e&quot;, &quot;states_name_en&quot;: &quot;C\\u00f4te d\\u0027Ivoire&quot;}, &quot;type&quot;: &quot;Feature&quot;}, {&quot;bbox&quot;: [-6.4101666667, 10.4903166667, -6.4101666667, 10.4903166667], &quot;geometry&quot;: {&quot;coordinates&quot;: [-6.4101666667, 10.4903166667], &quot;type&quot;: &quot;Point&quot;}, &quot;id&quot;: &quot;220&quot;, &quot;properties&quot;: {&quot;__folium_color&quot;: &quot;#e41a1c&quot;, &quot;area_hectares&quot;: 0.1298, &quot;category&quot;: &quot;Cultural&quot;, &quot;category_short&quot;: &quot;C&quot;, &quot;danger&quot;: 0, &quot;danger_list&quot;: null, &quot;date_end&quot;: null, &quot;date_inscribed&quot;: 2021, &quot;justification_en&quot;: null, &quot;latitude&quot;: 10.4903166667, &quot;longitude&quot;: -6.4101666667, &quot;name_en&quot;: &quot;Sudanese style mosques in northern C\\u00f4te d\\u2019Ivoire&quot;, &quot;rev_bis&quot;: null, &quot;secondary_dates&quot;: null, &quot;short_description_en&quot;: &quot;\\u003cp\\u003eThe eight small adobe mosques, at Tengr\\u00e9la, Kouto, Sorobango, Samatiguila, M\\u2019Bengu\\u00e9, Kong and Kaouara are characterized by protruding timbers, vertical buttresses crowned by pottery or ostrich eggs, and tapering minarets. They present an interpretation of an architectural style thought to have originated around the 14th\\u00a0century in the town of Djenn\\u00e9, then part of the Empire of Mali, which prospered from the trade in gold and salt across the Sahara to North Africa. Particularly from the 16th\\u00a0century, the style spread south from the desert regions into the Sudanese savannah, becoming lower and developing stouter buttresses in response to the wetter climate. The mosques are the best conserved of 20 such edifices that remain in C\\u00f4te d\\u2019Ivoire, where hundreds existed early last century. The mosques\\u2019 distinctive Sudanese style, specific to the savannah region of West Africa, developed between the 17th\\u00a0and 19th\\u00a0centuries as traders and scholars spread south from the Empire of Mali, extending the trans-Saharan mercantile routes into the forest area. They present highly important testimonies to the trans-Saharan trade that facilitated the expansion of Islam and Islamic culture and reflect a fusion of Islamic and local architectural forms in a highly distinctive style that has persisted over time.\\u00a0\\u003c/p\\u003e&quot;, &quot;states_name_en&quot;: &quot;C\\u00f4te d\\u0027Ivoire&quot;}, &quot;type&quot;: &quot;Feature&quot;}, {&quot;bbox&quot;: [29.16666667, 0.916666667, 29.16666667, 0.916666667], &quot;geometry&quot;: {&quot;coordinates&quot;: [29.16666667, 0.916666667], &quot;type&quot;: &quot;Point&quot;}, &quot;id&quot;: &quot;255&quot;, &quot;properties&quot;: {&quot;__folium_color&quot;: &quot;#999999&quot;, &quot;area_hectares&quot;: 800000.0, &quot;category&quot;: &quot;Natural&quot;, &quot;category_short&quot;: &quot;N&quot;, &quot;danger&quot;: 1, &quot;danger_list&quot;: &quot;Y 1994&quot;, &quot;date_end&quot;: null, &quot;date_inscribed&quot;: 1979, &quot;justification_en&quot;: null, &quot;latitude&quot;: 0.916666667, &quot;longitude&quot;: 29.16666667, &quot;name_en&quot;: &quot;Virunga National Park&quot;, &quot;rev_bis&quot;: null, &quot;secondary_dates&quot;: null, &quot;short_description_en&quot;: &quot;\\u003cp\\u003eVirunga National Park (covering an area of 790,000 ha) comprises an outstanding diversity of habitats, ranging from swamps and steppes to the snowfields of Rwenzori at an altitude of over 5,000 m, and from lava plains to the savannahs on the slopes of volcanoes. Mountain gorillas are found in the park, some 20,000 hippopotamuses live in the rivers and birds from Siberia spend the winter there.\\u003c/p\\u003e&quot;, &quot;states_name_en&quot;: &quot;Democratic Republic of the Congo&quot;}, &quot;type&quot;: &quot;Feature&quot;}, {&quot;bbox&quot;: [29.25, 4.0, 29.25, 4.0], &quot;geometry&quot;: {&quot;coordinates&quot;: [29.25, 4.0], &quot;type&quot;: &quot;Point&quot;}, &quot;id&quot;: &quot;256&quot;, &quot;properties&quot;: {&quot;__folium_color&quot;: &quot;#999999&quot;, &quot;area_hectares&quot;: 500000.0, &quot;category&quot;: &quot;Natural&quot;, &quot;category_short&quot;: &quot;N&quot;, &quot;danger&quot;: 1, &quot;danger_list&quot;: &quot;Y 1996 P 1984-1992&quot;, &quot;date_end&quot;: 1992.0, &quot;date_inscribed&quot;: 1980, &quot;justification_en&quot;: null, &quot;latitude&quot;: 4.0, &quot;longitude&quot;: 29.25, &quot;name_en&quot;: &quot;Garamba National Park&quot;, &quot;rev_bis&quot;: null, &quot;secondary_dates&quot;: null, &quot;short_description_en&quot;: &quot;\\u003cp\\u003eThe park\\u0027s immense savannahs, grasslands and woodlands, interspersed with gallery forests along the river banks and the swampy depressions, are home to four large mammals: the elephant, giraffe, hippopotamus and above all the white rhinoceros. Though much larger than the black rhino, it is harmless; only some 30 individuals remain.\\u003c/p\\u003e&quot;, &quot;states_name_en&quot;: &quot;Democratic Republic of the Congo&quot;}, &quot;type&quot;: &quot;Feature&quot;}, {&quot;bbox&quot;: [28.180743, -2.334053, 28.180743, -2.334053], &quot;geometry&quot;: {&quot;coordinates&quot;: [28.180743, -2.334053], &quot;type&quot;: &quot;Point&quot;}, &quot;id&quot;: &quot;257&quot;, &quot;properties&quot;: {&quot;__folium_color&quot;: &quot;#999999&quot;, &quot;area_hectares&quot;: 600000.0, &quot;category&quot;: &quot;Natural&quot;, &quot;category_short&quot;: &quot;N&quot;, &quot;danger&quot;: 1, &quot;danger_list&quot;: &quot;Y 1997&quot;, &quot;date_end&quot;: null, &quot;date_inscribed&quot;: 1980, &quot;justification_en&quot;: null, &quot;latitude&quot;: -2.334053, &quot;longitude&quot;: 28.180743, &quot;name_en&quot;: &quot;Kahuzi-Biega National Park&quot;, &quot;rev_bis&quot;: null, &quot;secondary_dates&quot;: null, &quot;short_description_en&quot;: &quot;\\u003cp\\u003eA vast area of primary tropical forest dominated by two spectacular extinct volcanoes, Kahuzi and Biega, the park has a diverse and abundant fauna. One of the last groups of eastern lowland (graueri) gorillas (consisting of only some 250 individuals) lives at between 2,100 and 2,400 m above sea-level.\\u003c/p\\u003e&quot;, &quot;states_name_en&quot;: &quot;Democratic Republic of the Congo&quot;}, &quot;type&quot;: &quot;Feature&quot;}, {&quot;bbox&quot;: [21.0, -2.0, 21.0, -2.0], &quot;geometry&quot;: {&quot;coordinates&quot;: [21.0, -2.0], &quot;type&quot;: &quot;Point&quot;}, &quot;id&quot;: &quot;258&quot;, &quot;properties&quot;: {&quot;__folium_color&quot;: &quot;#999999&quot;, &quot;area_hectares&quot;: 3600000.0, &quot;category&quot;: &quot;Natural&quot;, &quot;category_short&quot;: &quot;N&quot;, &quot;danger&quot;: 0, &quot;danger_list&quot;: &quot;P 1999-2021&quot;, &quot;date_end&quot;: 2021.0, &quot;date_inscribed&quot;: 1984, &quot;justification_en&quot;: null, &quot;latitude&quot;: -2.0, &quot;longitude&quot;: 21.0, &quot;name_en&quot;: &quot;Salonga National Park&quot;, &quot;rev_bis&quot;: null, &quot;secondary_dates&quot;: null, &quot;short_description_en&quot;: &quot;\\u003cp\\u003eSalonga National Park is Africa\\u0027s largest tropical rainforest reserve. Situated at the heart of the central basin of the Congo river, the park is very isolated and accessible only by water. It is the habitat of many endemic endangered species, such as the dwarf chimpanzee, the Congo peacock, the forest elephant and the African slender-snouted or \\u0027false\\u0027 crocodile.\\u003c/p\\u003e&quot;, &quot;states_name_en&quot;: &quot;Democratic Republic of the Congo&quot;}, &quot;type&quot;: &quot;Feature&quot;}, {&quot;bbox&quot;: [28.5, 2.0, 28.5, 2.0], &quot;geometry&quot;: {&quot;coordinates&quot;: [28.5, 2.0], &quot;type&quot;: &quot;Point&quot;}, &quot;id&quot;: &quot;259&quot;, &quot;properties&quot;: {&quot;__folium_color&quot;: &quot;#999999&quot;, &quot;area_hectares&quot;: 1372625.0, &quot;category&quot;: &quot;Natural&quot;, &quot;category_short&quot;: &quot;N&quot;, &quot;danger&quot;: 1, &quot;danger_list&quot;: &quot;Y 1997&quot;, &quot;date_end&quot;: null, &quot;date_inscribed&quot;: 1996, &quot;justification_en&quot;: &quot;\\u003cp\\u003eThe Committee inscribed the property as one of the most important sites for conservation, including the rare Okapi and rich floral diversity, under natural \\u003cem\\u003ecriterion (x)\\u003c/em\\u003e. The Committee expressed its hope that the activities outlined in the new management plan would ensure the integrity of the site. Considering the civil unrest in the country, the question of the long-term security of the site was raised.\\u003c/p\\u003e&quot;, &quot;latitude&quot;: 2.0, &quot;longitude&quot;: 28.5, &quot;name_en&quot;: &quot;Okapi Wildlife Reserve&quot;, &quot;rev_bis&quot;: null, &quot;secondary_dates&quot;: null, &quot;short_description_en&quot;: &quot;\\u003cp\\u003eThe Okapi Wildlife Reserve occupies about one-fifth of the Ituri forest in the north-east of the Democratic Republic of the Congo. The Congo river basin, of which the reserve and forest are a part, is one of the largest drainage systems in Africa. The reserve contains threatened species of primates and birds and about 5,000 of the estimated 30,000 okapi surviving in the wild. It also has some dramatic scenery, including waterfalls on the Ituri and Epulu rivers. The reserve is inhabited by traditional nomadic pygmy Mbuti and Efe hunters.\\u003c/p\\u003e&quot;, &quot;states_name_en&quot;: &quot;Democratic Republic of the Congo&quot;}, &quot;type&quot;: &quot;Feature&quot;}, {&quot;bbox&quot;: [38.9358333333, 15.3352777778, 38.9358333333, 15.3352777778], &quot;geometry&quot;: {&quot;coordinates&quot;: [38.9358333333, 15.3352777778], &quot;type&quot;: &quot;Point&quot;}, &quot;id&quot;: &quot;283&quot;, &quot;properties&quot;: {&quot;__folium_color&quot;: &quot;#e41a1c&quot;, &quot;area_hectares&quot;: 481.0, &quot;category&quot;: &quot;Cultural&quot;, &quot;category_short&quot;: &quot;C&quot;, &quot;danger&quot;: 0, &quot;danger_list&quot;: null, &quot;date_end&quot;: null, &quot;date_inscribed&quot;: 2017, &quot;justification_en&quot;: null, &quot;latitude&quot;: 15.3352777778, &quot;longitude&quot;: 38.9358333333, &quot;name_en&quot;: &quot;Asmara: A Modernist African City&quot;, &quot;rev_bis&quot;: null, &quot;secondary_dates&quot;: null, &quot;short_description_en&quot;: &quot;\\u003cp\\u003eLocated at over 2,000 m above sea level, the capital of Eritrea developed from the 1890s onwards as a military outpost for the Italian colonial power. After 1935, Asmara underwent a large scale programme of construction applying the Italian rationalist idiom of the time to governmental edifices, residential and commercial buildings, churches, mosques, synagogues, cinemas, hotels, etc. The property encompasses the area of the city that resulted from various phases of planning between 1893 and 1941, as well as the indigenous unplanned neighbourhoods of Arbate Asmera and Abbashawel. It is an exceptional example of early modernist urbanism at the beginning of the 20th\\u00a0century and its application in an African context.\\u003c/p\\u003e&quot;, &quot;states_name_en&quot;: &quot;Eritrea&quot;}, &quot;type&quot;: &quot;Feature&quot;}, {&quot;bbox&quot;: [38.0666666667, 13.1833333333, 38.0666666667, 13.1833333333], &quot;geometry&quot;: {&quot;coordinates&quot;: [38.0666666667, 13.1833333333], &quot;type&quot;: &quot;Point&quot;}, &quot;id&quot;: &quot;285&quot;, &quot;properties&quot;: {&quot;__folium_color&quot;: &quot;#999999&quot;, &quot;area_hectares&quot;: 13600.0, &quot;category&quot;: &quot;Natural&quot;, &quot;category_short&quot;: &quot;N&quot;, &quot;danger&quot;: 0, &quot;danger_list&quot;: &quot;P 1996-2017&quot;, &quot;date_end&quot;: 2017.0, &quot;date_inscribed&quot;: 1978, &quot;justification_en&quot;: null, &quot;latitude&quot;: 13.1833333333, &quot;longitude&quot;: 38.0666666667, &quot;name_en&quot;: &quot;Simien National Park&quot;, &quot;rev_bis&quot;: null, &quot;secondary_dates&quot;: null, &quot;short_description_en&quot;: &quot;\\u003cp\\u003eMassive erosion over the years on the Ethiopian plateau has created one of the most spectacular landscapes in the world, with jagged mountain peaks, deep valleys and sharp precipices dropping some 1,500 m. The park is home to some extremely rare animals such as the Gelada baboon, the Simien fox and the Walia ibex, a goat found nowhere else in the world.\\u003c/p\\u003e&quot;, &quot;states_name_en&quot;: &quot;Ethiopia&quot;}, &quot;type&quot;: &quot;Feature&quot;}, {&quot;bbox&quot;: [40.57939, 11.10006, 40.57939, 11.10006], &quot;geometry&quot;: {&quot;coordinates&quot;: [40.57939, 11.10006], &quot;type&quot;: &quot;Point&quot;}, &quot;id&quot;: &quot;286&quot;, &quot;properties&quot;: {&quot;__folium_color&quot;: &quot;#e41a1c&quot;, &quot;area_hectares&quot;: 0.0, &quot;category&quot;: &quot;Cultural&quot;, &quot;category_short&quot;: &quot;C&quot;, &quot;danger&quot;: 0, &quot;danger_list&quot;: null, &quot;date_end&quot;: null, &quot;date_inscribed&quot;: 1980, &quot;justification_en&quot;: null, &quot;latitude&quot;: 11.10006, &quot;longitude&quot;: 40.57939, &quot;name_en&quot;: &quot;Lower Valley of the Awash&quot;, &quot;rev_bis&quot;: null, &quot;secondary_dates&quot;: null, &quot;short_description_en&quot;: &quot;\\u003cp\\u003eThe Awash valley contains one of the most important groupings of palaeontological sites on the African continent. The remains found at the site, the oldest of which date back at least 4 million years, provide evidence of human evolution which has modified our conception of the history of humankind. The most spectacular discovery came in 1974, when 52 fragments of a skeleton enabled the famous Lucy to be reconstructed.\\u003c/p\\u003e&quot;, &quot;states_name_en&quot;: &quot;Ethiopia&quot;}, &quot;type&quot;: &quot;Feature&quot;}, {&quot;bbox&quot;: [38.6121, 8.43491, 38.6121, 8.43491], &quot;geometry&quot;: {&quot;coordinates&quot;: [38.6121, 8.43491], &quot;type&quot;: &quot;Point&quot;}, &quot;id&quot;: &quot;287&quot;, &quot;properties&quot;: {&quot;__folium_color&quot;: &quot;#e41a1c&quot;, &quot;area_hectares&quot;: 0.0, &quot;category&quot;: &quot;Cultural&quot;, &quot;category_short&quot;: &quot;C&quot;, &quot;danger&quot;: 0, &quot;danger_list&quot;: null, &quot;date_end&quot;: null, &quot;date_inscribed&quot;: 1980, &quot;justification_en&quot;: null, &quot;latitude&quot;: 8.43491, &quot;longitude&quot;: 38.6121, &quot;name_en&quot;: &quot;Tiya&quot;, &quot;rev_bis&quot;: null, &quot;secondary_dates&quot;: null, &quot;short_description_en&quot;: &quot;\\u003cp\\u003eTiya is among the most important of the roughly 160 archaeological sites discovered so far in the Soddo region, south of Addis Ababa. The site contains 36 monuments, including 32 carved stelae covered with symbols, most of which are difficult to decipher. They are the remains of an ancient Ethiopian culture whose age has not yet been precisely determined.\\u003c/p\\u003e&quot;, &quot;states_name_en&quot;: &quot;Ethiopia&quot;}, &quot;type&quot;: &quot;Feature&quot;}, {&quot;bbox&quot;: [38.71861, 14.13019, 38.71861, 14.13019], &quot;geometry&quot;: {&quot;coordinates&quot;: [38.71861, 14.13019], &quot;type&quot;: &quot;Point&quot;}, &quot;id&quot;: &quot;288&quot;, &quot;properties&quot;: {&quot;__folium_color&quot;: &quot;#e41a1c&quot;, &quot;area_hectares&quot;: 0.0, &quot;category&quot;: &quot;Cultural&quot;, &quot;category_short&quot;: &quot;C&quot;, &quot;danger&quot;: 0, &quot;danger_list&quot;: null, &quot;date_end&quot;: null, &quot;date_inscribed&quot;: 1980, &quot;justification_en&quot;: null, &quot;latitude&quot;: 14.13019, &quot;longitude&quot;: 38.71861, &quot;name_en&quot;: &quot;Aksum&quot;, &quot;rev_bis&quot;: null, &quot;secondary_dates&quot;: null, &quot;short_description_en&quot;: &quot;\\u003cp\\u003eThe ruins of the ancient city of Aksum are found close to Ethiopia\\u0027s northern border. They mark the location of the heart of ancient Ethiopia, when the Kingdom of Aksum was the most powerful state between the Eastern Roman Empire and Persia. The massive ruins, dating from between the 1st and the 13th century A.D., include monolithic obelisks, giant stelae, royal tombs and the ruins of ancient castles. Long after its political decline in the 10th century, Ethiopian emperors continued to be crowned in Aksum.\\u003c/p\\u003e&quot;, &quot;states_name_en&quot;: &quot;Ethiopia&quot;}, &quot;type&quot;: &quot;Feature&quot;}, {&quot;bbox&quot;: [35.96666667, 4.8, 35.96666667, 4.8], &quot;geometry&quot;: {&quot;coordinates&quot;: [35.96666667, 4.8], &quot;type&quot;: &quot;Point&quot;}, &quot;id&quot;: &quot;289&quot;, &quot;properties&quot;: {&quot;__folium_color&quot;: &quot;#e41a1c&quot;, &quot;area_hectares&quot;: 0.0, &quot;category&quot;: &quot;Cultural&quot;, &quot;category_short&quot;: &quot;C&quot;, &quot;danger&quot;: 0, &quot;danger_list&quot;: null, &quot;date_end&quot;: null, &quot;date_inscribed&quot;: 1980, &quot;justification_en&quot;: null, &quot;latitude&quot;: 4.8, &quot;longitude&quot;: 35.96666667, &quot;name_en&quot;: &quot;Lower Valley of the Omo&quot;, &quot;rev_bis&quot;: null, &quot;secondary_dates&quot;: null, &quot;short_description_en&quot;: &quot;\\u003cp\\u003eA prehistoric site near Lake Turkana, the lower valley of the Omo is renowned the world over. The discovery of many fossils there, especially \\u003cem\\u003eHomo gracilis\\u003c/em\\u003e, has been of fundamental importance in the study of human evolution.\\u003c/p\\u003e&quot;, &quot;states_name_en&quot;: &quot;Ethiopia&quot;}, &quot;type&quot;: &quot;Feature&quot;}, {&quot;bbox&quot;: [39.04042, 12.02935, 39.04042, 12.02935], &quot;geometry&quot;: {&quot;coordinates&quot;: [39.04042, 12.02935], &quot;type&quot;: &quot;Point&quot;}, &quot;id&quot;: &quot;290&quot;, &quot;properties&quot;: {&quot;__folium_color&quot;: &quot;#e41a1c&quot;, &quot;area_hectares&quot;: 0.0, &quot;category&quot;: &quot;Cultural&quot;, &quot;category_short&quot;: &quot;C&quot;, &quot;danger&quot;: 0, &quot;danger_list&quot;: null, &quot;date_end&quot;: null, &quot;date_inscribed&quot;: 1978, &quot;justification_en&quot;: null, &quot;latitude&quot;: 12.02935, &quot;longitude&quot;: 39.04042, &quot;name_en&quot;: &quot;Rock-Hewn Churches, Lalibela&quot;, &quot;rev_bis&quot;: null, &quot;secondary_dates&quot;: null, &quot;short_description_en&quot;: &quot;\\u003cp\\u003eThe 11 medieval monolithic cave churches of this 13th-century \\u0027New Jerusalem\\u0027 are situated in a mountainous region in the heart of Ethiopia near a traditional village with circular-shaped dwellings. Lalibela is a high place of Ethiopian Christianity, still today a place of pilmigrage and devotion.\\u003c/p\\u003e&quot;, &quot;states_name_en&quot;: &quot;Ethiopia&quot;}, &quot;type&quot;: &quot;Feature&quot;}, {&quot;bbox&quot;: [37.4697, 12.607909, 37.4697, 12.607909], &quot;geometry&quot;: {&quot;coordinates&quot;: [37.4697, 12.607909], &quot;type&quot;: &quot;Point&quot;}, &quot;id&quot;: &quot;291&quot;, &quot;properties&quot;: {&quot;__folium_color&quot;: &quot;#e41a1c&quot;, &quot;area_hectares&quot;: 0.0, &quot;category&quot;: &quot;Cultural&quot;, &quot;category_short&quot;: &quot;C&quot;, &quot;danger&quot;: 0, &quot;danger_list&quot;: null, &quot;date_end&quot;: null, &quot;date_inscribed&quot;: 1979, &quot;justification_en&quot;: null, &quot;latitude&quot;: 12.607909, &quot;longitude&quot;: 37.4697, &quot;name_en&quot;: &quot;Fasil Ghebbi, Gondar Region&quot;, &quot;rev_bis&quot;: null, &quot;secondary_dates&quot;: null, &quot;short_description_en&quot;: &quot;\\u003cp\\u003eIn the 16th and 17th centuries, the fortress-city of Fasil Ghebbi was the residence of the Ethiopian emperor Fasilides and his successors. Surrounded by a 900-m-long wall, the city contains palaces, churches, monasteries and unique public and private buildings marked by Hindu and Arab influences, subsequently transformed by the Baroque style brought to Gondar by the Jesuit missionaries.\\u003c/p\\u003e&quot;, &quot;states_name_en&quot;: &quot;Ethiopia&quot;}, &quot;type&quot;: &quot;Feature&quot;}, {&quot;bbox&quot;: [42.1377777777, 9.3088888888, 42.1377777777, 9.3088888888], &quot;geometry&quot;: {&quot;coordinates&quot;: [42.1377777777, 9.3088888888], &quot;type&quot;: &quot;Point&quot;}, &quot;id&quot;: &quot;292&quot;, &quot;properties&quot;: {&quot;__folium_color&quot;: &quot;#e41a1c&quot;, &quot;area_hectares&quot;: 48.0, &quot;category&quot;: &quot;Cultural&quot;, &quot;category_short&quot;: &quot;C&quot;, &quot;danger&quot;: 0, &quot;danger_list&quot;: null, &quot;date_end&quot;: null, &quot;date_inscribed&quot;: 2006, &quot;justification_en&quot;: null, &quot;latitude&quot;: 9.3088888888, &quot;longitude&quot;: 42.1377777777, &quot;name_en&quot;: &quot;Harar Jugol, the Fortified Historic Town&quot;, &quot;rev_bis&quot;: &quot;rev&quot;, &quot;secondary_dates&quot;: null, &quot;short_description_en&quot;: &quot;\\u003cp\\u003eThe fortified historic town of Harar is located in the eastern part of the country on a plateau with deep gorges surrounded by deserts and savannah. The walls surrounding this sacred Muslim city were built between the 13th and 16th centuries. Harar Jugol, said to be the fourth holiest city of Islam, numbers 82 mosques, three of which date from the 10th century, and 102 shrines, but the townhouses with their exceptional interior design constitute the most spectacular part of Harar\\u0027s cultural heritage. The impact of African and Islamic traditions on the development of the town\\u0027s building types and urban layout make for its particular character and uniqueness.\\u003c/p\\u003e&quot;, &quot;states_name_en&quot;: &quot;Ethiopia&quot;}, &quot;type&quot;: &quot;Feature&quot;}, {&quot;bbox&quot;: [37.4, 5.3, 37.4, 5.3], &quot;geometry&quot;: {&quot;coordinates&quot;: [37.4, 5.3], &quot;type&quot;: &quot;Point&quot;}, &quot;id&quot;: &quot;293&quot;, &quot;properties&quot;: {&quot;__folium_color&quot;: &quot;#e41a1c&quot;, &quot;area_hectares&quot;: 23000.0, &quot;category&quot;: &quot;Cultural&quot;, &quot;category_short&quot;: &quot;C&quot;, &quot;danger&quot;: 0, &quot;danger_list&quot;: null, &quot;date_end&quot;: null, &quot;date_inscribed&quot;: 2011, &quot;justification_en&quot;: null, &quot;latitude&quot;: 5.3, &quot;longitude&quot;: 37.4, &quot;name_en&quot;: &quot;Konso Cultural Landscape&quot;, &quot;rev_bis&quot;: &quot;rev&quot;, &quot;secondary_dates&quot;: null, &quot;short_description_en&quot;: &quot;\\u003cp\\u003eKonso Cultural Landscape is an arid property of stone walled terraces and fortified settlements in the Konso highlands of Ethiopia. It constitutes a spectacular example of a living cultural tradition stretching back 21 generations (more than 400 years) adapted to its dry hostile environment. The landscape demonstrates the shared values, social cohesion and engineering knowledge of its communities. The site also features anthropomorphic wooden statues - grouped to represent respected members of their communities and particularly heroic events - which are an exceptional living testimony to funerary traditions that are on the verge of disappearing. Stone steles in the towns express a complex system of marking the passing of generations of leaders.\\u003c/p\\u003e&quot;, &quot;states_name_en&quot;: &quot;Ethiopia&quot;}, &quot;type&quot;: &quot;Feature&quot;}, {&quot;bbox&quot;: [11.5, -0.5, 11.5, -0.5], &quot;geometry&quot;: {&quot;coordinates&quot;: [11.5, -0.5], &quot;type&quot;: &quot;Point&quot;}, &quot;id&quot;: &quot;343&quot;, &quot;properties&quot;: {&quot;__folium_color&quot;: &quot;#ff7f00&quot;, &quot;area_hectares&quot;: 491291.0, &quot;category&quot;: &quot;Mixed&quot;, &quot;category_short&quot;: &quot;C/N&quot;, &quot;danger&quot;: 0, &quot;danger_list&quot;: null, &quot;date_end&quot;: null, &quot;date_inscribed&quot;: 2007, &quot;justification_en&quot;: null, &quot;latitude&quot;: -0.5, &quot;longitude&quot;: 11.5, &quot;name_en&quot;: &quot;Ecosystem and Relict Cultural Landscape of Lop\\u00e9-Okanda&quot;, &quot;rev_bis&quot;: &quot;Rev&quot;, &quot;secondary_dates&quot;: null, &quot;short_description_en&quot;: &quot;\\u003cp\\u003eThe Ecosystem and Relict Cultural Landscape of Lop\\u00e9-Okanda demonstrates an unusual interface between dense and well-conserved tropical rainforest and relict savannah environments with a great diversity of species, including endangered large mammals, and habitats. The site illustrates ecological and biological processes in terms of species and habitat adaptation to post-glacial climatic changes. It contains evidence of the successive passages of different peoples who have left extensive and comparatively well-preserved remains of habitation around hilltops, caves and shelters, evidence of iron-working and a remarkable collection of some 1,800 petroglyphs (rock carvings). The property\\u2019s collection of Neolithic and Iron Age sites, together with the rock art found there, reflects a major migration route of Bantu and other peoples from West Africa along the River Ogoou\\u00e9 valley to the north of the dense evergreen Congo forests and to central east and southern Africa, that has shaped the development of the whole of sub-Saharan Africa.\\u003c/p\\u003e&quot;, &quot;states_name_en&quot;: &quot;Gabon&quot;}, &quot;type&quot;: &quot;Feature&quot;}, {&quot;bbox&quot;: [12.6408333333, 0.4061111111, 12.6408333333, 0.4061111111], &quot;geometry&quot;: {&quot;coordinates&quot;: [12.6408333333, 0.4061111111], &quot;type&quot;: &quot;Point&quot;}, &quot;id&quot;: &quot;344&quot;, &quot;properties&quot;: {&quot;__folium_color&quot;: &quot;#999999&quot;, &quot;area_hectares&quot;: 298758.0, &quot;category&quot;: &quot;Natural&quot;, &quot;category_short&quot;: &quot;N&quot;, &quot;danger&quot;: 0, &quot;danger_list&quot;: null, &quot;date_end&quot;: null, &quot;date_inscribed&quot;: 2021, &quot;justification_en&quot;: null, &quot;latitude&quot;: 0.4061111111, &quot;longitude&quot;: 12.6408333333, &quot;name_en&quot;: &quot;Ivindo National Park&quot;, &quot;rev_bis&quot;: null, &quot;secondary_dates&quot;: null, &quot;short_description_en&quot;: &quot;\\u003cp\\u003eSituated on the equator in northern Gabon the largely pristine site encompasses an area of almost 300,000 ha crossed by a network of picturesque blackwater rivers. It features rapids and waterfalls bordered by intact rainforest, which make for a landscape of great aesthetic value. The site\\u2019s aquatic habitats\\u00a0harbour\\u00a0endemic freshwater fish species, 13 of which are threatened, and at least seven species of\\u00a0Podostemaceae\\u00a0riverweeds, with probable micro-endemic aquatic flora at each waterfall. Many fish species in the property are yet to be described and parts of the site have hardly been investigated. Critically Endangered Slender-snouted Crocodiles (Mecistops cataphractus) find shelter in Ivindo National Park which also boasts biogeographically unique\\u00a0Caesalpinioideae\\u00a0old-growth forests of high conservation value, supporting, for instance, a very high diversity of butterflies alongside threatened flagship mammals and avian fauna such as the Critically Endangered Forest Elephant (Loxodonta cyclotis), Western Lowland Gorilla (Gorilla gorilla), the Endangered Chimpanzee (Pan troglodytes) and Grey Parrot (Psittacus erithacus) as well as the Vulnerable Grey-necked Rockfowl (Picathartes oreas), Mandrill (Mandrillus sphinx), Leopard (Panthera pardus), and African Golden Cat (Caracal aurata), and three species of Pangolin (Manidae spp.).\\u003c/p\\u003e&quot;, &quot;states_name_en&quot;: &quot;Gabon&quot;}, &quot;type&quot;: &quot;Feature&quot;}, {&quot;bbox&quot;: [-16.35719444, 13.31616667, -16.35719444, 13.31616667], &quot;geometry&quot;: {&quot;coordinates&quot;: [-16.35719444, 13.31616667], &quot;type&quot;: &quot;Point&quot;}, &quot;id&quot;: &quot;345&quot;, &quot;properties&quot;: {&quot;__folium_color&quot;: &quot;#e41a1c&quot;, &quot;area_hectares&quot;: 7.5981, &quot;category&quot;: &quot;Cultural&quot;, &quot;category_short&quot;: &quot;C&quot;, &quot;danger&quot;: 0, &quot;danger_list&quot;: null, &quot;date_end&quot;: null, &quot;date_inscribed&quot;: 2003, &quot;justification_en&quot;: &quot;\\u003cp\\u003eCriterion iii: James Island and Related Sites on the River Gambia provide an exceptional testimony to the different facets of the African-European encounter, from the 15th to 20th centuries. The River Gambia formed the first trade route into the interior of Africa and became an early corridor for the slave trade. Criterion vi: James Island and Related Sites, the villages and the batteries, were directly and tangibly associated with the beginning and the conclusion of the slave trade, retaining its memory related to the African Diaspora.\\u003c/p\\u003e&quot;, &quot;latitude&quot;: 13.31616667, &quot;longitude&quot;: -16.35719444, &quot;name_en&quot;: &quot;Kunta Kinteh Island and Related Sites&quot;, &quot;rev_bis&quot;: &quot;Rev&quot;, &quot;secondary_dates&quot;: null, &quot;short_description_en&quot;: &quot;\\u003cp\\u003eJames Island and Related Sites present a testimony to the main periods and facets of the encounter between Africa and Europe along the River Gambia, a continuum stretching from pre-colonial and pre-slavery times to independence. The site is particularly significant for its relation to the beginning of the slave trade and its abolition. It also documents early access to the interior of Africa.\\u003c/p\\u003e&quot;, &quot;states_name_en&quot;: &quot;Gambia (the)&quot;}, &quot;type&quot;: &quot;Feature&quot;}, {&quot;bbox&quot;: [-0.49361, 5.39103, -0.49361, 5.39103], &quot;geometry&quot;: {&quot;coordinates&quot;: [-0.49361, 5.39103], &quot;type&quot;: &quot;Point&quot;}, &quot;id&quot;: &quot;391&quot;, &quot;properties&quot;: {&quot;__folium_color&quot;: &quot;#e41a1c&quot;, &quot;area_hectares&quot;: 0.0, &quot;category&quot;: &quot;Cultural&quot;, &quot;category_short&quot;: &quot;C&quot;, &quot;danger&quot;: 0, &quot;danger_list&quot;: null, &quot;date_end&quot;: null, &quot;date_inscribed&quot;: 1979, &quot;justification_en&quot;: null, &quot;latitude&quot;: 5.39103, &quot;longitude&quot;: -0.49361, &quot;name_en&quot;: &quot;Forts and Castles, Volta, Greater Accra, Central and Western Regions&quot;, &quot;rev_bis&quot;: null, &quot;secondary_dates&quot;: null, &quot;short_description_en&quot;: &quot;\\u003cp\\u003eThe remains of fortified trading-posts, erected between 1482 and 1786, can still be seen along the coast of Ghana between Keta and Beyin. They were links in the trade routes established by the Portuguese in many areas of the world during their era of great maritime exploration.\\u003c/p\\u003e&quot;, &quot;states_name_en&quot;: &quot;Ghana&quot;}, &quot;type&quot;: &quot;Feature&quot;}, {&quot;bbox&quot;: [-1.6258333333, 6.4011111111, -1.6258333333, 6.4011111111], &quot;geometry&quot;: {&quot;coordinates&quot;: [-1.6258333333, 6.4011111111], &quot;type&quot;: &quot;Point&quot;}, &quot;id&quot;: &quot;392&quot;, &quot;properties&quot;: {&quot;__folium_color&quot;: &quot;#e41a1c&quot;, &quot;area_hectares&quot;: 0.0, &quot;category&quot;: &quot;Cultural&quot;, &quot;category_short&quot;: &quot;C&quot;, &quot;danger&quot;: 0, &quot;danger_list&quot;: null, &quot;date_end&quot;: null, &quot;date_inscribed&quot;: 1980, &quot;justification_en&quot;: null, &quot;latitude&quot;: 6.4011111111, &quot;longitude&quot;: -1.6258333333, &quot;name_en&quot;: &quot;Asante Traditional Buildings&quot;, &quot;rev_bis&quot;: null, &quot;secondary_dates&quot;: null, &quot;short_description_en&quot;: &quot;\\u003cp\\u003eTo the north-east of Kumasi, these are the last material remains of the great Asante civilization, which reached its high point in the 18th century. Since the dwellings are made of earth, wood and straw, they are vulnerable to the onslaught of time and weather.\\u003c/p\\u003e&quot;, &quot;states_name_en&quot;: &quot;Ghana&quot;}, &quot;type&quot;: &quot;Feature&quot;}, {&quot;bbox&quot;: [37.3155555556, -0.155, 37.3155555556, -0.155], &quot;geometry&quot;: {&quot;coordinates&quot;: [37.3155555556, -0.155], &quot;type&quot;: &quot;Point&quot;}, &quot;id&quot;: &quot;604&quot;, &quot;properties&quot;: {&quot;__folium_color&quot;: &quot;#999999&quot;, &quot;area_hectares&quot;: 202334.0, &quot;category&quot;: &quot;Natural&quot;, &quot;category_short&quot;: &quot;N&quot;, &quot;danger&quot;: 0, &quot;danger_list&quot;: null, &quot;date_end&quot;: null, &quot;date_inscribed&quot;: 1997, &quot;justification_en&quot;: null, &quot;latitude&quot;: -0.155, &quot;longitude&quot;: 37.3155555556, &quot;name_en&quot;: &quot;Mount Kenya National Park/Natural Forest&quot;, &quot;rev_bis&quot;: &quot;Bis&quot;, &quot;secondary_dates&quot;: &quot;2013&quot;, &quot;short_description_en&quot;: &quot;\\u003cp\\u003eAt 5,199 m, Mount Kenya is the second highest peak in Africa. It is an ancient extinct volcano, which during its period of activity (3.1-2.6 million years ago) is thought to have risen to 6,500 m. There are 12 remnant glaciers on the mountain, all receding rapidly, and four secondary peaks that sit at the head of the U-shaped glacial valleys. With its rugged glacier-clad summits and forested middle slopes, Mount Kenya is one of the most impressive landscapes in East Africa. The evolution and ecology of its afro-alpine flora provide an outstanding example of ecological and biological processes. Through the Lewa Wildlife Conservancy and Ngare Ndare Forest Reserve, the property also incorporates lower lying scenic foothills and arid habitats of high biodiversity, situated in the ecological transition zone between the mountain ecosystem and the semi-arid savanna grasslands. The area also lies within the traditional migrating route of the African elephant population.\\u003c/p\\u003e&quot;, &quot;states_name_en&quot;: &quot;Kenya&quot;}, &quot;type&quot;: &quot;Feature&quot;}, {&quot;bbox&quot;: [36.50366667, 3.051305556, 36.50366667, 3.051305556], &quot;geometry&quot;: {&quot;coordinates&quot;: [36.50366667, 3.051305556], &quot;type&quot;: &quot;Point&quot;}, &quot;id&quot;: &quot;605&quot;, &quot;properties&quot;: {&quot;__folium_color&quot;: &quot;#999999&quot;, &quot;area_hectares&quot;: 161485.0, &quot;category&quot;: &quot;Natural&quot;, &quot;category_short&quot;: &quot;N&quot;, &quot;danger&quot;: 1, &quot;danger_list&quot;: &quot;Y 2018&quot;, &quot;date_end&quot;: null, &quot;date_inscribed&quot;: 1997, &quot;justification_en&quot;: &quot;\\u003cp\\u003eThe Committee inscribed this property on the basis of natural \\u003cem\\u003ecriteria (viii)\\u003c/em\\u003e and \\u003cem\\u003e(x)\\u003c/em\\u003e for the discoveries of mammal fossil remains in the site which led to the scientific reconstruction of the palaeo-environment of the entire Turkana Lake basin of the Quarternary Period. The Lake Turkana ecosystem with its diverse bird life and desert environment offers an exceptional laboratory for studies of plant and animal communities.\\u003c/p\\u003e&quot;, &quot;latitude&quot;: 3.051305556, &quot;longitude&quot;: 36.50366667, &quot;name_en&quot;: &quot;Lake Turkana National Parks&quot;, &quot;rev_bis&quot;: &quot;Bis&quot;, &quot;secondary_dates&quot;: &quot;2001&quot;, &quot;short_description_en&quot;: &quot;\\u003cp\\u003eThe most saline of Africa\\u0027s large lakes, Turkana is an outstanding laboratory for the study of plant and animal communities. The three National Parks serve as a stopover for migrant waterfowl and are major breeding grounds for the Nile crocodile, hippopotamus and a variety of venomous snakes. The Koobi Fora deposits, rich in mammalian, molluscan and other fossil remains, have contributed more to the understanding of paleo-environments than any other site on the continent.\\u003c/p\\u003e&quot;, &quot;states_name_en&quot;: &quot;Kenya&quot;}, &quot;type&quot;: &quot;Feature&quot;}, {&quot;bbox&quot;: [40.8525, -2.284444444, 40.8525, -2.284444444], &quot;geometry&quot;: {&quot;coordinates&quot;: [40.8525, -2.284444444], &quot;type&quot;: &quot;Point&quot;}, &quot;id&quot;: &quot;606&quot;, &quot;properties&quot;: {&quot;__folium_color&quot;: &quot;#e41a1c&quot;, &quot;area_hectares&quot;: 15.6, &quot;category&quot;: &quot;Cultural&quot;, &quot;category_short&quot;: &quot;C&quot;, &quot;danger&quot;: 0, &quot;danger_list&quot;: null, &quot;date_end&quot;: null, &quot;date_inscribed&quot;: 2001, &quot;justification_en&quot;: &quot;\\u003cp\\u003eCriterion ii The architecture and urban structure Lamu graphically demonstrate the cultural influences that have come together there over several hundred years from Europe, Arabia, and India, utilizing traditional Swahili techniques to produce a distinct culture. Criterion iv The growth and decline of the seaports the East African coast and interaction between the Bantu, Arabs, Persians, Indians, and Europeans represents significant cultural and economic phase in the history the region which finds its most outstanding expression Lamu Old Town. Criterion vi Its paramount trading role and its attraction for scholars and teachers gave Lamu an important religious function in the region. It continues to be significant centre for education in Islamic and Swahili culture.\\u003c/p\\u003e&quot;, &quot;latitude&quot;: -2.284444444, &quot;longitude&quot;: 40.8525, &quot;name_en&quot;: &quot;Lamu Old Town&quot;, &quot;rev_bis&quot;: null, &quot;secondary_dates&quot;: null, &quot;short_description_en&quot;: &quot;\\u003cp\\u003eLamu Old Town is the oldest and best-preserved Swahili settlement in East Africa, retaining its traditional functions. Built in coral stone and mangrove timber, the town is characterized by the simplicity of structural forms enriched by such features as inner courtyards, verandas, and elaborately carved wooden doors. Lamu has hosted major Muslim religious festivals since the 19th century, and has become a significant centre for the study of Islamic and Swahili cultures.\\u003c/p\\u003e&quot;, &quot;states_name_en&quot;: &quot;Kenya&quot;}, &quot;type&quot;: &quot;Feature&quot;}, {&quot;bbox&quot;: [36.24, -0.4425, 36.24, -0.4425], &quot;geometry&quot;: {&quot;coordinates&quot;: [36.24, -0.4425], &quot;type&quot;: &quot;Point&quot;}, &quot;id&quot;: &quot;607&quot;, &quot;properties&quot;: {&quot;__folium_color&quot;: &quot;#999999&quot;, &quot;area_hectares&quot;: 32034.0, &quot;category&quot;: &quot;Natural&quot;, &quot;category_short&quot;: &quot;N&quot;, &quot;danger&quot;: 0, &quot;danger_list&quot;: null, &quot;date_end&quot;: null, &quot;date_inscribed&quot;: 2011, &quot;justification_en&quot;: null, &quot;latitude&quot;: -0.4425, &quot;longitude&quot;: 36.24, &quot;name_en&quot;: &quot;Kenya Lake System in the Great Rift Valley&quot;, &quot;rev_bis&quot;: &quot;rev&quot;, &quot;secondary_dates&quot;: null, &quot;short_description_en&quot;: &quot;\\u003cp\\u003eThe Kenya Lake System in the Great Rift Valley , a natural property of outstanding beauty, comprises three inter-linked relatively shallow lakes (Lake Bogoria, Lake Nakuru and Lake Elementaita) in the Rift Valley Province of Kenya and covers a total area of 32,034 hectares. The property is home to 13 globally threatened bird species and some of the highest bird diversities in the world. It is the single most important foraging site for the lesser flamingo anywhere, and a major nesting and breeding ground for great white pelicans. The property features sizeable mammal populations, including black rhino, Rothschild\\u0027s giraffe, greater kudu, lion, cheetah and wild dogs and is valuable for the study of ecological processes of major importance.\\u003c/p\\u003e&quot;, &quot;states_name_en&quot;: &quot;Kenya&quot;}, &quot;type&quot;: &quot;Feature&quot;}, {&quot;bbox&quot;: [39.5961111111, -3.9319444444, 39.5961111111, -3.9319444444], &quot;geometry&quot;: {&quot;coordinates&quot;: [39.5961111111, -3.9319444444], &quot;type&quot;: &quot;Point&quot;}, &quot;id&quot;: &quot;608&quot;, &quot;properties&quot;: {&quot;__folium_color&quot;: &quot;#e41a1c&quot;, &quot;area_hectares&quot;: 1538.0, &quot;category&quot;: &quot;Cultural&quot;, &quot;category_short&quot;: &quot;C&quot;, &quot;danger&quot;: 0, &quot;danger_list&quot;: null, &quot;date_end&quot;: null, &quot;date_inscribed&quot;: 2008, &quot;justification_en&quot;: null, &quot;latitude&quot;: -3.9319444444, &quot;longitude&quot;: 39.5961111111, &quot;name_en&quot;: &quot;Sacred Mijikenda Kaya Forests&quot;, &quot;rev_bis&quot;: &quot;Rev&quot;, &quot;secondary_dates&quot;: null, &quot;short_description_en&quot;: &quot;\\u003cp\\u003eThe Mijikenda Kaya Forests consist of 10 separate forest sites spread over some 200 km along the coast containing the remains of numerous fortified villages, known as kayas, of the Mijikenda people. The kayas, created as of the 16th century but abandoned by the 1940s, are now regarded as the abodes of ancestors and are revered as sacred sites and, as such, are maintained as by councils of elders. The site is inscribed as bearing unique testimony to a cultural tradition and for its direct link to a living tradition.\\u003c/p\\u003e&quot;, &quot;states_name_en&quot;: &quot;Kenya&quot;}, &quot;type&quot;: &quot;Feature&quot;}, {&quot;bbox&quot;: [39.6794444444, -4.0627777778, 39.6794444444, -4.0627777778], &quot;geometry&quot;: {&quot;coordinates&quot;: [39.6794444444, -4.0627777778], &quot;type&quot;: &quot;Point&quot;}, &quot;id&quot;: &quot;609&quot;, &quot;properties&quot;: {&quot;__folium_color&quot;: &quot;#e41a1c&quot;, &quot;area_hectares&quot;: 2.36, &quot;category&quot;: &quot;Cultural&quot;, &quot;category_short&quot;: &quot;C&quot;, &quot;danger&quot;: 0, &quot;danger_list&quot;: null, &quot;date_end&quot;: null, &quot;date_inscribed&quot;: 2011, &quot;justification_en&quot;: null, &quot;latitude&quot;: -4.0627777778, &quot;longitude&quot;: 39.6794444444, &quot;name_en&quot;: &quot;Fort Jesus, Mombasa&quot;, &quot;rev_bis&quot;: &quot;rev&quot;, &quot;secondary_dates&quot;: null, &quot;short_description_en&quot;: &quot;\\u003cp\\u003eThe Fort, built by the Portuguese in 1593-1596 to the designs of Giovanni Battista Cairati to protect the port of Mombasa, is one of the most outstanding and well preserved examples of 16th Portuguese military fortification and a landmark in the history of this type of construction. The Fort\\u0027s layout and form reflected the Renaissance ideal that perfect proportions and geometric harmony are to be found in the human body. The property covers an area of 2.36 hectares and includes the fort\\u0027s moat and immediate surroundings.\\u003c/p\\u003e&quot;, &quot;states_name_en&quot;: &quot;Kenya&quot;}, &quot;type&quot;: &quot;Feature&quot;}, {&quot;bbox&quot;: [34.326107, -0.8913380556, 34.326107, -0.8913380556], &quot;geometry&quot;: {&quot;coordinates&quot;: [34.326107, -0.8913380556], &quot;type&quot;: &quot;Point&quot;}, &quot;id&quot;: &quot;610&quot;, &quot;properties&quot;: {&quot;__folium_color&quot;: &quot;#e41a1c&quot;, &quot;area_hectares&quot;: 21.0, &quot;category&quot;: &quot;Cultural&quot;, &quot;category_short&quot;: &quot;C&quot;, &quot;danger&quot;: 0, &quot;danger_list&quot;: null, &quot;date_end&quot;: null, &quot;date_inscribed&quot;: 2018, &quot;justification_en&quot;: null, &quot;latitude&quot;: -0.8913380556, &quot;longitude&quot;: 34.326107, &quot;name_en&quot;: &quot;Thimlich Ohinga Archaeological Site&quot;, &quot;rev_bis&quot;: null, &quot;secondary_dates&quot;: null, &quot;short_description_en&quot;: &quot;\\u003cp\\u003eSituated north-west of the town of Migori, in the Lake Victoria region, this dry-stone walled settlement was probably built in the 16th century CE. The \\u003cem\\u003eOhinga\\u003c/em\\u003e (i.e. settlement) seems to have served as a fort for communities and livestock, but also defined social entities and relationships linked to lineage. Thimlich Ohinga is the largest and best preserved of these traditional enclosures. It is an exceptional example of the tradition of massive dry-stone walled enclosures, typical of the first pastoral communities in the Lake Victoria Basin, which persisted from the 16th to the mid-20th century.\\u003c/p\\u003e&quot;, &quot;states_name_en&quot;: &quot;Kenya&quot;}, &quot;type&quot;: &quot;Feature&quot;}, {&quot;bbox&quot;: [44.75, -18.66667, 44.75, -18.66667], &quot;geometry&quot;: {&quot;coordinates&quot;: [44.75, -18.66667], &quot;type&quot;: &quot;Point&quot;}, &quot;id&quot;: &quot;630&quot;, &quot;properties&quot;: {&quot;__folium_color&quot;: &quot;#999999&quot;, &quot;area_hectares&quot;: 152000.0, &quot;category&quot;: &quot;Natural&quot;, &quot;category_short&quot;: &quot;N&quot;, &quot;danger&quot;: 0, &quot;danger_list&quot;: null, &quot;date_end&quot;: null, &quot;date_inscribed&quot;: 1990, &quot;justification_en&quot;: null, &quot;latitude&quot;: -18.66667, &quot;longitude&quot;: 44.75, &quot;name_en&quot;: &quot;Tsingy de Bemaraha Strict Nature Reserve&quot;, &quot;rev_bis&quot;: &quot;rev&quot;, &quot;secondary_dates&quot;: null, &quot;short_description_en&quot;: &quot;\\u003cp\\u003eTsingy de Bemaraha Strict Nature Reserve comprises karstic landscapes and limestone uplands cut into impressive \\u0027tsingy\\u0027 peaks and a \\u0027forest\\u0027 of limestone needles, the spectacular canyon of the Manambolo river, rolling hills and high peaks. The undisturbed forests, lakes and mangrove swamps are the habitat for rare and endangered lemurs and birds.\\u003c/p\\u003e&quot;, &quot;states_name_en&quot;: &quot;Madagascar&quot;}, &quot;type&quot;: &quot;Feature&quot;}, {&quot;bbox&quot;: [47.56278, -18.75917, 47.56278, -18.75917], &quot;geometry&quot;: {&quot;coordinates&quot;: [47.56278, -18.75917], &quot;type&quot;: &quot;Point&quot;}, &quot;id&quot;: &quot;631&quot;, &quot;properties&quot;: {&quot;__folium_color&quot;: &quot;#e41a1c&quot;, &quot;area_hectares&quot;: 59.0, &quot;category&quot;: &quot;Cultural&quot;, &quot;category_short&quot;: &quot;C&quot;, &quot;danger&quot;: 0, &quot;danger_list&quot;: null, &quot;date_end&quot;: null, &quot;date_inscribed&quot;: 2001, &quot;justification_en&quot;: &quot;\\u003cp\\u003eCriterion iii The Royal Hill of Ambohimanga is the most significant symbol of the cultural identity of the people of Madagascar. Criterion iv The traditional design, materials, and layout of the Royal Hill of Ambohimanga are representative of the social and political structure of Malagasy society from at least the 16th century. Criterion vi The Royal Hill of Ambohimanga an exceptional example of a place where, over centuries, common human experience has been focused in memory, ritual, and prayer.\\u003c/p\\u003e&quot;, &quot;latitude&quot;: -18.75917, &quot;longitude&quot;: 47.56278, &quot;name_en&quot;: &quot;Royal Hill of Ambohimanga&quot;, &quot;rev_bis&quot;: null, &quot;secondary_dates&quot;: null, &quot;short_description_en&quot;: &quot;\\u003cp\\u003eThe Royal Hill of Ambohimanga consists of a royal city and burial site, and an ensemble of sacred places. It is associated with strong feelings of national identity, and has maintained its spiritual and sacred character both in ritual practice and the popular imagination for the past 500 years. It remains a place of worship to which pilgrims come from Madagascar and elsewhere.\\u003c/p\\u003e&quot;, &quot;states_name_en&quot;: &quot;Madagascar&quot;}, &quot;type&quot;: &quot;Feature&quot;}, {&quot;bbox&quot;: [49.7025, -14.4597222222, 49.7025, -14.4597222222], &quot;geometry&quot;: {&quot;coordinates&quot;: [49.7025, -14.4597222222], &quot;type&quot;: &quot;Point&quot;}, &quot;id&quot;: &quot;632&quot;, &quot;properties&quot;: {&quot;__folium_color&quot;: &quot;#999999&quot;, &quot;area_hectares&quot;: 479660.7, &quot;category&quot;: &quot;Natural&quot;, &quot;category_short&quot;: &quot;N&quot;, &quot;danger&quot;: 1, &quot;danger_list&quot;: &quot;Y 2010&quot;, &quot;date_end&quot;: null, &quot;date_inscribed&quot;: 2007, &quot;justification_en&quot;: null, &quot;latitude&quot;: -14.4597222222, &quot;longitude&quot;: 49.7025, &quot;name_en&quot;: &quot;Rainforests of the Atsinanana&quot;, &quot;rev_bis&quot;: null, &quot;secondary_dates&quot;: null, &quot;short_description_en&quot;: &quot;\\u003cp\\u003eThe Rainforests of the Atsinanana comprise six national parks distributed along the eastern part of the island. These relict forests are critically important for maintaining ongoing ecological processes necessary for the survival of Madagascar\\u2019s unique biodiversity, which reflects the island\\u2019s geological history. Having completed its separation from all other land masses more than 60 million years ago, Madagascar\\u2019s plant and animal life evolved in isolation. The rainforests are inscribed for their importance to both ecological and biological processes as well as their biodiversity and the threatened species they support. Many species are rare and threatened especially primates and lemurs.\\u003c/p\\u003e&quot;, &quot;states_name_en&quot;: &quot;Madagascar&quot;}, &quot;type&quot;: &quot;Feature&quot;}, {&quot;bbox&quot;: [34.88333, -14.03333, 34.88333, -14.03333], &quot;geometry&quot;: {&quot;coordinates&quot;: [34.88333, -14.03333], &quot;type&quot;: &quot;Point&quot;}, &quot;id&quot;: &quot;633&quot;, &quot;properties&quot;: {&quot;__folium_color&quot;: &quot;#999999&quot;, &quot;area_hectares&quot;: 9400.0, &quot;category&quot;: &quot;Natural&quot;, &quot;category_short&quot;: &quot;N&quot;, &quot;danger&quot;: 0, &quot;danger_list&quot;: null, &quot;date_end&quot;: null, &quot;date_inscribed&quot;: 1984, &quot;justification_en&quot;: null, &quot;latitude&quot;: -14.03333, &quot;longitude&quot;: 34.88333, &quot;name_en&quot;: &quot;Lake Malawi National Park&quot;, &quot;rev_bis&quot;: null, &quot;secondary_dates&quot;: null, &quot;short_description_en&quot;: &quot;\\u003cp\\u003eLocated at the southern end of the great expanse of Lake Malawi, with its deep, clear waters and mountain backdrop, the national park is home to many hundreds of fish species, nearly all endemic. Its importance for the study of evolution is comparable to that of the finches of the Galapagos Islands.\\u003c/p\\u003e&quot;, &quot;states_name_en&quot;: &quot;Malawi&quot;}, &quot;type&quot;: &quot;Feature&quot;}, {&quot;bbox&quot;: [34.2791666666, -14.2933333333, 34.2791666666, -14.2933333333], &quot;geometry&quot;: {&quot;coordinates&quot;: [34.2791666666, -14.2933333333], &quot;type&quot;: &quot;Point&quot;}, &quot;id&quot;: &quot;634&quot;, &quot;properties&quot;: {&quot;__folium_color&quot;: &quot;#e41a1c&quot;, &quot;area_hectares&quot;: 12640.0, &quot;category&quot;: &quot;Cultural&quot;, &quot;category_short&quot;: &quot;C&quot;, &quot;danger&quot;: 0, &quot;danger_list&quot;: null, &quot;date_end&quot;: null, &quot;date_inscribed&quot;: 2006, &quot;justification_en&quot;: null, &quot;latitude&quot;: -14.2933333333, &quot;longitude&quot;: 34.2791666666, &quot;name_en&quot;: &quot;Chongoni Rock-Art Area&quot;, &quot;rev_bis&quot;: &quot;rev&quot;, &quot;secondary_dates&quot;: null, &quot;short_description_en&quot;: &quot;\\u003cp\\u003eSituated within a cluster of forested granite hills and covering an area of 126.4 km2, high up the plateau of central Malawi, the 127 sites of this area feature the richest concentration of rock art in Central Africa. They reflect the comparatively scarce tradition of farmer rock art, as well as paintings by BaTwa hunter-gatherers who inhabited the area from the late Stone Age. The Chewa agriculturalists, whose ancestors lived there from the late Iron Age, practised rock painting until well into the 20th century. The symbols in the rock art, which are strongly associated with women, still have cultural relevance amongst the Chewa, and the sites are actively associated with ceremonies and rituals.\\u003c/p\\u003e&quot;, &quot;states_name_en&quot;: &quot;Malawi&quot;}, &quot;type&quot;: &quot;Feature&quot;}, {&quot;bbox&quot;: [-4.555, 13.90639, -4.555, 13.90639], &quot;geometry&quot;: {&quot;coordinates&quot;: [-4.555, 13.90639], &quot;type&quot;: &quot;Point&quot;}, &quot;id&quot;: &quot;639&quot;, &quot;properties&quot;: {&quot;__folium_color&quot;: &quot;#e41a1c&quot;, &quot;area_hectares&quot;: 0.0, &quot;category&quot;: &quot;Cultural&quot;, &quot;category_short&quot;: &quot;C&quot;, &quot;danger&quot;: 1, &quot;danger_list&quot;: &quot;Y 2016&quot;, &quot;date_end&quot;: null, &quot;date_inscribed&quot;: 1988, &quot;justification_en&quot;: null, &quot;latitude&quot;: 13.90639, &quot;longitude&quot;: -4.555, &quot;name_en&quot;: &quot;Old Towns of Djenn\\u00e9&quot;, &quot;rev_bis&quot;: &quot;rev&quot;, &quot;secondary_dates&quot;: null, &quot;short_description_en&quot;: &quot;\\u003cp\\u003eInhabited since 250 B.C., Djenn\\u00e9 became a market centre and an important link in the trans-Saharan gold trade. In the 15th and 16th centuries, it was one of the centres for the propagation of Islam. Its traditional houses, of which nearly 2,000 have survived, are built on hillocks (\\u003cem\\u003etoguere\\u003c/em\\u003e) as protection from the seasonal floods.\\u003c/p\\u003e&quot;, &quot;states_name_en&quot;: &quot;Mali&quot;}, &quot;type&quot;: &quot;Feature&quot;}, {&quot;bbox&quot;: [-2.999444444, 16.77333333, -2.999444444, 16.77333333], &quot;geometry&quot;: {&quot;coordinates&quot;: [-2.999444444, 16.77333333], &quot;type&quot;: &quot;Point&quot;}, &quot;id&quot;: &quot;640&quot;, &quot;properties&quot;: {&quot;__folium_color&quot;: &quot;#e41a1c&quot;, &quot;area_hectares&quot;: 0.0, &quot;category&quot;: &quot;Cultural&quot;, &quot;category_short&quot;: &quot;C&quot;, &quot;danger&quot;: 1, &quot;danger_list&quot;: &quot;Y 2012 P 1990-2005&quot;, &quot;date_end&quot;: 2005.0, &quot;date_inscribed&quot;: 1988, &quot;justification_en&quot;: null, &quot;latitude&quot;: 16.77333333, &quot;longitude&quot;: -2.999444444, &quot;name_en&quot;: &quot;Timbuktu&quot;, &quot;rev_bis&quot;: &quot;rev&quot;, &quot;secondary_dates&quot;: null, &quot;short_description_en&quot;: &quot;\\u003cp\\u003eHome of the prestigious Koranic Sankore University and other \\u003cem\\u003emadrasas\\u003c/em\\u003e, Timbuktu was an intellectual and spiritual capital and a centre for the propagation of Islam throughout Africa in the 15th and 16th centuries. Its three great mosques, Djingareyber, Sankore and Sidi Yahia, recall Timbuktu\\u0027s golden age. Although continuously restored, these monuments are today under threat from desertification.\\u003c/p\\u003e&quot;, &quot;states_name_en&quot;: &quot;Mali&quot;}, &quot;type&quot;: &quot;Feature&quot;}, {&quot;bbox&quot;: [-3.41667, 14.33333, -3.41667, 14.33333], &quot;geometry&quot;: {&quot;coordinates&quot;: [-3.41667, 14.33333], &quot;type&quot;: &quot;Point&quot;}, &quot;id&quot;: &quot;641&quot;, &quot;properties&quot;: {&quot;__folium_color&quot;: &quot;#ff7f00&quot;, &quot;area_hectares&quot;: 327390.0, &quot;category&quot;: &quot;Mixed&quot;, &quot;category_short&quot;: &quot;C/N&quot;, &quot;danger&quot;: 0, &quot;danger_list&quot;: null, &quot;date_end&quot;: null, &quot;date_inscribed&quot;: 1989, &quot;justification_en&quot;: null, &quot;latitude&quot;: 14.33333, &quot;longitude&quot;: -3.41667, &quot;name_en&quot;: &quot;Cliff of Bandiagara (Land of the Dogons)&quot;, &quot;rev_bis&quot;: null, &quot;secondary_dates&quot;: null, &quot;short_description_en&quot;: &quot;\\u003cp\\u003eThe Bandiagara site is an outstanding landscape of cliffs and sandy plateaux with some beautiful architecture (houses, granaries, altars, sanctuaries and \\u003cem\\u003eTogu Na\\u003c/em\\u003e, or communal meeting-places). Several age-old social traditions live on in the region (masks, feasts, rituals, and ceremonies involving ancestor worship). The geological, archaeological and ethnological interest, together with the landscape, make the Bandiagara plateau one of West Africa\\u0027s most impressive sites.\\u003c/p\\u003e&quot;, &quot;states_name_en&quot;: &quot;Mali&quot;}, &quot;type&quot;: &quot;Feature&quot;}, {&quot;bbox&quot;: [-0.04456, 16.2898, -0.04456, 16.2898], &quot;geometry&quot;: {&quot;coordinates&quot;: [-0.04456, 16.2898], &quot;type&quot;: &quot;Point&quot;}, &quot;id&quot;: &quot;642&quot;, &quot;properties&quot;: {&quot;__folium_color&quot;: &quot;#e41a1c&quot;, &quot;area_hectares&quot;: 4.24, &quot;category&quot;: &quot;Cultural&quot;, &quot;category_short&quot;: &quot;C&quot;, &quot;danger&quot;: 1, &quot;danger_list&quot;: &quot;Y 2012&quot;, &quot;date_end&quot;: null, &quot;date_inscribed&quot;: 2004, &quot;justification_en&quot;: null, &quot;latitude&quot;: 16.2898, &quot;longitude&quot;: -0.04456, &quot;name_en&quot;: &quot;Tomb of Askia&quot;, &quot;rev_bis&quot;: null, &quot;secondary_dates&quot;: null, &quot;short_description_en&quot;: &quot;\\u003cp\\u003eThe dramatic 17-m pyramidal structure of the Tomb of Askia was built by Askia Mohamed, the Emperor of Songhai, in 1495 in his capital Gao. It bears testimony to the power and riches of the empire that flourished in the 15th and 16th centuries through its control of the trans-Saharan trade, notably in salt and gold. It is also a fine example of the monumental mud-building traditions of the West African Sahel. The complex, including the pyramidal tomb, two flat-roofed mosque buildings, the mosque cemetery and the open-air assembly ground, was built when Gao became the capital of the Songhai Empire and after Askia Mohamed had returned from Mecca and made Islam the official religion of the empire.\\u003c/p\\u003e&quot;, &quot;states_name_en&quot;: &quot;Mali&quot;}, &quot;type&quot;: &quot;Feature&quot;}, {&quot;bbox&quot;: [57.5031666666, -20.1586388889, 57.5031666666, -20.1586388889], &quot;geometry&quot;: {&quot;coordinates&quot;: [57.5031666666, -20.1586388889], &quot;type&quot;: &quot;Point&quot;}, &quot;id&quot;: &quot;649&quot;, &quot;properties&quot;: {&quot;__folium_color&quot;: &quot;#e41a1c&quot;, &quot;area_hectares&quot;: 0.164, &quot;category&quot;: &quot;Cultural&quot;, &quot;category_short&quot;: &quot;C&quot;, &quot;danger&quot;: 0, &quot;danger_list&quot;: null, &quot;date_end&quot;: null, &quot;date_inscribed&quot;: 2006, &quot;justification_en&quot;: null, &quot;latitude&quot;: -20.1586388889, &quot;longitude&quot;: 57.5031666666, &quot;name_en&quot;: &quot;Aapravasi Ghat&quot;, &quot;rev_bis&quot;: null, &quot;secondary_dates&quot;: null, &quot;short_description_en&quot;: &quot;\\u003cp\\u003eIn the district of Port Louis, lies the 1,640 m2 site where the modern indentured labour diaspora began. In 1834, the British Government selected the island of Mauritius to be the first site for what it called \\u0026lsquo;the great experiment\\u0026rsquo; in the use of \\u0026lsquo;free\\u0026rsquo; labour to replace slaves. Between 1834 and 1920, almost half a million indentured labourers arrived from India at Aapravasi Ghat to work in the sugar plantations of Mauritius, or to be transferred to Reunion Island, Australia, southern and eastern Africa or the Caribbean. The buildings of Aapravasi Ghat are among the earliest explicit manifestations of what was to become a global economic system and one of the greatest migrations in history.\\u003c/p\\u003e&quot;, &quot;states_name_en&quot;: &quot;Mauritius&quot;}, &quot;type&quot;: &quot;Feature&quot;}, {&quot;bbox&quot;: [57.3283333333, -20.4519444444, 57.3283333333, -20.4519444444], &quot;geometry&quot;: {&quot;coordinates&quot;: [57.3283333333, -20.4519444444], &quot;type&quot;: &quot;Point&quot;}, &quot;id&quot;: &quot;650&quot;, &quot;properties&quot;: {&quot;__folium_color&quot;: &quot;#e41a1c&quot;, &quot;area_hectares&quot;: 349.6, &quot;category&quot;: &quot;Cultural&quot;, &quot;category_short&quot;: &quot;C&quot;, &quot;danger&quot;: 0, &quot;danger_list&quot;: null, &quot;date_end&quot;: null, &quot;date_inscribed&quot;: 2008, &quot;justification_en&quot;: null, &quot;latitude&quot;: -20.4519444444, &quot;longitude&quot;: 57.3283333333, &quot;name_en&quot;: &quot;Le Morne Cultural Landscape&quot;, &quot;rev_bis&quot;: &quot;Bis&quot;, &quot;secondary_dates&quot;: null, &quot;short_description_en&quot;: &quot;\\u003cp\\u003eLe Morne Cultural Landscape, a rugged mountain that juts into the Indian Ocean in the southwest of Mauritius was used as a shelter by runaway slaves, maroons, through the 18th and early years of the 19th centuries. Protected by the mountain\\u2019s isolated, wooded and almost inaccessible cliffs, the escaped slaves formed small settlements in the caves and on the summit of Le Morne. The oral traditions associated with the maroons, have made Le Morne a symbol of the slaves\\u2019 fight for freedom, their suffering, and their sacrifice, all of which have relevance to the countries from which the slaves came - the African mainland, Madagascar, India, and South-east Asia. Indeed, Mauritius, an important stopover in the eastern slave trade, also came to be known as the \\u201cMaroon republic\\u201d because of the large number of escaped slaves who lived on Le Morne Mountain.\\u003c/p\\u003e&quot;, &quot;states_name_en&quot;: &quot;Mauritius&quot;}, &quot;type&quot;: &quot;Feature&quot;}, {&quot;bbox&quot;: [40.73583, -15.03417, 40.73583, -15.03417], &quot;geometry&quot;: {&quot;coordinates&quot;: [40.73583, -15.03417], &quot;type&quot;: &quot;Point&quot;}, &quot;id&quot;: &quot;701&quot;, &quot;properties&quot;: {&quot;__folium_color&quot;: &quot;#e41a1c&quot;, &quot;area_hectares&quot;: 0.0, &quot;category&quot;: &quot;Cultural&quot;, &quot;category_short&quot;: &quot;C&quot;, &quot;danger&quot;: 0, &quot;danger_list&quot;: null, &quot;date_end&quot;: null, &quot;date_inscribed&quot;: 1991, &quot;justification_en&quot;: null, &quot;latitude&quot;: -15.03417, &quot;longitude&quot;: 40.73583, &quot;name_en&quot;: &quot;Island of Mozambique&quot;, &quot;rev_bis&quot;: null, &quot;secondary_dates&quot;: null, &quot;short_description_en&quot;: &quot;\\u003cp\\u003eThe fortified city of Mozambique is located on this island, a former Portuguese trading-post on the route to India. Its remarkable architectural unity is due to the consistent use, since the 16th century, of the same building techniques, building materials (stone or \\u003cem\\u003emacuti\\u003c/em\\u003e) and decorative principles.\\u003c/p\\u003e&quot;, &quot;states_name_en&quot;: &quot;Mozambique&quot;}, &quot;type&quot;: &quot;Feature&quot;}, {&quot;bbox&quot;: [14.3725833333, -20.5955833333, 14.3725833333, -20.5955833333], &quot;geometry&quot;: {&quot;coordinates&quot;: [14.3725833333, -20.5955833333], &quot;type&quot;: &quot;Point&quot;}, &quot;id&quot;: &quot;704&quot;, &quot;properties&quot;: {&quot;__folium_color&quot;: &quot;#e41a1c&quot;, &quot;area_hectares&quot;: 57.4269, &quot;category&quot;: &quot;Cultural&quot;, &quot;category_short&quot;: &quot;C&quot;, &quot;danger&quot;: 0, &quot;danger_list&quot;: null, &quot;date_end&quot;: null, &quot;date_inscribed&quot;: 2007, &quot;justification_en&quot;: null, &quot;latitude&quot;: -20.5955833333, &quot;longitude&quot;: 14.3725833333, &quot;name_en&quot;: &quot;Twyfelfontein or /Ui-//aes&quot;, &quot;rev_bis&quot;: null, &quot;secondary_dates&quot;: null, &quot;short_description_en&quot;: &quot;\\u003cp\\u003eTwyfelfontein or /Ui-//aes has one of the largest concentrations of [...] petroglyphs, i.e. rock engravings in Africa. Most of these well-preserved engravings represent rhinoceros, . The site also includes six painteelephant, ostrich and giraffe, as well as drawings of human and animal footprintsd rock shelters with motifs of human figures in red ochre. The objects excavated from two sections, date from the Late Stone Age. The site forms a coherent, extensive and high-quality record of ritual practices relating to hunter-gatherer communities in this part of southern Africa over at least 2,000 years, and eloquently illustrates the links between the ritual and economic practices of hunter-gatherers.\\u003c/p\\u003e&quot;, &quot;states_name_en&quot;: &quot;Namibia&quot;}, &quot;type&quot;: &quot;Feature&quot;}, {&quot;bbox&quot;: [15.4077777778, -24.8852777778, 15.4077777778, -24.8852777778], &quot;geometry&quot;: {&quot;coordinates&quot;: [15.4077777778, -24.8852777778], &quot;type&quot;: &quot;Point&quot;}, &quot;id&quot;: &quot;705&quot;, &quot;properties&quot;: {&quot;__folium_color&quot;: &quot;#999999&quot;, &quot;area_hectares&quot;: 3077700.0, &quot;category&quot;: &quot;Natural&quot;, &quot;category_short&quot;: &quot;N&quot;, &quot;danger&quot;: 0, &quot;danger_list&quot;: null, &quot;date_end&quot;: null, &quot;date_inscribed&quot;: 2013, &quot;justification_en&quot;: null, &quot;latitude&quot;: -24.8852777778, &quot;longitude&quot;: 15.4077777778, &quot;name_en&quot;: &quot;Namib Sand Sea&quot;, &quot;rev_bis&quot;: null, &quot;secondary_dates&quot;: null, &quot;short_description_en&quot;: &quot;\\u003cp\\u003eNamib Sand Sea\\u0026nbsp;is the only coastal desert in the world that includes extensive dune fields influenced by fog. Covering an area of over three million hectares and a buffer zone of 899,500 hectares, the site is composed of two dune systems, an ancient semi-consolidated one overlain by a younger active one. The desert dunes are formed by the transportation of materials thousands of kilometres from the hinterland, that are carried by river, ocean current and wind. It features gravel plains, coastal flats, rocky hills, inselbergs within the sand sea, a coastal lagoon and ephemeral rivers, resulting in a landscape of exceptional beauty. Fog is the primary source of water in the site, accounting for a unique environment in which\\u0026nbsp; endemic invertebrates, reptiles and mammals adapt to an ever-changing variety of microhabitats and ecological niches.\\u003c/p\\u003e&quot;, &quot;states_name_en&quot;: &quot;Namibia&quot;}, &quot;type&quot;: &quot;Feature&quot;}, {&quot;bbox&quot;: [9.0, 18.0, 9.0, 18.0], &quot;geometry&quot;: {&quot;coordinates&quot;: [9.0, 18.0], &quot;type&quot;: &quot;Point&quot;}, &quot;id&quot;: &quot;724&quot;, &quot;properties&quot;: {&quot;__folium_color&quot;: &quot;#999999&quot;, &quot;area_hectares&quot;: 7736000.0, &quot;category&quot;: &quot;Natural&quot;, &quot;category_short&quot;: &quot;N&quot;, &quot;danger&quot;: 1, &quot;danger_list&quot;: &quot;Y 1992&quot;, &quot;date_end&quot;: null, &quot;date_inscribed&quot;: 1991, &quot;justification_en&quot;: null, &quot;latitude&quot;: 18.0, &quot;longitude&quot;: 9.0, &quot;name_en&quot;: &quot;Air and T\\u00e9n\\u00e9r\\u00e9 Natural Reserves&quot;, &quot;rev_bis&quot;: null, &quot;secondary_dates&quot;: null, &quot;short_description_en&quot;: &quot;\\u003cp\\u003eThis is the largest protected area in Africa, covering some 7.7 million ha, though the area considered a protected sanctuary constitutes only one-sixth of the total area. It includes the volcanic rock mass of the A\\u00efr, a small Sahelian pocket, isolated as regards its climate and flora and fauna, and situated in the Saharan desert of T\\u00e9n\\u00e9r\\u00e9. The reserves boast an outstanding variety of landscapes, plant species and wild animals.\\u003c/p\\u003e&quot;, &quot;states_name_en&quot;: &quot;Niger&quot;}, &quot;type&quot;: &quot;Feature&quot;}, {&quot;bbox&quot;: [7.9913888889, 16.9736111111, 7.9913888889, 16.9736111111], &quot;geometry&quot;: {&quot;coordinates&quot;: [7.9913888889, 16.9736111111], &quot;type&quot;: &quot;Point&quot;}, &quot;id&quot;: &quot;725&quot;, &quot;properties&quot;: {&quot;__folium_color&quot;: &quot;#e41a1c&quot;, &quot;area_hectares&quot;: 77.6, &quot;category&quot;: &quot;Cultural&quot;, &quot;category_short&quot;: &quot;C&quot;, &quot;danger&quot;: 0, &quot;danger_list&quot;: null, &quot;date_end&quot;: null, &quot;date_inscribed&quot;: 2013, &quot;justification_en&quot;: null, &quot;latitude&quot;: 16.9736111111, &quot;longitude&quot;: 7.9913888889, &quot;name_en&quot;: &quot;Historic Centre of Agadez&quot;, &quot;rev_bis&quot;: null, &quot;secondary_dates&quot;: null, &quot;short_description_en&quot;: &quot;\\u003cp\\u003eKnown as the gateway to the desert, Agadez, on the southern edge of the Sahara desert, developed in the 15\\u003cspan\\u003eth\\u003c/span\\u003e\\u0026nbsp;and 16\\u003cspan\\u003eth\\u003c/span\\u003e\\u0026nbsp;centuries when the Sultanate of A\\u0026iuml;r was established\\u0026nbsp; and Touareg tribes were sedentarized in the city, respecting the boundaries of old encampments, which gave rise to a street pattern still in place today. The historic centre of the city, an important crossroads of the caravan trade, is divided into 11 quarters with irregular shapes. They contain numerous earthen dwellings and a well-preserved group of palatial and religious buildings including a 27m high\\u0026nbsp; minaret made entirely of mud brick, the highest such structure in the world.\\u0026nbsp; The site is marked by ancestral cultural, commercial and handicraft traditions still practiced today and presents exceptional and sophisticated examples of earthen architecture.\\u003c/p\\u003e&quot;, &quot;states_name_en&quot;: &quot;Niger&quot;}, &quot;type&quot;: &quot;Feature&quot;}, {&quot;bbox&quot;: [13.57194, 10.74056, 13.57194, 10.74056], &quot;geometry&quot;: {&quot;coordinates&quot;: [13.57194, 10.74056], &quot;type&quot;: &quot;Point&quot;}, &quot;id&quot;: &quot;726&quot;, &quot;properties&quot;: {&quot;__folium_color&quot;: &quot;#e41a1c&quot;, &quot;area_hectares&quot;: 764.4, &quot;category&quot;: &quot;Cultural&quot;, &quot;category_short&quot;: &quot;C&quot;, &quot;danger&quot;: 0, &quot;danger_list&quot;: null, &quot;date_end&quot;: null, &quot;date_inscribed&quot;: 1999, &quot;justification_en&quot;: &quot;\\u003cp\\u003eCriterion (iii): Sukur is an exceptional landscape which graphically illustrates a form of land-use that marks a critical stage in human settlement and its relationship with its environment. Criterion (v): The cultural landscape of Sukur has survived unchanged for many centuries, and continues to do so at a period when this form of traditional human settlement is under threat in many parts of the world. Criterion vi The cultural landscape of Sukur is eloquent testimony to a strong and continuing cultural tradition that has endured for many centuries.\\u003c/p\\u003e&quot;, &quot;latitude&quot;: 10.74056, &quot;longitude&quot;: 13.57194, &quot;name_en&quot;: &quot;Sukur Cultural Landscape&quot;, &quot;rev_bis&quot;: null, &quot;secondary_dates&quot;: null, &quot;short_description_en&quot;: &quot;\\u003cp\\u003eThe Sukur Cultural Landscape, with the Palace of the Hidi (Chief) on a hill dominating the villages below, the terraced fields and their sacred symbols, and the extensive remains of a former flourishing iron industry, is a remarkably intact physical expression of a society and its spiritual and material culture.\\u003c/p\\u003e&quot;, &quot;states_name_en&quot;: &quot;Nigeria&quot;}, &quot;type&quot;: &quot;Feature&quot;}, {&quot;bbox&quot;: [4.55222, 7.75556, 4.55222, 7.75556], &quot;geometry&quot;: {&quot;coordinates&quot;: [4.55222, 7.75556], &quot;type&quot;: &quot;Point&quot;}, &quot;id&quot;: &quot;727&quot;, &quot;properties&quot;: {&quot;__folium_color&quot;: &quot;#e41a1c&quot;, &quot;area_hectares&quot;: 75.0, &quot;category&quot;: &quot;Cultural&quot;, &quot;category_short&quot;: &quot;C&quot;, &quot;danger&quot;: 0, &quot;danger_list&quot;: null, &quot;date_end&quot;: null, &quot;date_inscribed&quot;: 2005, &quot;justification_en&quot;: &quot;\\u003cp\\u003e\\u003cem\\u003eCriterion (ii): \\u003c/em\\u003eThe development of the movement of New Sacred Artists and the absorption of Suzanne Wenger, an Austrian artist, into the Yoruba community have proved to be a fertile exchange of ideas that revived the sacred Osun Grove ;\\u003c/p\\u003e\\n\\u003cp\\u003e\\u003cem\\u003eCriterion (iii): \\u003c/em\\u003eThe Osun Sacred Grove is the largest and perhaps the only remaining example of a once widespread phenomenon that used to characterise every Yoruba settlement. It now represents Yoruba sacred groves and their reflection of Yoruba cosmology.\\u003c/p\\u003e\\n\\u003cp\\u003e\\u003cem\\u003eCriterion (vi): \\u003c/em\\u003eThe Osun Grove is a tangible expression of Yoruba divinatory and cosmological systems; its annual festival is a living thriving and evolving response to Yoruba beliefs in the bond between people, their ruler and the Osun goddess.\\u003c/p\\u003e&quot;, &quot;latitude&quot;: 7.75556, &quot;longitude&quot;: 4.55222, &quot;name_en&quot;: &quot;Osun-Osogbo Sacred Grove&quot;, &quot;rev_bis&quot;: null, &quot;secondary_dates&quot;: null, &quot;short_description_en&quot;: &quot;\\u003cp\\u003eThe dense forest of the Osun Sacred Grove, on the outskirts of the city of Osogbo, is one of the last remnants of primary high forest in southern Nigeria. Regarded as the abode of the goddess of fertility Osun, one of the pantheon of Yoruba gods, the landscape of the grove and its meandering river is dotted with sanctuaries and shrines, sculptures and art works in honour of Osun and other deities. The sacred grove, which is now seen as a symbol of identity for all Yoruba people, is probably the last in Yoruba culture. It testifies to the once widespread practice of establishing sacred groves outside all settlements.\\u003c/p\\u003e&quot;, &quot;states_name_en&quot;: &quot;Nigeria&quot;}, &quot;type&quot;: &quot;Feature&quot;}, {&quot;bbox&quot;: [-16.237906, 16.414602, -16.237906, 16.414602], &quot;geometry&quot;: {&quot;coordinates&quot;: [-16.237906, 16.414602], &quot;type&quot;: &quot;Point&quot;}, &quot;id&quot;: &quot;862&quot;, &quot;properties&quot;: {&quot;__folium_color&quot;: &quot;#999999&quot;, &quot;area_hectares&quot;: 16000.0, &quot;category&quot;: &quot;Natural&quot;, &quot;category_short&quot;: &quot;N&quot;, &quot;danger&quot;: 0, &quot;danger_list&quot;: &quot;P 1984-1988 P 2000-2006&quot;, &quot;date_end&quot;: 1988.0, &quot;date_inscribed&quot;: 1981, &quot;justification_en&quot;: null, &quot;latitude&quot;: 16.414602, &quot;longitude&quot;: -16.237906, &quot;name_en&quot;: &quot;Djoudj National Bird Sanctuary&quot;, &quot;rev_bis&quot;: null, &quot;secondary_dates&quot;: null, &quot;short_description_en&quot;: &quot;\\u003cp\\u003eSituated in the Senegal River delta, the Djoudj Sanctuary is a wetland of 16,000 ha, comprising a large lake surrounded by streams, ponds and backwaters. It forms a living but fragile sanctuary for some 1.5 million birds, such as the white pelican, the purple heron, the African spoonbill, the great egret and the cormorant.\\u003c/p\\u003e&quot;, &quot;states_name_en&quot;: &quot;Senegal&quot;}, &quot;type&quot;: &quot;Feature&quot;}, {&quot;bbox&quot;: [-17.40083, 14.66722, -17.40083, 14.66722], &quot;geometry&quot;: {&quot;coordinates&quot;: [-17.40083, 14.66722], &quot;type&quot;: &quot;Point&quot;}, &quot;id&quot;: &quot;863&quot;, &quot;properties&quot;: {&quot;__folium_color&quot;: &quot;#e41a1c&quot;, &quot;area_hectares&quot;: 0.0, &quot;category&quot;: &quot;Cultural&quot;, &quot;category_short&quot;: &quot;C&quot;, &quot;danger&quot;: 0, &quot;danger_list&quot;: null, &quot;date_end&quot;: null, &quot;date_inscribed&quot;: 1978, &quot;justification_en&quot;: null, &quot;latitude&quot;: 14.66722, &quot;longitude&quot;: -17.40083, &quot;name_en&quot;: &quot;Island of Gor\\u00e9e&quot;, &quot;rev_bis&quot;: null, &quot;secondary_dates&quot;: null, &quot;short_description_en&quot;: &quot;\\u003cp\\u003eThe island of Gor\\u0026eacute;e lies off the coast of Senegal, opposite Dakar. From the 15th to the 19th century, it was the largest slave-trading centre on the African coast. Ruled in succession by the Portuguese, Dutch, English and French, its architecture is characterized by the contrast between the grim slave-quarters and the elegant houses of the slave traders. Today it continues to serve as a reminder of human exploitation and as a sanctuary for reconciliation.\\u003c/p\\u003e&quot;, &quot;states_name_en&quot;: &quot;Senegal&quot;}, &quot;type&quot;: &quot;Feature&quot;}, {&quot;bbox&quot;: [-12.899781, 12.841271, -12.899781, 12.841271], &quot;geometry&quot;: {&quot;coordinates&quot;: [-12.899781, 12.841271], &quot;type&quot;: &quot;Point&quot;}, &quot;id&quot;: &quot;864&quot;, &quot;properties&quot;: {&quot;__folium_color&quot;: &quot;#999999&quot;, &quot;area_hectares&quot;: 913000.0, &quot;category&quot;: &quot;Natural&quot;, &quot;category_short&quot;: &quot;N&quot;, &quot;danger&quot;: 1, &quot;danger_list&quot;: &quot;Y 2007&quot;, &quot;date_end&quot;: null, &quot;date_inscribed&quot;: 1981, &quot;justification_en&quot;: null, &quot;latitude&quot;: 12.841271, &quot;longitude&quot;: -12.899781, &quot;name_en&quot;: &quot;Niokolo-Koba National Park&quot;, &quot;rev_bis&quot;: null, &quot;secondary_dates&quot;: null, &quot;short_description_en&quot;: &quot;\\u003cp\\u003eLocated in a well-watered area along the banks of the Gambia river, the gallery forests and savannahs of Niokolo-Koba National Park have a very rich fauna, among them Derby elands (largest of the antelopes), chimpanzees, lions, leopards and a large population of elephants, as well as many birds, reptiles and amphibians.\\u003c/p\\u003e&quot;, &quot;states_name_en&quot;: &quot;Senegal&quot;}, &quot;type&quot;: &quot;Feature&quot;}, {&quot;bbox&quot;: [-16.50444, 16.02778, -16.50444, 16.02778], &quot;geometry&quot;: {&quot;coordinates&quot;: [-16.50444, 16.02778], &quot;type&quot;: &quot;Point&quot;}, &quot;id&quot;: &quot;865&quot;, &quot;properties&quot;: {&quot;__folium_color&quot;: &quot;#e41a1c&quot;, &quot;area_hectares&quot;: 0.0, &quot;category&quot;: &quot;Cultural&quot;, &quot;category_short&quot;: &quot;C&quot;, &quot;danger&quot;: 0, &quot;danger_list&quot;: null, &quot;date_end&quot;: null, &quot;date_inscribed&quot;: 2000, &quot;justification_en&quot;: null, &quot;latitude&quot;: 16.02778, &quot;longitude&quot;: -16.50444, &quot;name_en&quot;: &quot;Island of Saint-Louis&quot;, &quot;rev_bis&quot;: &quot;Bis&quot;, &quot;secondary_dates&quot;: null, &quot;short_description_en&quot;: &quot;\\u003cp\\u003eFounded as a French colonial settlement in the 17th century, Saint-Louis was urbanised in the mid-19th century. It was the capital of Senegal from 1872 to 1957 and played an important cultural and economic role in the whole of West Africa. The location of the town on an island at the mouth of the Senegal River, its regular town plan, the system of quays, and the characteristic colonial architecture give Saint-Louis its distinctive appearance and identity.\\u003c/p\\u003e&quot;, &quot;states_name_en&quot;: &quot;Senegal&quot;}, &quot;type&quot;: &quot;Feature&quot;}, {&quot;bbox&quot;: [-16.4986111111, 13.8352777778, -16.4986111111, 13.8352777778], &quot;geometry&quot;: {&quot;coordinates&quot;: [-16.4986111111, 13.8352777778], &quot;type&quot;: &quot;Point&quot;}, &quot;id&quot;: &quot;866&quot;, &quot;properties&quot;: {&quot;__folium_color&quot;: &quot;#e41a1c&quot;, &quot;area_hectares&quot;: 145811.0, &quot;category&quot;: &quot;Cultural&quot;, &quot;category_short&quot;: &quot;C&quot;, &quot;danger&quot;: 0, &quot;danger_list&quot;: null, &quot;date_end&quot;: null, &quot;date_inscribed&quot;: 2011, &quot;justification_en&quot;: null, &quot;latitude&quot;: 13.8352777778, &quot;longitude&quot;: -16.4986111111, &quot;name_en&quot;: &quot;Saloum Delta&quot;, &quot;rev_bis&quot;: null, &quot;secondary_dates&quot;: null, &quot;short_description_en&quot;: &quot;\\u003cp\\u003eFishing and shellfish gathering have sustained human life in the 5,000 km2 property, which is formed by the arms of three rivers. The site comprises brackish channels encompassing over 200 islands and islets, mangrove forest, an Atlantic marine environment, and dry forest.\\u003c/p\\u003e\\n\\u003cp\\u003eThe site is marked by 218 shellfish mounds, some of them several hundreds metres long, produced by its human inhabitants over the ages. Burial sites on 28 of the mounds take the form of tumuli where remarkable artefacts have been found. They are important for our understanding of cultures from the various periods of the delta\\u0027s occupation and testify to the history of human settlement along the coast of West Africa.\\u003c/p\\u003e&quot;, &quot;states_name_en&quot;: &quot;Senegal&quot;}, &quot;type&quot;: &quot;Feature&quot;}, {&quot;bbox&quot;: [-12.8458333333, 12.5933333333, -12.8458333333, 12.5933333333], &quot;geometry&quot;: {&quot;coordinates&quot;: [-12.8458333333, 12.5933333333], &quot;type&quot;: &quot;Point&quot;}, &quot;id&quot;: &quot;867&quot;, &quot;properties&quot;: {&quot;__folium_color&quot;: &quot;#e41a1c&quot;, &quot;area_hectares&quot;: 50309.0, &quot;category&quot;: &quot;Cultural&quot;, &quot;category_short&quot;: &quot;C&quot;, &quot;danger&quot;: 0, &quot;danger_list&quot;: null, &quot;date_end&quot;: null, &quot;date_inscribed&quot;: 2012, &quot;justification_en&quot;: null, &quot;latitude&quot;: 12.5933333333, &quot;longitude&quot;: -12.8458333333, &quot;name_en&quot;: &quot;Bassari Country: Bassari, Fula and Bedik Cultural Landscapes&quot;, &quot;rev_bis&quot;: null, &quot;secondary_dates&quot;: null, &quot;short_description_en&quot;: &quot;\\u003cp\\u003eThe site, located in south-east Senegal, includes three geographical areas: the Bassari\\u2013Sal\\u00e9mata area, the Bedik\\u2013Bandafassi area and the Fula\\u2013Dind\\u00e9fello area, each with its specific morphological traits. The Bassari, Fula and Bedik peoples settled from the 11th to the 19th centuries and developed specific cultures and habitats symbiotic with their surrounding natural environment. The Bassari landscape is marked by terraces and rice paddies, interspersed with villages, hamlets and archaeological sites. The Bedik villages are formed by dense groups of huts with steep thatched roofs. Their inhabitants\\u2019 cultural expressions are characterized by original traits of agro-pastoral, social, ritual and spiritual practices, which represent an original response to environmental constraints and human pressures. The site is a well-preserved multicultural landscape housing original and still vibrant local cultures.\\u003c/p\\u003e&quot;, &quot;states_name_en&quot;: &quot;Senegal&quot;}, &quot;type&quot;: &quot;Feature&quot;}, {&quot;bbox&quot;: [46.41666667, -9.416666667, 46.41666667, -9.416666667], &quot;geometry&quot;: {&quot;coordinates&quot;: [46.41666667, -9.416666667], &quot;type&quot;: &quot;Point&quot;}, &quot;id&quot;: &quot;872&quot;, &quot;properties&quot;: {&quot;__folium_color&quot;: &quot;#999999&quot;, &quot;area_hectares&quot;: 35000.0, &quot;category&quot;: &quot;Natural&quot;, &quot;category_short&quot;: &quot;N&quot;, &quot;danger&quot;: 0, &quot;danger_list&quot;: null, &quot;date_end&quot;: null, &quot;date_inscribed&quot;: 1982, &quot;justification_en&quot;: null, &quot;latitude&quot;: -9.416666667, &quot;longitude&quot;: 46.41666667, &quot;name_en&quot;: &quot;Aldabra Atoll&quot;, &quot;rev_bis&quot;: null, &quot;secondary_dates&quot;: null, &quot;short_description_en&quot;: &quot;\\u003cp\\u003eThe atoll is comprised of four large coral islands which enclose a shallow lagoon; the group of islands is itself surrounded by a coral reef. Due to difficulties of access and the atoll\\u0027s isolation, Aldabra has been protected from human influence and thus retains some 152,000 giant tortoises, the world\\u0027s largest population of this reptile.\\u003c/p\\u003e&quot;, &quot;states_name_en&quot;: &quot;Seychelles&quot;}, &quot;type&quot;: &quot;Feature&quot;}, {&quot;bbox&quot;: [55.7375, -4.32917, 55.7375, -4.32917], &quot;geometry&quot;: {&quot;coordinates&quot;: [55.7375, -4.32917], &quot;type&quot;: &quot;Point&quot;}, &quot;id&quot;: &quot;873&quot;, &quot;properties&quot;: {&quot;__folium_color&quot;: &quot;#999999&quot;, &quot;area_hectares&quot;: 19.5, &quot;category&quot;: &quot;Natural&quot;, &quot;category_short&quot;: &quot;N&quot;, &quot;danger&quot;: 0, &quot;danger_list&quot;: null, &quot;date_end&quot;: null, &quot;date_inscribed&quot;: 1983, &quot;justification_en&quot;: null, &quot;latitude&quot;: -4.32917, &quot;longitude&quot;: 55.7375, &quot;name_en&quot;: &quot;Vall\\u00e9e de Mai Nature Reserve&quot;, &quot;rev_bis&quot;: null, &quot;secondary_dates&quot;: null, &quot;short_description_en&quot;: &quot;\\u003cp\\u003eIn the heart of the small island of Praslin, the reserve has the vestiges of a natural palm forest preserved in almost its original state. The famous \\u003cem\\u003ecoco de mer\\u003c/em\\u003e, from a palm-tree once believed to grow in the depths of the sea, is the largest seed in the plant kingdom.\\u003c/p\\u003e&quot;, &quot;states_name_en&quot;: &quot;Seychelles&quot;}, &quot;type&quot;: &quot;Feature&quot;}, {&quot;bbox&quot;: [32.55, -27.83889, 32.55, -27.83889], &quot;geometry&quot;: {&quot;coordinates&quot;: [32.55, -27.83889], &quot;type&quot;: &quot;Point&quot;}, &quot;id&quot;: &quot;883&quot;, &quot;properties&quot;: {&quot;__folium_color&quot;: &quot;#999999&quot;, &quot;area_hectares&quot;: 239566.0, &quot;category&quot;: &quot;Natural&quot;, &quot;category_short&quot;: &quot;N&quot;, &quot;danger&quot;: 0, &quot;danger_list&quot;: null, &quot;date_end&quot;: null, &quot;date_inscribed&quot;: 1999, &quot;justification_en&quot;: &quot;\\u003cp\\u003eThe St Lucia site consists of thirteen contiguous protected areas with a total size of 234,566 hectares. The site is the largest estuarine system in Africa and includes the southernmost extension of coral reefs on the continent. The site contains a combination of on-going fluvial, marine and aeolian processes that have resulted in a variety of landforms and ecosystems. Features include wide submarine canyons, sandy beaches, forested dune cordon and a mosaic of wetlands, grasslands, forests, lakes and savanna. The variety of morphology as well as major flood and storm events contribute to ongoing evolutionary processes in the area. Natural phenomena include: shifts from low to hyper-saline states in the Park\\u2019s lakes; large numbers of nesting turtles on the beaches; the migration of whales, dolphins and whale-sharks off-shore; and huge numbers of waterfowl including large breeding colonies of pelicans, storks, herons and terns. The Park\\u2019s location between sub-tropical and tropical Africa as well as its coastal setting has resulted in exceptional biodiversity including some 521 bird species.\\u003c/p\\u003e&quot;, &quot;latitude&quot;: -27.83889, &quot;longitude&quot;: 32.55, &quot;name_en&quot;: &quot;iSimangaliso Wetland Park&quot;, &quot;rev_bis&quot;: null, &quot;secondary_dates&quot;: null, &quot;short_description_en&quot;: &quot;\\u003cp\\u003eThe ongoing fluvial, marine and aeolian processes in the site have produced a variety of landforms, including coral reefs, long sandy beaches, coastal dunes, lake systems, swamps, and extensive reed and papyrus wetlands. The interplay of the park\\u0027s environmental heterogeneity with major floods and coastal storms and a transitional geographic location between subtropical and tropical Africa has resulted in exceptional species diversity and ongoing speciation. The mosaic of landforms and habitat types creates breathtaking scenic vistas. The site contains critical habitats for a range of species from Africa\\u0027s marine, wetland and savannah environments.\\u003c/p\\u003e&quot;, &quot;states_name_en&quot;: &quot;South Africa&quot;}, &quot;type&quot;: &quot;Feature&quot;}, {&quot;bbox&quot;: [29.17694, -24.15861, 29.17694, -24.15861], &quot;geometry&quot;: {&quot;coordinates&quot;: [29.17694, -24.15861], &quot;type&quot;: &quot;Point&quot;}, &quot;id&quot;: &quot;884&quot;, &quot;properties&quot;: {&quot;__folium_color&quot;: &quot;#e41a1c&quot;, &quot;area_hectares&quot;: 0.0, &quot;category&quot;: &quot;Cultural&quot;, &quot;category_short&quot;: &quot;C&quot;, &quot;danger&quot;: 0, &quot;danger_list&quot;: null, &quot;date_end&quot;: null, &quot;date_inscribed&quot;: 1999, &quot;justification_en&quot;: null, &quot;latitude&quot;: -24.15861, &quot;longitude&quot;: 29.17694, &quot;name_en&quot;: &quot;Fossil Hominid Sites of South Africa&quot;, &quot;rev_bis&quot;: &quot;Bis&quot;, &quot;secondary_dates&quot;: &quot;2005&quot;, &quot;short_description_en&quot;: &quot;\\u003cp\\u003eThe Taung Skull Fossil Site, part of the extension to the site inscribed in 1999, is the place where in 1924 the celebrated Taung Skull \\u2013 a specimen of the species Australopithecus africanus \\u2013 was found. Makapan Valley, also in the site, features in its many archaeological caves traces of human occupation and evolution dating back some 3.3 million years. The area contains essential elements that define the origin and evolution of humanity. Fossils found there have enabled the identification of several specimens of early hominids, more particularly of Paranthropus, dating back between 4.5 million and 2.5 million years, as well as evidence of the domestication of fire 1.8 million to 1 million years ago.\\u003c/p\\u003e&quot;, &quot;states_name_en&quot;: &quot;South Africa&quot;}, &quot;type&quot;: &quot;Feature&quot;}, {&quot;bbox&quot;: [18.36666667, -33.8, 18.36666667, -33.8], &quot;geometry&quot;: {&quot;coordinates&quot;: [18.36666667, -33.8], &quot;type&quot;: &quot;Point&quot;}, &quot;id&quot;: &quot;885&quot;, &quot;properties&quot;: {&quot;__folium_color&quot;: &quot;#e41a1c&quot;, &quot;area_hectares&quot;: 475.0, &quot;category&quot;: &quot;Cultural&quot;, &quot;category_short&quot;: &quot;C&quot;, &quot;danger&quot;: 0, &quot;danger_list&quot;: null, &quot;date_end&quot;: null, &quot;date_inscribed&quot;: 1999, &quot;justification_en&quot;: &quot;\\u003cp\\u003eCriterion (iii): The buildings of Robben Island bear eloquent testimony to its sombre history. Criterion (vi): Robben Island and its prison buildings symbolize the triumph of the human spirit, of freedom, and of democracy over oppression.\\u003c/p\\u003e&quot;, &quot;latitude&quot;: -33.8, &quot;longitude&quot;: 18.36666667, &quot;name_en&quot;: &quot;Robben Island&quot;, &quot;rev_bis&quot;: null, &quot;secondary_dates&quot;: null, &quot;short_description_en&quot;: &quot;\\u003cp\\u003eRobben Island was used at various times between the 17th and 20th centuries as a prison, a hospital for socially unacceptable groups and a military base. Its buildings, particularly those of the late 20th century such as the maximum security prison for political prisoners, witness the triumph of democracy and freedom over oppression and racism.\\u003c/p\\u003e&quot;, &quot;states_name_en&quot;: &quot;South Africa&quot;}, &quot;type&quot;: &quot;Feature&quot;}, {&quot;bbox&quot;: [18.475, -34.3611111111, 18.475, -34.3611111111], &quot;geometry&quot;: {&quot;coordinates&quot;: [18.475, -34.3611111111], &quot;type&quot;: &quot;Point&quot;}, &quot;id&quot;: &quot;886&quot;, &quot;properties&quot;: {&quot;__folium_color&quot;: &quot;#999999&quot;, &quot;area_hectares&quot;: 1094742.0, &quot;category&quot;: &quot;Natural&quot;, &quot;category_short&quot;: &quot;N&quot;, &quot;danger&quot;: 0, &quot;danger_list&quot;: null, &quot;date_end&quot;: null, &quot;date_inscribed&quot;: 2004, &quot;justification_en&quot;: null, &quot;latitude&quot;: -34.3611111111, &quot;longitude&quot;: 18.475, &quot;name_en&quot;: &quot;Cape Floral Region Protected Areas&quot;, &quot;rev_bis&quot;: &quot;Bis&quot;, &quot;secondary_dates&quot;: &quot;2015&quot;, &quot;short_description_en&quot;: &quot;\\u003cp\\u003eInscribed on the World Heritage List in 2004, the property is located at the south-western extremity of South Africa. It is one of the world\\u2019s great centres of terrestrial biodiversity. The extended property includes national parks, nature reserves, wilderness areas, State forests and mountain catchment areas. These elements add a significant number of endemic species associated with the \\u003cem\\u003eFynbos\\u003c/em\\u003e vegetation, a fine-leaved sclerophyllic shrubland adapted to both a Mediterranean climate and periodic fires, which is unique to the Cape Floral Region.\\u003c/p\\u003e&quot;, &quot;states_name_en&quot;: &quot;South Africa&quot;}, &quot;type&quot;: &quot;Feature&quot;}, {&quot;bbox&quot;: [29.23889, -22.1925, 29.23889, -22.1925], &quot;geometry&quot;: {&quot;coordinates&quot;: [29.23889, -22.1925], &quot;type&quot;: &quot;Point&quot;}, &quot;id&quot;: &quot;887&quot;, &quot;properties&quot;: {&quot;__folium_color&quot;: &quot;#e41a1c&quot;, &quot;area_hectares&quot;: 28168.6602, &quot;category&quot;: &quot;Cultural&quot;, &quot;category_short&quot;: &quot;C&quot;, &quot;danger&quot;: 0, &quot;danger_list&quot;: null, &quot;date_end&quot;: null, &quot;date_inscribed&quot;: 2003, &quot;justification_en&quot;: &quot;\\u003cp\\u003e\\u003cem\\u003eCriterion (ii):\\u003c/em\\u003e The Mapungubwe Cultural Landscape contains evidence for an important interchange of human values that led to far-reaching cultural and social changes in Southern Africa between AD 900 and 1300.\\u003cbr /\\u003e \\u003cem\\u003eCriterion (iii):\\u003c/em\\u003e The remains in the Mapungubwe cultural landscape are a remarkably complete testimony to the growth and subsequent decline of the Mapungubwe state which at its height was the largest kingdom in the African sub-continent.\\u003cbr /\\u003e \\u003cem\\u003eCriterion (iv):\\u003c/em\\u003e The establishment of Mapungubwe as a powerful state trading through the East African ports with Arabia and India was a significant stage in the history of the African sub-continent.\\u003cbr /\\u003e \\u003cem\\u003eCriterion (v)\\u003c/em\\u003e : The remains in the Mapungubwe cultural landscape graphically illustrate the impact of climate change and record the growth and then decline of the kingdom of Mapungubwe as a clear record of a culture that became vulnerable to irreversible change.\\u003c/p\\u003e&quot;, &quot;latitude&quot;: -22.1925, &quot;longitude&quot;: 29.23889, &quot;name_en&quot;: &quot;Mapungubwe Cultural Landscape&quot;, &quot;rev_bis&quot;: &quot;Bis&quot;, &quot;secondary_dates&quot;: null, &quot;short_description_en&quot;: &quot;\\u003cp\\u003eMapungubwe is set hard against the northern border of South Africa, joining Zimbabwe and Botswana. It is an open, expansive savannah landscape at the confluence of the Limpopo and Shashe rivers. Mapungubwe developed into the largest kingdom in the sub-continent before it was abandoned in the 14th century. What survives are the almost untouched remains of the palace sites and also the entire settlement area dependent upon them, as well as two earlier capital sites, the whole presenting an unrivalled picture of the development of social and political structures over some 400 years.\\u003c/p\\u003e&quot;, &quot;states_name_en&quot;: &quot;South Africa&quot;}, &quot;type&quot;: &quot;Feature&quot;}, {&quot;bbox&quot;: [27.26, -26.86, 27.26, -26.86], &quot;geometry&quot;: {&quot;coordinates&quot;: [27.26, -26.86], &quot;type&quot;: &quot;Point&quot;}, &quot;id&quot;: &quot;888&quot;, &quot;properties&quot;: {&quot;__folium_color&quot;: &quot;#999999&quot;, &quot;area_hectares&quot;: 30000.0, &quot;category&quot;: &quot;Natural&quot;, &quot;category_short&quot;: &quot;N&quot;, &quot;danger&quot;: 0, &quot;danger_list&quot;: null, &quot;date_end&quot;: null, &quot;date_inscribed&quot;: 2005, &quot;justification_en&quot;: &quot;\\u003cp\\u003e\\u003cem\\u003eCriterion (viii): \\u003c/em\\u003eVredefort Dome is the oldest, largest, and most deeply eroded complex meteorite impact structure in the world. It is the site of the world\\u2019s greatest single, known energy release event. It contains high quality and accessible geological (outcrop) sites which demonstrate a range of geological evidences of a complex meteorite impact structure. The rural and natural landscapes of the serial property help portray the magnitude of the ring structures resulting from the impact. The serial nomination is considered to be a representative sample of a complex meteorite impact structure. A comprehensive comparative analysis with other complex meteorite impact structures demonstrated that it is the only example on earth providing a full geological profile of an astrobleme below the crater floor, thereby enabling research into the genesis and development of an astrobleme immediately post impact.\\u003c/p\\u003e&quot;, &quot;latitude&quot;: -26.86, &quot;longitude&quot;: 27.26, &quot;name_en&quot;: &quot;Vredefort Dome&quot;, &quot;rev_bis&quot;: null, &quot;secondary_dates&quot;: null, &quot;short_description_en&quot;: &quot;\\u003cp\\u003eVredefort Dome, approximately 120 km south-west of Johannesburg, is a representative part of a larger meteorite impact structure, or astrobleme. Dating back 2,023 million years, it is the oldest astrobleme yet found on Earth. With a radius of 190 km, it is also the largest and the most deeply eroded. Vredefort Dome bears witness to the world\\u2019s greatest known single energy release event, which had devastating global effects including, according to some scientists, major evolutionary changes. It provides critical evidence of the Earth\\u2019s geological history and is crucial to understanding of the evolution of the planet. Despite the importance of impact sites to the planet\\u2019s history, geological activity on the Earth\\u2019s surface has led to the disappearance of evidence from most of them, and Vredefort is the only example to provide a full geological profile of an astrobleme below the crater floor.\\u003c/p\\u003e&quot;, &quot;states_name_en&quot;: &quot;South Africa&quot;}, &quot;type&quot;: &quot;Feature&quot;}, {&quot;bbox&quot;: [17.2038888888, -28.6, 17.2038888888, -28.6], &quot;geometry&quot;: {&quot;coordinates&quot;: [17.2038888888, -28.6], &quot;type&quot;: &quot;Point&quot;}, &quot;id&quot;: &quot;889&quot;, &quot;properties&quot;: {&quot;__folium_color&quot;: &quot;#e41a1c&quot;, &quot;area_hectares&quot;: 160000.0, &quot;category&quot;: &quot;Cultural&quot;, &quot;category_short&quot;: &quot;C&quot;, &quot;danger&quot;: 0, &quot;danger_list&quot;: null, &quot;date_end&quot;: null, &quot;date_inscribed&quot;: 2007, &quot;justification_en&quot;: null, &quot;latitude&quot;: -28.6, &quot;longitude&quot;: 17.2038888888, &quot;name_en&quot;: &quot;Richtersveld Cultural and Botanical Landscape&quot;, &quot;rev_bis&quot;: null, &quot;secondary_dates&quot;: null, &quot;short_description_en&quot;: &quot;\\u003cp\\u003eThe 160,000 ha Richtersveld Cultural and Botanical Landscape of dramatic mountainous desert in north-western South Africa constitutes a cultural landscape communally owned and managed. This site sustains the semi-nomadic pastoral livelihood of the Nama people, reflecting seasonal patterns that may have persisted for as much as two millennia in southern Africa. It is the only area where the Nama still construct portable rush-mat houses (\\u003cem\\u003eharu om\\u003c/em\\u003e ) and includes seasonal migrations and grazing grounds, together with stock posts. The pastoralists collect medicinal and other plants and have a strong oral tradition associated with different places and attributes of the landscape.\\u003c/p\\u003e&quot;, &quot;states_name_en&quot;: &quot;South Africa&quot;}, &quot;type&quot;: &quot;Feature&quot;}, {&quot;bbox&quot;: [20.3745833333, -25.6876111111, 20.3745833333, -25.6876111111], &quot;geometry&quot;: {&quot;coordinates&quot;: [20.3745833333, -25.6876111111], &quot;type&quot;: &quot;Point&quot;}, &quot;id&quot;: &quot;890&quot;, &quot;properties&quot;: {&quot;__folium_color&quot;: &quot;#e41a1c&quot;, &quot;area_hectares&quot;: 959100.0, &quot;category&quot;: &quot;Cultural&quot;, &quot;category_short&quot;: &quot;C&quot;, &quot;danger&quot;: 0, &quot;danger_list&quot;: null, &quot;date_end&quot;: null, &quot;date_inscribed&quot;: 2017, &quot;justification_en&quot;: null, &quot;latitude&quot;: -25.6876111111, &quot;longitude&quot;: 20.3745833333, &quot;name_en&quot;: &quot;\\u01c2Khomani Cultural Landscape&quot;, &quot;rev_bis&quot;: null, &quot;secondary_dates&quot;: null, &quot;short_description_en&quot;: &quot;\\u003cp\\u003eThe \\u01c2Khomani Cultural Landscape is located at the border with Botswana and Namibia in the northern part of the country, coinciding with the Kalahari Gemsbok National Park (KGNP). The large expanse of sand contains evidence of human occupation from the Stone Age to the present and is associated with the culture of the formerly nomadic \\u01c2Khomani San people and the strategies that allowed them to adapt to harsh desert conditions. They developed a specific ethnobotanical knowledge, cultural practices and a worldview related to the geographical features of their environment. The \\u01c2Khomani Cultural Landscape bears testimony to the way of life that prevailed in the region and shaped the site over thousands of years.\\u003c/p\\u003e&quot;, &quot;states_name_en&quot;: &quot;South Africa&quot;}, &quot;type&quot;: &quot;Feature&quot;}, {&quot;bbox&quot;: [31.0138888889, -25.9738888889, 31.0138888889, -25.9738888889], &quot;geometry&quot;: {&quot;coordinates&quot;: [31.0138888889, -25.9738888889], &quot;type&quot;: &quot;Point&quot;}, &quot;id&quot;: &quot;891&quot;, &quot;properties&quot;: {&quot;__folium_color&quot;: &quot;#999999&quot;, &quot;area_hectares&quot;: 113137.0, &quot;category&quot;: &quot;Natural&quot;, &quot;category_short&quot;: &quot;N&quot;, &quot;danger&quot;: 0, &quot;danger_list&quot;: null, &quot;date_end&quot;: null, &quot;date_inscribed&quot;: 2018, &quot;justification_en&quot;: null, &quot;latitude&quot;: -25.9738888889, &quot;longitude&quot;: 31.0138888889, &quot;name_en&quot;: &quot;Barberton Makhonjwa Mountains&quot;, &quot;rev_bis&quot;: null, &quot;secondary_dates&quot;: null, &quot;short_description_en&quot;: &quot;\\u003cp\\u003eSituated in north-eastern South Africa, the Barberton Makhonjwa Mountains comprises 40% of the Barberton Greenstone Belt, one of the world\\u2019s oldest geological structures. The property represents the best-preserved succession of volcanic and sedimentary rock dating back 3.6 to 3.25 billion years and forms a diverse repository of information on surface conditions, meteorite impacts, volcanism, continent-building processes and the environment of early life.\\u003c/p\\u003e&quot;, &quot;states_name_en&quot;: &quot;South Africa&quot;}, &quot;type&quot;: &quot;Feature&quot;}, {&quot;bbox&quot;: [1.133333333, 10.06666667, 1.133333333, 10.06666667], &quot;geometry&quot;: {&quot;coordinates&quot;: [1.133333333, 10.06666667], &quot;type&quot;: &quot;Point&quot;}, &quot;id&quot;: &quot;985&quot;, &quot;properties&quot;: {&quot;__folium_color&quot;: &quot;#e41a1c&quot;, &quot;area_hectares&quot;: 50000.0, &quot;category&quot;: &quot;Cultural&quot;, &quot;category_short&quot;: &quot;C&quot;, &quot;danger&quot;: 0, &quot;danger_list&quot;: null, &quot;date_end&quot;: null, &quot;date_inscribed&quot;: 2004, &quot;justification_en&quot;: &quot;\\u003cp\\u003eCriterion (v): The Koutammakou is an outstanding example of a system of traditional settlement that is still living and dynamic, and subject to traditional and sustainable systems and practices, and which reflects the singular culture of the Batammariba, particularly the Takienta tower houses.\\u003c/p\\u003e\\n\\u003cp\\u003eCriterion (vi): The Koutammakou is an eloquent testimony to the strength of spiritual association between people and landscape, as manifested in the harmony between the Batammariba and their natural surroundings.\\u003c/p\\u003e&quot;, &quot;latitude&quot;: 10.06666667, &quot;longitude&quot;: 1.133333333, &quot;name_en&quot;: &quot;Koutammakou, the Land of the Batammariba&quot;, &quot;rev_bis&quot;: null, &quot;secondary_dates&quot;: null, &quot;short_description_en&quot;: &quot;\\u003cp\\u003eThe Koutammakou landscape in north-eastern Togo, which extends into neighbouring Benin, is home to the Batammariba whose remarkable mud tower-houses (Takienta) have come to be seen as a symbol of Togo. In this landscape, nature is strongly associated with the rituals and beliefs of society. The 50,000-ha cultural landscape is remarkable due to the architecture of its tower-houses which are a reflection of social structure; its farmland and forest; and the associations between people and landscape. Many of the buildings are two storeys high and those with granaries feature an almost spherical form above a cylindrical base. Some of the buildings have flat roofs, others have conical thatched roofs. They are grouped in villages, which also include ceremonial spaces, springs, rocks and sites reserved for initiation ceremonies.\\u003c/p\\u003e&quot;, &quot;states_name_en&quot;: &quot;Togo&quot;}, &quot;type&quot;: &quot;Feature&quot;}, {&quot;bbox&quot;: [29.66138889, -1.080555556, 29.66138889, -1.080555556], &quot;geometry&quot;: {&quot;coordinates&quot;: [29.66138889, -1.080555556], &quot;type&quot;: &quot;Point&quot;}, &quot;id&quot;: &quot;1016&quot;, &quot;properties&quot;: {&quot;__folium_color&quot;: &quot;#999999&quot;, &quot;area_hectares&quot;: 32092.0, &quot;category&quot;: &quot;Natural&quot;, &quot;category_short&quot;: &quot;N&quot;, &quot;danger&quot;: 0, &quot;danger_list&quot;: null, &quot;date_end&quot;: null, &quot;date_inscribed&quot;: 1994, &quot;justification_en&quot;: null, &quot;latitude&quot;: -1.080555556, &quot;longitude&quot;: 29.66138889, &quot;name_en&quot;: &quot;Bwindi Impenetrable National Park&quot;, &quot;rev_bis&quot;: null, &quot;secondary_dates&quot;: null, &quot;short_description_en&quot;: &quot;\\u003cp\\u003eLocated in south-western Uganda, at the junction of the plain and mountain forests, Bwindi Park covers 32,000 ha and is known for its exceptional biodiversity, with more than 160 species of trees and over 100 species of ferns. Many types of birds and butterflies can also be found there, as well as many endangered species, including the mountain gorilla.\\u003c/p\\u003e&quot;, &quot;states_name_en&quot;: &quot;Uganda&quot;}, &quot;type&quot;: &quot;Feature&quot;}, {&quot;bbox&quot;: [29.92416667, 0.223611111, 29.92416667, 0.223611111], &quot;geometry&quot;: {&quot;coordinates&quot;: [29.92416667, 0.223611111], &quot;type&quot;: &quot;Point&quot;}, &quot;id&quot;: &quot;1017&quot;, &quot;properties&quot;: {&quot;__folium_color&quot;: &quot;#999999&quot;, &quot;area_hectares&quot;: 99600.0, &quot;category&quot;: &quot;Natural&quot;, &quot;category_short&quot;: &quot;N&quot;, &quot;danger&quot;: 0, &quot;danger_list&quot;: &quot;P 1999-2004&quot;, &quot;date_end&quot;: 2004.0, &quot;date_inscribed&quot;: 1994, &quot;justification_en&quot;: null, &quot;latitude&quot;: 0.223611111, &quot;longitude&quot;: 29.92416667, &quot;name_en&quot;: &quot;Rwenzori Mountains National Park&quot;, &quot;rev_bis&quot;: null, &quot;secondary_dates&quot;: null, &quot;short_description_en&quot;: &quot;\\u003cp\\u003eThe Rwenzori Mountains National Park covers nearly 100,000 ha in western Uganda and comprises the main part of the Rwenzori mountain chain, which includes Africa\\u0027s third highest peak (Mount Margherita: 5,109 m). The region\\u0027s glaciers, waterfalls and lakes make it one of Africa\\u0027s most beautiful alpine areas. The park has many natural habitats of endangered species and a rich and unusual flora comprising, among other species, the giant heather.\\u003c/p\\u003e&quot;, &quot;states_name_en&quot;: &quot;Uganda&quot;}, &quot;type&quot;: &quot;Feature&quot;}, {&quot;bbox&quot;: [32.55138889, 0.348611111, 32.55138889, 0.348611111], &quot;geometry&quot;: {&quot;coordinates&quot;: [32.55138889, 0.348611111], &quot;type&quot;: &quot;Point&quot;}, &quot;id&quot;: &quot;1018&quot;, &quot;properties&quot;: {&quot;__folium_color&quot;: &quot;#e41a1c&quot;, &quot;area_hectares&quot;: 26.8, &quot;category&quot;: &quot;Cultural&quot;, &quot;category_short&quot;: &quot;C&quot;, &quot;danger&quot;: 1, &quot;danger_list&quot;: &quot;Y 2010&quot;, &quot;date_end&quot;: null, &quot;date_inscribed&quot;: 2001, &quot;justification_en&quot;: &quot;\\u003cp\\u003eCriterion i The Kasubi Tombs site is a masterpiece of human creativity both in its conception and its execution. Criterion iii The Kasubi Tombs site bears eloquent witness to the living cultural traditions of the Baganda. Criterion iv The spatial organization of the Kasubi Tombs site represents the best extant example of a Baganda palace/architectural ensemble. Built in the finest traditions of Ganda architecture and palace design, it reflects technical achievements developed over many centuries. Criterion vi The built and natural elements of the Kasubi Tombs site are charged with historical, traditional, and spiritual values. It is a major spiritual centre for the Baganda and is the most active religious place in the kingdom.\\u003c/p\\u003e&quot;, &quot;latitude&quot;: 0.348611111, &quot;longitude&quot;: 32.55138889, &quot;name_en&quot;: &quot;Tombs of Buganda Kings at Kasubi&quot;, &quot;rev_bis&quot;: null, &quot;secondary_dates&quot;: null, &quot;short_description_en&quot;: &quot;\\u003cp\\u003eThe Tombs of Buganda Kings at Kasubi constitute a site embracing almost 30 ha of hillside within Kampala district. Most of the site is agricultural, farmed by traditional methods. At its core on the hilltop is the former palace of the Kabakas of Buganda, built in 1882 and converted into the royal burial ground in 1884. Four royal tombs now lie within the Muzibu Azaala Mpanga, the main building, which is circular and surmounted by a dome. It is a major example of an architectural achievement in organic materials, principally wood, thatch, reed, wattle and daub. The site\\u0027s main significance lies, however, in its intangible values of belief, spirituality, continuity and identity.\\u003c/p\\u003e&quot;, &quot;states_name_en&quot;: &quot;Uganda&quot;}, &quot;type&quot;: &quot;Feature&quot;}, {&quot;bbox&quot;: [35.54083, -3.18722, 35.54083, -3.18722], &quot;geometry&quot;: {&quot;coordinates&quot;: [35.54083, -3.18722], &quot;type&quot;: &quot;Point&quot;}, &quot;id&quot;: &quot;1056&quot;, &quot;properties&quot;: {&quot;__folium_color&quot;: &quot;#ff7f00&quot;, &quot;area_hectares&quot;: 809440.0, &quot;category&quot;: &quot;Mixed&quot;, &quot;category_short&quot;: &quot;C/N&quot;, &quot;danger&quot;: 0, &quot;danger_list&quot;: &quot;P 1984-1989&quot;, &quot;date_end&quot;: 1989.0, &quot;date_inscribed&quot;: 1979, &quot;justification_en&quot;: null, &quot;latitude&quot;: -3.18722, &quot;longitude&quot;: 35.54083, &quot;name_en&quot;: &quot;Ngorongoro Conservation Area&quot;, &quot;rev_bis&quot;: &quot;Bis&quot;, &quot;secondary_dates&quot;: &quot;2010&quot;, &quot;short_description_en&quot;: &quot;\\u003cp\\u003eThe Ngorongoro Conservation Area spans vast expanses of highland plains, savanna, savanna woodlands and forests. Established in 1959 as a multiple land use area, with wildlife coexisting with semi-nomadic Maasai pastoralists practicing traditional livestock grazing, it includes the spectacular Ngorongoro Crater, the world\\u2019s largest caldera. The property has global importance for biodiversity conservation due to the presence of globally threatened species, the density of wildlife inhabiting the area, and the annual migration of wildebeest, zebra, gazelles and other animals into the northern plains. Extensive archaeological research has also yielded a long sequence of evidence of human evolution and human-environment dynamics, including early hominid footprints dating back 3.6 million years.\\u003c/p\\u003e&quot;, &quot;states_name_en&quot;: &quot;United Republic of Tanzania&quot;}, &quot;type&quot;: &quot;Feature&quot;}, {&quot;bbox&quot;: [39.52278, -8.95778, 39.52278, -8.95778], &quot;geometry&quot;: {&quot;coordinates&quot;: [39.52278, -8.95778], &quot;type&quot;: &quot;Point&quot;}, &quot;id&quot;: &quot;1057&quot;, &quot;properties&quot;: {&quot;__folium_color&quot;: &quot;#e41a1c&quot;, &quot;area_hectares&quot;: 0.0, &quot;category&quot;: &quot;Cultural&quot;, &quot;category_short&quot;: &quot;C&quot;, &quot;danger&quot;: 0, &quot;danger_list&quot;: &quot;P 2004-2014&quot;, &quot;date_end&quot;: 2014.0, &quot;date_inscribed&quot;: 1981, &quot;justification_en&quot;: null, &quot;latitude&quot;: -8.95778, &quot;longitude&quot;: 39.52278, &quot;name_en&quot;: &quot;Ruins of Kilwa Kisiwani and Ruins of Songo Mnara&quot;, &quot;rev_bis&quot;: null, &quot;secondary_dates&quot;: null, &quot;short_description_en&quot;: &quot;\\u003cp\\u003eThe remains of two great East African ports admired by early European explorers are situated on two small islands near the coast. From the 13th to the 16th century, the merchants of Kilwa dealt in gold, silver, pearls, perfumes, Arabian crockery, Persian earthenware and Chinese porcelain; much of the trade in the Indian Ocean thus passed through their hands.\\u003c/p\\u003e&quot;, &quot;states_name_en&quot;: &quot;United Republic of Tanzania&quot;}, &quot;type&quot;: &quot;Feature&quot;}, {&quot;bbox&quot;: [34.56667, -2.33333, 34.56667, -2.33333], &quot;geometry&quot;: {&quot;coordinates&quot;: [34.56667, -2.33333], &quot;type&quot;: &quot;Point&quot;}, &quot;id&quot;: &quot;1058&quot;, &quot;properties&quot;: {&quot;__folium_color&quot;: &quot;#999999&quot;, &quot;area_hectares&quot;: 1476300.0, &quot;category&quot;: &quot;Natural&quot;, &quot;category_short&quot;: &quot;N&quot;, &quot;danger&quot;: 0, &quot;danger_list&quot;: null, &quot;date_end&quot;: null, &quot;date_inscribed&quot;: 1981, &quot;justification_en&quot;: null, &quot;latitude&quot;: -2.33333, &quot;longitude&quot;: 34.56667, &quot;name_en&quot;: &quot;Serengeti National Park&quot;, &quot;rev_bis&quot;: null, &quot;secondary_dates&quot;: null, &quot;short_description_en&quot;: &quot;\\u003cp\\u003eThe vast plains of the Serengeti comprise 1.5 million ha of savannah. The annual migration to permanent water holes of vast herds of herbivores (wildebeest, gazelles and zebras), followed by their predators, is one of the most impressive natural events in the world.\\u003c/p\\u003e&quot;, &quot;states_name_en&quot;: &quot;United Republic of Tanzania&quot;}, &quot;type&quot;: &quot;Feature&quot;}, {&quot;bbox&quot;: [39.18917, -6.16306, 39.18917, -6.16306], &quot;geometry&quot;: {&quot;coordinates&quot;: [39.18917, -6.16306], &quot;type&quot;: &quot;Point&quot;}, &quot;id&quot;: &quot;1059&quot;, &quot;properties&quot;: {&quot;__folium_color&quot;: &quot;#e41a1c&quot;, &quot;area_hectares&quot;: 96.0, &quot;category&quot;: &quot;Cultural&quot;, &quot;category_short&quot;: &quot;C&quot;, &quot;danger&quot;: 0, &quot;danger_list&quot;: null, &quot;date_end&quot;: null, &quot;date_inscribed&quot;: 2000, &quot;justification_en&quot;: &quot;\\u003cp\\u003e\\u003cem\\u003eCriterion ii\\u003c/em\\u003e : The Stone Town of Zanzibar is an outstanding material manifestation of cultural fusion and harmonization.\\u003c/p\\u003e\\n\\u003cp\\u003e\\u003cem\\u003eCriterion iii\\u003c/em\\u003e : For many centuries there was intense seaborne trading activity between Asia and Africa, and this is illustrated in an exceptional manner by the architecture and urban structure of the Stone Town.\\u003c/p\\u003e\\n\\u003cp\\u003e\\u003cem\\u003eCriterion vi\\u003c/em\\u003e : Zanzibar has great symbolic importance in the suppression of slavery, since it was one of the main slave-trading ports in East Africa and also the base from which its opponents such as David Livingstone conducted their campaign.\\u003c/p\\u003e&quot;, &quot;latitude&quot;: -6.16306, &quot;longitude&quot;: 39.18917, &quot;name_en&quot;: &quot;Stone Town of Zanzibar&quot;, &quot;rev_bis&quot;: &quot;Rev&quot;, &quot;secondary_dates&quot;: null, &quot;short_description_en&quot;: &quot;\\u003cp\\u003eThe Stone Town of Zanzibar is a fine example of the Swahili coastal trading towns of East Africa. It retains its urban fabric and townscape virtually intact and contains many fine buildings that reflect its particular culture, which has brought together and homogenized disparate elements of the cultures of Africa, the Arab region, India, and Europe over more than a millennium.\\u003c/p\\u003e&quot;, &quot;states_name_en&quot;: &quot;United Republic of Tanzania&quot;}, &quot;type&quot;: &quot;Feature&quot;}, {&quot;bbox&quot;: [37.4, -9.0, 37.4, -9.0], &quot;geometry&quot;: {&quot;coordinates&quot;: [37.4, -9.0], &quot;type&quot;: &quot;Point&quot;}, &quot;id&quot;: &quot;1060&quot;, &quot;properties&quot;: {&quot;__folium_color&quot;: &quot;#999999&quot;, &quot;area_hectares&quot;: 5120000.0, &quot;category&quot;: &quot;Natural&quot;, &quot;category_short&quot;: &quot;N&quot;, &quot;danger&quot;: 1, &quot;danger_list&quot;: &quot;Y 2014&quot;, &quot;date_end&quot;: null, &quot;date_inscribed&quot;: 1982, &quot;justification_en&quot;: null, &quot;latitude&quot;: -9.0, &quot;longitude&quot;: 37.4, &quot;name_en&quot;: &quot;Selous Game Reserve&quot;, &quot;rev_bis&quot;: &quot;Bis&quot;, &quot;secondary_dates&quot;: null, &quot;short_description_en&quot;: &quot;\\u003cp\\u003eLarge numbers of elephants, black rhinoceroses, cheetahs, giraffes, hippopotamuses and crocodiles live in this immense sanctuary, which measures 50,000 km\\u003csup\\u003e2\\u003c/sup\\u003e and is relatively undisturbed by human impact. The park has a variety of vegetation zones, ranging from dense thickets to open wooded grasslands.\\u003c/p\\u003e&quot;, &quot;states_name_en&quot;: &quot;United Republic of Tanzania&quot;}, &quot;type&quot;: &quot;Feature&quot;}, {&quot;bbox&quot;: [37.36667, -3.06667, 37.36667, -3.06667], &quot;geometry&quot;: {&quot;coordinates&quot;: [37.36667, -3.06667], &quot;type&quot;: &quot;Point&quot;}, &quot;id&quot;: &quot;1061&quot;, &quot;properties&quot;: {&quot;__folium_color&quot;: &quot;#999999&quot;, &quot;area_hectares&quot;: 75575.0, &quot;category&quot;: &quot;Natural&quot;, &quot;category_short&quot;: &quot;N&quot;, &quot;danger&quot;: 0, &quot;danger_list&quot;: null, &quot;date_end&quot;: null, &quot;date_inscribed&quot;: 1987, &quot;justification_en&quot;: null, &quot;latitude&quot;: -3.06667, &quot;longitude&quot;: 37.36667, &quot;name_en&quot;: &quot;Kilimanjaro National Park&quot;, &quot;rev_bis&quot;: null, &quot;secondary_dates&quot;: null, &quot;short_description_en&quot;: &quot;\\u003cp\\u003eAt 5,895 m, Kilimanjaro is the highest point in Africa. This volcanic massif stands in splendid isolation above the surrounding plains, with its snowy peak looming over the savannah. The mountain is encircled by mountain forest. Numerous mammals, many of them endangered species, live in the park.\\u003c/p\\u003e&quot;, &quot;states_name_en&quot;: &quot;United Republic of Tanzania&quot;}, &quot;type&quot;: &quot;Feature&quot;}, {&quot;bbox&quot;: [35.8338888888, -4.7244444444, 35.8338888888, -4.7244444444], &quot;geometry&quot;: {&quot;coordinates&quot;: [35.8338888888, -4.7244444444], &quot;type&quot;: &quot;Point&quot;}, &quot;id&quot;: &quot;1062&quot;, &quot;properties&quot;: {&quot;__folium_color&quot;: &quot;#e41a1c&quot;, &quot;area_hectares&quot;: 233600.0, &quot;category&quot;: &quot;Cultural&quot;, &quot;category_short&quot;: &quot;C&quot;, &quot;danger&quot;: 0, &quot;danger_list&quot;: null, &quot;date_end&quot;: null, &quot;date_inscribed&quot;: 2006, &quot;justification_en&quot;: null, &quot;latitude&quot;: -4.7244444444, &quot;longitude&quot;: 35.8338888888, &quot;name_en&quot;: &quot;Kondoa Rock-Art Sites&quot;, &quot;rev_bis&quot;: &quot;rev&quot;, &quot;secondary_dates&quot;: null, &quot;short_description_en&quot;: &quot;\\u003cp\\u003eOn the eastern slopes of the Masai escarpment bordering the Great Rift Valley are natural rock shelters, overhanging slabs of sedimentary rocks fragmented by rift faults, whose vertical planes have been used for rock paintings for at least two millennia. The spectacular collection of images from over 150 shelters over 2,336 km\\u003csup\\u003e2\\u003c/sup\\u003e , many with high artistic value, displays sequences that provide a unique testimony to the changing socio-economic base of the area from hunter-gatherer to agro-pastoralist, and the beliefs and ideas associated with the different societies. Some of the shelters are still considered to have ritual associations with the people who live nearby, reflecting their beliefs, rituals and cosmological traditions.\\u003c/p\\u003e&quot;, &quot;states_name_en&quot;: &quot;United Republic of Tanzania&quot;}, &quot;type&quot;: &quot;Feature&quot;}, {&quot;bbox&quot;: [29.40805556, -15.81944444, 29.40805556, -15.81944444], &quot;geometry&quot;: {&quot;coordinates&quot;: [29.40805556, -15.81944444], &quot;type&quot;: &quot;Point&quot;}, &quot;id&quot;: &quot;1108&quot;, &quot;properties&quot;: {&quot;__folium_color&quot;: &quot;#999999&quot;, &quot;area_hectares&quot;: 676600.0, &quot;category&quot;: &quot;Natural&quot;, &quot;category_short&quot;: &quot;N&quot;, &quot;danger&quot;: 0, &quot;danger_list&quot;: null, &quot;date_end&quot;: null, &quot;date_inscribed&quot;: 1984, &quot;justification_en&quot;: null, &quot;latitude&quot;: -15.81944444, &quot;longitude&quot;: 29.40805556, &quot;name_en&quot;: &quot;Mana Pools National Park, Sapi and Chewore Safari Areas&quot;, &quot;rev_bis&quot;: null, &quot;secondary_dates&quot;: null, &quot;short_description_en&quot;: &quot;\\u003cp\\u003eOn the banks of the Zambezi, great cliffs overhang the river and the floodplains. The area is home to a remarkable concentration of wild animals, including elephants, buffalo, leopards and cheetahs. An important concentration of Nile crocodiles is also be found in the area.\\u003c/p\\u003e&quot;, &quot;states_name_en&quot;: &quot;Zimbabwe&quot;}, &quot;type&quot;: &quot;Feature&quot;}, {&quot;bbox&quot;: [28.5, -20.5, 28.5, -20.5], &quot;geometry&quot;: {&quot;coordinates&quot;: [28.5, -20.5], &quot;type&quot;: &quot;Point&quot;}, &quot;id&quot;: &quot;1109&quot;, &quot;properties&quot;: {&quot;__folium_color&quot;: &quot;#e41a1c&quot;, &quot;area_hectares&quot;: 205000.0, &quot;category&quot;: &quot;Cultural&quot;, &quot;category_short&quot;: &quot;C&quot;, &quot;danger&quot;: 0, &quot;danger_list&quot;: null, &quot;date_end&quot;: null, &quot;date_inscribed&quot;: 2003, &quot;justification_en&quot;: &quot;\\u003cp\\u003e\\u003cem\\u003eCriterion (iii)\\u003c/em\\u003e : The Matobo Hills has one of the highest concentrations of rock art in Southern Africa. The rich evidence from archaeology and from the rock paintings at Matobo provide a very full picture of the lives of foraging societies in the Stone Age and the way agricultural societies came to replace them.\\u003c/p\\u003e\\n\\u003cp\\u003e\\u003cem\\u003eCriterion (v)\\u003c/em\\u003e : The interaction between communities and the landscape, manifest in the rock art and also in the long standing religious traditions still associated with the rocks, are community responses to a landscape.\\u003c/p\\u003e\\n\\u003cp\\u003e\\u003cem\\u003eCriterion (vi)\\u003c/em\\u003e : The Mwari religion, centred on Matoba, which may date back to the Iron Age, is the most powerful oracular tradition in southern Africa.\\u003c/p\\u003e&quot;, &quot;latitude&quot;: -20.5, &quot;longitude&quot;: 28.5, &quot;name_en&quot;: &quot;Matobo Hills&quot;, &quot;rev_bis&quot;: &quot;Rev&quot;, &quot;secondary_dates&quot;: null, &quot;short_description_en&quot;: &quot;\\u003cp\\u003eThe area exhibits a profusion of distinctive rock landforms rising above the granite shield that covers much of Zimbabwe. The large boulders provide abundant natural shelters and have been associated with human occupation from the early Stone Age right through to early historical times, and intermittently since. They also feature an outstanding collection of rock paintings. The Matobo Hills continue to provide a strong focus for the local community, which still uses shrines and sacred places closely linked to traditional, social and economic activities.\\u003c/p\\u003e&quot;, &quot;states_name_en&quot;: &quot;Zimbabwe&quot;}, &quot;type&quot;: &quot;Feature&quot;}, {&quot;bbox&quot;: [30.93333333, -20.28333333, 30.93333333, -20.28333333], &quot;geometry&quot;: {&quot;coordinates&quot;: [30.93333333, -20.28333333], &quot;type&quot;: &quot;Point&quot;}, &quot;id&quot;: &quot;1110&quot;, &quot;properties&quot;: {&quot;__folium_color&quot;: &quot;#e41a1c&quot;, &quot;area_hectares&quot;: 722.0, &quot;category&quot;: &quot;Cultural&quot;, &quot;category_short&quot;: &quot;C&quot;, &quot;danger&quot;: 0, &quot;danger_list&quot;: null, &quot;date_end&quot;: null, &quot;date_inscribed&quot;: 1986, &quot;justification_en&quot;: null, &quot;latitude&quot;: -20.28333333, &quot;longitude&quot;: 30.93333333, &quot;name_en&quot;: &quot;Great Zimbabwe National Monument&quot;, &quot;rev_bis&quot;: null, &quot;secondary_dates&quot;: null, &quot;short_description_en&quot;: &quot;\\u003cp\\u003eThe ruins of Great Zimbabwe \\u0026ndash; the capital of the Queen of Sheba, according to an age-old legend \\u0026ndash; are a unique testimony to the Bantu civilization of the Shona between the 11th and 15th centuries. The city, which covers an area of nearly 80 ha, was an important trading centre and was renowned from the Middle Ages onwards.\\u003c/p\\u003e&quot;, &quot;states_name_en&quot;: &quot;Zimbabwe&quot;}, &quot;type&quot;: &quot;Feature&quot;}, {&quot;bbox&quot;: [28.37666667, -20.15833333, 28.37666667, -20.15833333], &quot;geometry&quot;: {&quot;coordinates&quot;: [28.37666667, -20.15833333], &quot;type&quot;: &quot;Point&quot;}, &quot;id&quot;: &quot;1111&quot;, &quot;properties&quot;: {&quot;__folium_color&quot;: &quot;#e41a1c&quot;, &quot;area_hectares&quot;: 0.0, &quot;category&quot;: &quot;Cultural&quot;, &quot;category_short&quot;: &quot;C&quot;, &quot;danger&quot;: 0, &quot;danger_list&quot;: null, &quot;date_end&quot;: null, &quot;date_inscribed&quot;: 1986, &quot;justification_en&quot;: null, &quot;latitude&quot;: -20.15833333, &quot;longitude&quot;: 28.37666667, &quot;name_en&quot;: &quot;Khami Ruins National Monument&quot;, &quot;rev_bis&quot;: null, &quot;secondary_dates&quot;: null, &quot;short_description_en&quot;: &quot;\\u003cp\\u003eKhami, which developed after the capital of Great Zimbabwe had been abandoned in the mid-16th century, is of great archaeological interest. The discovery of objects from Europe and China shows that Khami was a major centre for trade over a long period of time.\\u003c/p\\u003e&quot;, &quot;states_name_en&quot;: &quot;Zimbabwe&quot;}, &quot;type&quot;: &quot;Feature&quot;}, {&quot;bbox&quot;: [2.4877777778, 11.8841666667, 2.4877777778, 11.8841666667], &quot;geometry&quot;: {&quot;coordinates&quot;: [2.4877777778, 11.8841666667], &quot;type&quot;: &quot;Point&quot;}, &quot;id&quot;: &quot;1125&quot;, &quot;properties&quot;: {&quot;__folium_color&quot;: &quot;#999999&quot;, &quot;area_hectares&quot;: 1714831.0, &quot;category&quot;: &quot;Natural&quot;, &quot;category_short&quot;: &quot;N&quot;, &quot;danger&quot;: 0, &quot;danger_list&quot;: null, &quot;date_end&quot;: null, &quot;date_inscribed&quot;: 1996, &quot;justification_en&quot;: null, &quot;latitude&quot;: 11.8841666667, &quot;longitude&quot;: 2.4877777778, &quot;name_en&quot;: &quot;W-Arly-Pendjari Complex&quot;, &quot;rev_bis&quot;: null, &quot;secondary_dates&quot;: &quot;2017&quot;, &quot;short_description_en&quot;: &quot;\\u003cp\\u003eThis transnational extension (Benin, Burkina Faso) to the W National Park of Niger, inscribed in 1996 on the World Heritage List, cover a major expanse of intact Sudano-Sahelian savannah, with vegetation types including grasslands, shrub lands, wooded savannah and extensive gallery forests. It includes the largest and most important continuum of terrestrial, semi-aquatic and aquatic ecosystems in the West African savannah belt. The property is a refuge for wildlife species that have disappeared elsewhere in West Africa or are highly threatened. It is home to the largest population of elephants in West Africa and most of the large mammals typical of the region, such as the African Manatee, cheetah, lion and leopard. It also harbours the only viable population of lions in the region.\\u003c/p\\u003e&quot;, &quot;states_name_en&quot;: &quot;Benin,Burkina Faso,Niger&quot;}, &quot;type&quot;: &quot;Feature&quot;}, {&quot;bbox&quot;: [16.5541666667, 2.6094444444, 16.5541666667, 2.6094444444], &quot;geometry&quot;: {&quot;coordinates&quot;: [16.5541666667, 2.6094444444], &quot;type&quot;: &quot;Point&quot;}, &quot;id&quot;: &quot;1127&quot;, &quot;properties&quot;: {&quot;__folium_color&quot;: &quot;#999999&quot;, &quot;area_hectares&quot;: 746309.0, &quot;category&quot;: &quot;Natural&quot;, &quot;category_short&quot;: &quot;N&quot;, &quot;danger&quot;: 0, &quot;danger_list&quot;: null, &quot;date_end&quot;: null, &quot;date_inscribed&quot;: 2012, &quot;justification_en&quot;: null, &quot;latitude&quot;: 2.6094444444, &quot;longitude&quot;: 16.5541666667, &quot;name_en&quot;: &quot;Sangha Trinational&quot;, &quot;rev_bis&quot;: &quot;Rev&quot;, &quot;secondary_dates&quot;: null, &quot;short_description_en&quot;: &quot;\\u003cp\\u003eSituated in the north-western Congo Basin, where Cameroon, Central African Republic and Congo meet, the site encompasses three contiguous national parks totalling around 750,000\\u00a0ha. Much of the site is unaffected by human activity and features a wide range of humid tropical forest ecosystems with rich flora and fauna, including Nile crocodiles and goliath tigerfish, a large predator. Forest clearings support herbaceous species and Sangha is home to considerable populations of forest elephants, critically endangered western lowland gorilla, and endangered chimpanzee. The site\\u2019s environment has preserved the continuation of ecological and evolutionary processes on a huge scale and great biodiversity, including many endangered animal species.\\u003c/p\\u003e&quot;, &quot;states_name_en&quot;: &quot;Cameroon,Central African Republic,Congo&quot;}, &quot;type&quot;: &quot;Feature&quot;}, {&quot;bbox&quot;: [-8.39097, 7.60318, -8.39097, 7.60318], &quot;geometry&quot;: {&quot;coordinates&quot;: [-8.39097, 7.60318], &quot;type&quot;: &quot;Point&quot;}, &quot;id&quot;: &quot;1132&quot;, &quot;properties&quot;: {&quot;__folium_color&quot;: &quot;#999999&quot;, &quot;area_hectares&quot;: 17540.0, &quot;category&quot;: &quot;Natural&quot;, &quot;category_short&quot;: &quot;N&quot;, &quot;danger&quot;: 1, &quot;danger_list&quot;: &quot;Y 1992&quot;, &quot;date_end&quot;: null, &quot;date_inscribed&quot;: 1981, &quot;justification_en&quot;: null, &quot;latitude&quot;: 7.60318, &quot;longitude&quot;: -8.39097, &quot;name_en&quot;: &quot;Mount Nimba Strict Nature Reserve&quot;, &quot;rev_bis&quot;: &quot;-257&quot;, &quot;secondary_dates&quot;: &quot;1982&quot;, &quot;short_description_en&quot;: &quot;\\u003cp\\u003eLocated on the borders of Guinea, Liberia and C\\u00f4te d\\u2019Ivoire, Mount Nimba rises above the surrounding savannah. Its slopes are covered by dense forest at the foot of grassy mountain pastures. They harbour an especially rich flora and fauna, with endemic species such as the viviparous toad and chimpanzees that use stones as tools.\\u003c/p\\u003e&quot;, &quot;states_name_en&quot;: &quot;C\\u00f4te d\\u0027Ivoire,Guinea&quot;}, &quot;type&quot;: &quot;Feature&quot;}, {&quot;bbox&quot;: [-15.5225, 13.6911111111, -15.5225, 13.6911111111], &quot;geometry&quot;: {&quot;coordinates&quot;: [-15.5225, 13.6911111111], &quot;type&quot;: &quot;Point&quot;}, &quot;id&quot;: &quot;1138&quot;, &quot;properties&quot;: {&quot;__folium_color&quot;: &quot;#e41a1c&quot;, &quot;area_hectares&quot;: 9.85, &quot;category&quot;: &quot;Cultural&quot;, &quot;category_short&quot;: &quot;C&quot;, &quot;danger&quot;: 0, &quot;danger_list&quot;: null, &quot;date_end&quot;: null, &quot;date_inscribed&quot;: 2006, &quot;justification_en&quot;: null, &quot;latitude&quot;: 13.6911111111, &quot;longitude&quot;: -15.5225, &quot;name_en&quot;: &quot;Stone Circles of Senegambia&quot;, &quot;rev_bis&quot;: null, &quot;secondary_dates&quot;: null, &quot;short_description_en&quot;: &quot;\\u003cp\\u003eThe site consists of four large groups of stone circles that represent an extraordinary concentration of over 1,000 monuments in a band 100 km wide along some 350 km of the River Gambia. The four groups, Sine Ngay\\u00e8ne, Wanar, Wassu and Kerbatch, cover 93 stone circles and numerous tumuli, burial mounds, some of which have been excavated to reveal material that suggest dates between 3rd century BC and 16th century AD. Together the stone circles of laterite pillars and their associated burial mounds present a vast sacred landscape created over more than 1,500 years. It reflects a prosperous, highly organized and lasting society.\\u003c/p\\u003e&quot;, &quot;states_name_en&quot;: &quot;Gambia (the),Senegal&quot;}, &quot;type&quot;: &quot;Feature&quot;}, {&quot;bbox&quot;: [29.1230555556, -29.7652777778, 29.1230555556, -29.7652777778], &quot;geometry&quot;: {&quot;coordinates&quot;: [29.1230555556, -29.7652777778], &quot;type&quot;: &quot;Point&quot;}, &quot;id&quot;: &quot;1147&quot;, &quot;properties&quot;: {&quot;__folium_color&quot;: &quot;#ff7f00&quot;, &quot;area_hectares&quot;: 249313.0, &quot;category&quot;: &quot;Mixed&quot;, &quot;category_short&quot;: &quot;C/N&quot;, &quot;danger&quot;: 0, &quot;danger_list&quot;: null, &quot;date_end&quot;: null, &quot;date_inscribed&quot;: 2000, &quot;justification_en&quot;: null, &quot;latitude&quot;: -29.7652777778, &quot;longitude&quot;: 29.1230555556, &quot;name_en&quot;: &quot;Maloti-Drakensberg Park&quot;, &quot;rev_bis&quot;: &quot;Bis&quot;, &quot;secondary_dates&quot;: &quot;2013&quot;, &quot;short_description_en&quot;: &quot;\\u003cp\\u003eThe Maloti-Drakensberg Park is a transnational property composed of the uKhahlamba Drakensberg National Park in South Africa and the Sehlathebe National Park in Lesotho. The site has exceptional natural beauty in its soaring basaltic buttresses, incisive dramatic cutbacks, and golden sandstone ramparts as well as visually spectacular sculptured arches, caves, cliffs, pillars and rock pools. The site\\u0027s diversity of habitats protects a high level of endemic and globally important plants. The site harbors endangered species such as the Cape vulture (\\u003cem\\u003eGyps coprotheres\\u003c/em\\u003e) and the bearded vulture (\\u003cem\\u003eGypaetus barbatus\\u003c/em\\u003e). Lesotho\\u2019s Sehlabathebe National Park also harbors the Maloti minnow (\\u003cem\\u003ePseudobarbus quathlambae\\u003c/em\\u003e), a critically endangered fish species only found in this park. This spectacular natural site contains many caves and rock-shelters with the largest and most concentrated group of paintings in Africa south of the Sahara. They represent the spiritual life of the San people, who lived in this area over a period of 4,000 years.\\u003c/p\\u003e&quot;, &quot;states_name_en&quot;: &quot;Lesotho,South Africa&quot;}, &quot;type&quot;: &quot;Feature&quot;}, {&quot;bbox&quot;: [25.85539, -17.92453, 25.85539, -17.92453], &quot;geometry&quot;: {&quot;coordinates&quot;: [25.85539, -17.92453], &quot;type&quot;: &quot;Point&quot;}, &quot;id&quot;: &quot;1154&quot;, &quot;properties&quot;: {&quot;__folium_color&quot;: &quot;#999999&quot;, &quot;area_hectares&quot;: 6860.0, &quot;category&quot;: &quot;Natural&quot;, &quot;category_short&quot;: &quot;N&quot;, &quot;danger&quot;: 0, &quot;danger_list&quot;: null, &quot;date_end&quot;: null, &quot;date_inscribed&quot;: 1989, &quot;justification_en&quot;: null, &quot;latitude&quot;: -17.92453, &quot;longitude&quot;: 25.85539, &quot;name_en&quot;: &quot;Mosi-oa-Tunya / Victoria Falls&quot;, &quot;rev_bis&quot;: null, &quot;secondary_dates&quot;: null, &quot;short_description_en&quot;: &quot;\\u003cp\\u003eThese are among the most spectacular waterfalls in the world. The Zambezi River, which is more than 2 km wide at this point, plunges noisily down a series of basalt gorges and raises an iridescent mist that can be seen more than 20 km away.\\u003c/p\\u003e&quot;, &quot;states_name_en&quot;: &quot;Zambia,Zimbabwe&quot;}, &quot;type&quot;: &quot;Feature&quot;}], &quot;type&quot;: &quot;FeatureCollection&quot;});\n",
       "\n",
       "        \n",
       "    \n",
       "    geo_json_028ec20f91f5e6086719f07de3880b5a.bindTooltip(\n",
       "    function(layer){\n",
       "    let div = L.DomUtil.create(&#x27;div&#x27;);\n",
       "    \n",
       "    let handleObject = feature=&gt;typeof(feature)==&#x27;object&#x27; ? JSON.stringify(feature) : feature;\n",
       "    let fields = [&quot;rev_bis&quot;, &quot;name_en&quot;, &quot;short_description_en&quot;, &quot;justification_en&quot;, &quot;date_inscribed&quot;, &quot;secondary_dates&quot;, &quot;danger&quot;, &quot;date_end&quot;, &quot;danger_list&quot;, &quot;longitude&quot;, &quot;latitude&quot;, &quot;area_hectares&quot;, &quot;category&quot;, &quot;category_short&quot;, &quot;states_name_en&quot;];\n",
       "    let aliases = [&quot;rev_bis&quot;, &quot;name_en&quot;, &quot;short_description_en&quot;, &quot;justification_en&quot;, &quot;date_inscribed&quot;, &quot;secondary_dates&quot;, &quot;danger&quot;, &quot;date_end&quot;, &quot;danger_list&quot;, &quot;longitude&quot;, &quot;latitude&quot;, &quot;area_hectares&quot;, &quot;category&quot;, &quot;category_short&quot;, &quot;states_name_en&quot;];\n",
       "    let table = &#x27;&lt;table&gt;&#x27; +\n",
       "        String(\n",
       "        fields.map(\n",
       "        (v,i)=&gt;\n",
       "        `&lt;tr&gt;\n",
       "            &lt;th&gt;${aliases[i]}&lt;/th&gt;\n",
       "            \n",
       "            &lt;td&gt;${handleObject(layer.feature.properties[v])}&lt;/td&gt;\n",
       "        &lt;/tr&gt;`).join(&#x27;&#x27;))\n",
       "    +&#x27;&lt;/table&gt;&#x27;;\n",
       "    div.innerHTML=table;\n",
       "    \n",
       "    return div\n",
       "    }\n",
       "    ,{&quot;className&quot;: &quot;foliumtooltip&quot;, &quot;sticky&quot;: true});\n",
       "                     \n",
       "&lt;/script&gt;\n",
       "&lt;/html&gt;\" style=\"position:absolute;width:100%;height:100%;left:0;top:0;border:none !important;\" allowfullscreen webkitallowfullscreen mozallowfullscreen></iframe></div></div>"
      ],
      "text/plain": [
       "<folium.folium.Map at 0x282ecc430>"
      ]
     },
     "execution_count": 8,
     "metadata": {},
     "output_type": "execute_result"
    }
   ],
   "source": [
    "import pandas as pd\n",
    "import geopandas as gpd\n",
    "from shapely.geometry import Point\n",
    "\n",
    "# create a pandas dataframe with latitude and longitude columns\n",
    "df = data_df_transformed\n",
    "# create a list of Point objects from the latitude and longitude columns\n",
    "geometry = [Point(xy) for xy in zip(df.longitude, df.latitude)]\n",
    "\n",
    "# create a geodataframe from the dataframe and the geometry list\n",
    "gdf2 = gpd.GeoDataFrame(df, geometry=geometry, crs='EPSG:4326')\n",
    "\n",
    "# print the resulting geodataframe\n",
    "gdf2.explore(column='category', cmap='Set1',  legend=True)"
   ]
  },
  {
   "cell_type": "code",
   "execution_count": 31,
   "metadata": {},
   "outputs": [
    {
     "data": {
      "application/vnd.plotly.v1+json": {
       "config": {
        "plotlyServerURL": "https://plot.ly"
       },
       "data": [
        {
         "customdata": [
          [
           89.29
          ],
          [
           47.6
          ],
          [
           4800
          ],
          [
           1.113
          ],
          [
           122.3
          ],
          [
           209.1
          ],
          [
           109.89
          ],
          [
           0.1298
          ],
          [
           481
          ],
          [
           0
          ],
          [
           0
          ],
          [
           0
          ],
          [
           0
          ],
          [
           0
          ],
          [
           0
          ],
          [
           48
          ],
          [
           23000
          ],
          [
           7.5981
          ],
          [
           0
          ],
          [
           0
          ],
          [
           15.6
          ],
          [
           1538
          ],
          [
           2.36
          ],
          [
           21
          ],
          [
           59
          ],
          [
           12640
          ],
          [
           0
          ],
          [
           0
          ],
          [
           4.24
          ],
          [
           0.164
          ],
          [
           349.6
          ],
          [
           0
          ],
          [
           57.4269
          ],
          [
           77.6
          ],
          [
           764.4
          ],
          [
           75
          ],
          [
           0
          ],
          [
           0
          ],
          [
           145811
          ],
          [
           50309
          ],
          [
           0
          ],
          [
           475
          ],
          [
           28168.6602
          ],
          [
           160000
          ],
          [
           959100
          ],
          [
           50000
          ],
          [
           26.8
          ],
          [
           0
          ],
          [
           96
          ],
          [
           233600
          ],
          [
           205000
          ],
          [
           722
          ],
          [
           0
          ],
          [
           9.85
          ]
         ],
         "hovertemplate": "<b>%{hovertext}</b><br><br>category=Cultural<br>area_hectares=%{customdata[0]}<br>latitude=%{lat}<br>longitude=%{lon}<extra></extra>",
         "hovertext": [
          "Mbanza Kongo, Vestiges of the Capital of the former Kingdom of Kongo",
          "Royal Palaces of Abomey",
          "Tsodilo",
          "Ruins of Loropéni",
          "Ancient Ferrous Metallurgy Sites of Burkina Faso",
          "Cidade Velha, Historic Centre of Ribeira Grande",
          "Historic Town of Grand-Bassam",
          "Sudanese style mosques in northern Côte d’Ivoire",
          "Asmara: A Modernist African City",
          "Lower Valley of the Awash",
          "Tiya",
          "Aksum",
          "Lower Valley of the Omo",
          "Rock-Hewn Churches, Lalibela",
          "Fasil Ghebbi, Gondar Region",
          "Harar Jugol, the Fortified Historic Town",
          "Konso Cultural Landscape",
          "Kunta Kinteh Island and Related Sites",
          "Forts and Castles, Volta, Greater Accra, Central and Western Regions",
          "Asante Traditional Buildings",
          "Lamu Old Town",
          "Sacred Mijikenda Kaya Forests",
          "Fort Jesus, Mombasa",
          "Thimlich Ohinga Archaeological Site",
          "Royal Hill of Ambohimanga",
          "Chongoni Rock-Art Area",
          "Old Towns of Djenné",
          "Timbuktu",
          "Tomb of Askia",
          "Aapravasi Ghat",
          "Le Morne Cultural Landscape",
          "Island of Mozambique",
          "Twyfelfontein or /Ui-//aes",
          "Historic Centre of Agadez",
          "Sukur Cultural Landscape",
          "Osun-Osogbo Sacred Grove",
          "Island of Gorée",
          "Island of Saint-Louis",
          "Saloum Delta",
          "Bassari Country: Bassari, Fula and Bedik Cultural Landscapes",
          "Fossil Hominid Sites of South Africa",
          "Robben Island",
          "Mapungubwe Cultural Landscape",
          "Richtersveld Cultural and Botanical Landscape",
          "ǂKhomani Cultural Landscape",
          "Koutammakou, the Land of the Batammariba",
          "Tombs of Buganda Kings at Kasubi",
          "Ruins of Kilwa Kisiwani and Ruins of Songo Mnara",
          "Stone Town of Zanzibar",
          "Kondoa Rock-Art Sites",
          "Matobo Hills",
          "Great Zimbabwe National Monument",
          "Khami Ruins National Monument",
          "Stone Circles of Senegambia"
         ],
         "lat": [
          -6.2688888889,
          7.183333333,
          -18.75,
          10.25,
          12.5877583333,
          14.9151388889,
          5.1958333333,
          10.4903166667,
          15.3352777778,
          11.10006,
          8.43491,
          14.13019,
          4.8,
          12.02935,
          12.607909,
          9.3088888888,
          5.3,
          13.31616667,
          5.39103,
          6.4011111111,
          -2.284444444,
          -3.9319444444,
          -4.0627777778,
          -0.8913380556,
          -18.75917,
          -14.2933333333,
          13.90639,
          16.77333333,
          16.2898,
          -20.1586388889,
          -20.4519444444,
          -15.03417,
          -20.5955833333,
          16.9736111111,
          10.74056,
          7.75556,
          14.66722,
          16.02778,
          13.8352777778,
          12.5933333333,
          -24.15861,
          -33.8,
          -22.1925,
          -28.6,
          -25.6876111111,
          10.06666667,
          0.348611111,
          -8.95778,
          -6.16306,
          -4.7244444444,
          -20.5,
          -20.28333333,
          -20.15833333,
          13.6911111111
         ],
         "legendgroup": "Cultural",
         "lon": [
          14.2497222222,
          1.983333333,
          21.73333333,
          -3.5833333333,
          -3.3289861111,
          -23.6051944444,
          -3.7363888889,
          -6.4101666667,
          38.9358333333,
          40.57939,
          38.6121,
          38.71861,
          35.96666667,
          39.04042,
          37.4697,
          42.1377777777,
          37.4,
          -16.35719444,
          -0.49361,
          -1.6258333333,
          40.8525,
          39.5961111111,
          39.6794444444,
          34.326107,
          47.56278,
          34.2791666666,
          -4.555,
          -2.999444444,
          -0.04456,
          57.5031666666,
          57.3283333333,
          40.73583,
          14.3725833333,
          7.9913888889,
          13.57194,
          4.55222,
          -17.40083,
          -16.50444,
          -16.4986111111,
          -12.8458333333,
          29.17694,
          18.36666667,
          29.23889,
          17.2038888888,
          20.3745833333,
          1.133333333,
          32.55138889,
          39.52278,
          39.18917,
          35.8338888888,
          28.5,
          30.93333333,
          28.37666667,
          -15.5225
         ],
         "marker": {
          "color": "rgb(102, 197, 204)",
          "size": [
           89.29,
           47.6,
           4800,
           1.113,
           122.3,
           209.1,
           109.89,
           0.1298,
           481,
           0,
           0,
           0,
           0,
           0,
           0,
           48,
           23000,
           7.5981,
           0,
           0,
           15.6,
           1538,
           2.36,
           21,
           59,
           12640,
           0,
           0,
           4.24,
           0.164,
           349.6,
           0,
           57.4269,
           77.6,
           764.4,
           75,
           0,
           0,
           145811,
           50309,
           0,
           475,
           28168.6602,
           160000,
           959100,
           50000,
           26.8,
           0,
           96,
           233600,
           205000,
           722,
           0,
           9.85
          ],
          "sizemin": 5,
          "sizemode": "area",
          "sizeref": 8595.555555555555
         },
         "mode": "markers",
         "name": "Cultural",
         "showlegend": true,
         "subplot": "mapbox",
         "type": "scattermapbox"
        },
        {
         "customdata": [
          [
           2023590
          ],
          [
           526000
          ],
          [
           1740000
          ],
          [
           62808
          ],
          [
           330000
          ],
          [
           1150000
          ],
          [
           800000
          ],
          [
           500000
          ],
          [
           600000
          ],
          [
           3600000
          ],
          [
           1372625
          ],
          [
           13600
          ],
          [
           298758
          ],
          [
           202334
          ],
          [
           161485
          ],
          [
           32034
          ],
          [
           152000
          ],
          [
           479660.7
          ],
          [
           9400
          ],
          [
           3077700
          ],
          [
           7736000
          ],
          [
           16000
          ],
          [
           913000
          ],
          [
           35000
          ],
          [
           19.5
          ],
          [
           239566
          ],
          [
           1094742
          ],
          [
           30000
          ],
          [
           113137
          ],
          [
           32092
          ],
          [
           99600
          ],
          [
           1476300
          ],
          [
           5120000
          ],
          [
           75575
          ],
          [
           676600
          ],
          [
           1714831
          ],
          [
           746309
          ],
          [
           17540
          ],
          [
           6860
          ]
         ],
         "hovertemplate": "<b>%{hovertext}</b><br><br>category=Natural<br>area_hectares=%{customdata[0]}<br>latitude=%{lat}<br>longitude=%{lon}<extra></extra>",
         "hovertext": [
          "Okavango Delta",
          "Dja Faunal Reserve",
          "Manovo-Gounda St Floris National Park",
          "Lakes of Ounianga",
          "Taï National Park",
          "Comoé National Park",
          "Virunga National Park",
          "Garamba National Park",
          "Kahuzi-Biega National Park",
          "Salonga National Park",
          "Okapi Wildlife Reserve",
          "Simien National Park",
          "Ivindo National Park",
          "Mount Kenya National Park/Natural Forest",
          "Lake Turkana National Parks",
          "Kenya Lake System in the Great Rift Valley",
          "Tsingy de Bemaraha Strict Nature Reserve",
          "Rainforests of the Atsinanana",
          "Lake Malawi National Park",
          "Namib Sand Sea",
          "Air and Ténéré Natural Reserves",
          "Djoudj National Bird Sanctuary",
          "Niokolo-Koba National Park",
          "Aldabra Atoll",
          "Vallée de Mai Nature Reserve",
          "iSimangaliso Wetland Park",
          "Cape Floral Region Protected Areas",
          "Vredefort Dome",
          "Barberton Makhonjwa Mountains",
          "Bwindi Impenetrable National Park",
          "Rwenzori Mountains National Park",
          "Serengeti National Park",
          "Selous Game Reserve",
          "Kilimanjaro National Park",
          "Mana Pools National Park, Sapi and Chewore Safari Areas",
          "W-Arly-Pendjari Complex",
          "Sangha Trinational",
          "Mount Nimba Strict Nature Reserve",
          "Mosi-oa-Tunya / Victoria Falls"
         ],
         "lat": [
          -19.2833333333,
          3,
          9,
          19.055,
          5.6488888889,
          9,
          0.916666667,
          4,
          -2.334053,
          -2,
          2,
          13.1833333333,
          0.4061111111,
          -0.155,
          3.051305556,
          -0.4425,
          -18.66667,
          -14.4597222222,
          -14.03333,
          -24.8852777778,
          18,
          16.414602,
          12.841271,
          -9.416666667,
          -4.32917,
          -27.83889,
          -34.3611111111,
          -26.86,
          -25.9738888889,
          -1.080555556,
          0.223611111,
          -2.33333,
          -9,
          -3.06667,
          -15.81944444,
          11.8841666667,
          2.6094444444,
          7.60318,
          -17.92453
         ],
         "legendgroup": "Natural",
         "lon": [
          22.9,
          13,
          21.5,
          20.5055555556,
          -7.0952777778,
          -4,
          29.16666667,
          29.25,
          28.180743,
          21,
          28.5,
          38.0666666667,
          12.6408333333,
          37.3155555556,
          36.50366667,
          36.24,
          44.75,
          49.7025,
          34.88333,
          15.4077777778,
          9,
          -16.237906,
          -12.899781,
          46.41666667,
          55.7375,
          32.55,
          18.475,
          27.26,
          31.0138888889,
          29.66138889,
          29.92416667,
          34.56667,
          37.4,
          37.36667,
          29.40805556,
          2.4877777778,
          16.5541666667,
          -8.39097,
          25.85539
         ],
         "marker": {
          "color": "rgb(246, 207, 113)",
          "size": [
           2023590,
           526000,
           1740000,
           62808,
           330000,
           1150000,
           800000,
           500000,
           600000,
           3600000,
           1372625,
           13600,
           298758,
           202334,
           161485,
           32034,
           152000,
           479660.7,
           9400,
           3077700,
           7736000,
           16000,
           913000,
           35000,
           19.5,
           239566,
           1094742,
           30000,
           113137,
           32092,
           99600,
           1476300,
           5120000,
           75575,
           676600,
           1714831,
           746309,
           17540,
           6860
          ],
          "sizemin": 5,
          "sizemode": "area",
          "sizeref": 8595.555555555555
         },
         "mode": "markers",
         "name": "Natural",
         "showlegend": true,
         "subplot": "mapbox",
         "type": "scattermapbox"
        },
        {
         "customdata": [
          [
           2441200
          ],
          [
           491291
          ],
          [
           327390
          ],
          [
           809440
          ],
          [
           249313
          ]
         ],
         "hovertemplate": "<b>%{hovertext}</b><br><br>category=Mixed<br>area_hectares=%{customdata[0]}<br>latitude=%{lat}<br>longitude=%{lon}<extra></extra>",
         "hovertext": [
          "Ennedi Massif: Natural and Cultural Landscape",
          "Ecosystem and Relict Cultural Landscape of Lopé-Okanda",
          "Cliff of Bandiagara (Land of the Dogons)",
          "Ngorongoro Conservation Area",
          "Maloti-Drakensberg Park"
         ],
         "lat": [
          17.0416666667,
          -0.5,
          14.33333,
          -3.18722,
          -29.7652777778
         ],
         "legendgroup": "Mixed",
         "lon": [
          21.8627777778,
          11.5,
          -3.41667,
          35.54083,
          29.1230555556
         ],
         "marker": {
          "color": "rgb(248, 156, 116)",
          "size": [
           2441200,
           491291,
           327390,
           809440,
           249313
          ],
          "sizemin": 5,
          "sizemode": "area",
          "sizeref": 8595.555555555555
         },
         "mode": "markers",
         "name": "Mixed",
         "showlegend": true,
         "subplot": "mapbox",
         "type": "scattermapbox"
        }
       ],
       "layout": {
        "legend": {
         "itemsizing": "constant",
         "title": {
          "text": "category"
         },
         "tracegroupgap": 0
        },
        "mapbox": {
         "center": {
          "lat": -1.589443272529592,
          "lon": 20.951477111389796
         },
         "domain": {
          "x": [
           0,
           1
          ],
          "y": [
           0,
           1
          ]
         },
         "style": "open-street-map",
         "zoom": 1
        },
        "margin": {
         "t": 60
        },
        "template": {
         "data": {
          "bar": [
           {
            "error_x": {
             "color": "#2a3f5f"
            },
            "error_y": {
             "color": "#2a3f5f"
            },
            "marker": {
             "line": {
              "color": "#E5ECF6",
              "width": 0.5
             },
             "pattern": {
              "fillmode": "overlay",
              "size": 10,
              "solidity": 0.2
             }
            },
            "type": "bar"
           }
          ],
          "barpolar": [
           {
            "marker": {
             "line": {
              "color": "#E5ECF6",
              "width": 0.5
             },
             "pattern": {
              "fillmode": "overlay",
              "size": 10,
              "solidity": 0.2
             }
            },
            "type": "barpolar"
           }
          ],
          "carpet": [
           {
            "aaxis": {
             "endlinecolor": "#2a3f5f",
             "gridcolor": "white",
             "linecolor": "white",
             "minorgridcolor": "white",
             "startlinecolor": "#2a3f5f"
            },
            "baxis": {
             "endlinecolor": "#2a3f5f",
             "gridcolor": "white",
             "linecolor": "white",
             "minorgridcolor": "white",
             "startlinecolor": "#2a3f5f"
            },
            "type": "carpet"
           }
          ],
          "choropleth": [
           {
            "colorbar": {
             "outlinewidth": 0,
             "ticks": ""
            },
            "type": "choropleth"
           }
          ],
          "contour": [
           {
            "colorbar": {
             "outlinewidth": 0,
             "ticks": ""
            },
            "colorscale": [
             [
              0,
              "#0d0887"
             ],
             [
              0.1111111111111111,
              "#46039f"
             ],
             [
              0.2222222222222222,
              "#7201a8"
             ],
             [
              0.3333333333333333,
              "#9c179e"
             ],
             [
              0.4444444444444444,
              "#bd3786"
             ],
             [
              0.5555555555555556,
              "#d8576b"
             ],
             [
              0.6666666666666666,
              "#ed7953"
             ],
             [
              0.7777777777777778,
              "#fb9f3a"
             ],
             [
              0.8888888888888888,
              "#fdca26"
             ],
             [
              1,
              "#f0f921"
             ]
            ],
            "type": "contour"
           }
          ],
          "contourcarpet": [
           {
            "colorbar": {
             "outlinewidth": 0,
             "ticks": ""
            },
            "type": "contourcarpet"
           }
          ],
          "heatmap": [
           {
            "colorbar": {
             "outlinewidth": 0,
             "ticks": ""
            },
            "colorscale": [
             [
              0,
              "#0d0887"
             ],
             [
              0.1111111111111111,
              "#46039f"
             ],
             [
              0.2222222222222222,
              "#7201a8"
             ],
             [
              0.3333333333333333,
              "#9c179e"
             ],
             [
              0.4444444444444444,
              "#bd3786"
             ],
             [
              0.5555555555555556,
              "#d8576b"
             ],
             [
              0.6666666666666666,
              "#ed7953"
             ],
             [
              0.7777777777777778,
              "#fb9f3a"
             ],
             [
              0.8888888888888888,
              "#fdca26"
             ],
             [
              1,
              "#f0f921"
             ]
            ],
            "type": "heatmap"
           }
          ],
          "heatmapgl": [
           {
            "colorbar": {
             "outlinewidth": 0,
             "ticks": ""
            },
            "colorscale": [
             [
              0,
              "#0d0887"
             ],
             [
              0.1111111111111111,
              "#46039f"
             ],
             [
              0.2222222222222222,
              "#7201a8"
             ],
             [
              0.3333333333333333,
              "#9c179e"
             ],
             [
              0.4444444444444444,
              "#bd3786"
             ],
             [
              0.5555555555555556,
              "#d8576b"
             ],
             [
              0.6666666666666666,
              "#ed7953"
             ],
             [
              0.7777777777777778,
              "#fb9f3a"
             ],
             [
              0.8888888888888888,
              "#fdca26"
             ],
             [
              1,
              "#f0f921"
             ]
            ],
            "type": "heatmapgl"
           }
          ],
          "histogram": [
           {
            "marker": {
             "pattern": {
              "fillmode": "overlay",
              "size": 10,
              "solidity": 0.2
             }
            },
            "type": "histogram"
           }
          ],
          "histogram2d": [
           {
            "colorbar": {
             "outlinewidth": 0,
             "ticks": ""
            },
            "colorscale": [
             [
              0,
              "#0d0887"
             ],
             [
              0.1111111111111111,
              "#46039f"
             ],
             [
              0.2222222222222222,
              "#7201a8"
             ],
             [
              0.3333333333333333,
              "#9c179e"
             ],
             [
              0.4444444444444444,
              "#bd3786"
             ],
             [
              0.5555555555555556,
              "#d8576b"
             ],
             [
              0.6666666666666666,
              "#ed7953"
             ],
             [
              0.7777777777777778,
              "#fb9f3a"
             ],
             [
              0.8888888888888888,
              "#fdca26"
             ],
             [
              1,
              "#f0f921"
             ]
            ],
            "type": "histogram2d"
           }
          ],
          "histogram2dcontour": [
           {
            "colorbar": {
             "outlinewidth": 0,
             "ticks": ""
            },
            "colorscale": [
             [
              0,
              "#0d0887"
             ],
             [
              0.1111111111111111,
              "#46039f"
             ],
             [
              0.2222222222222222,
              "#7201a8"
             ],
             [
              0.3333333333333333,
              "#9c179e"
             ],
             [
              0.4444444444444444,
              "#bd3786"
             ],
             [
              0.5555555555555556,
              "#d8576b"
             ],
             [
              0.6666666666666666,
              "#ed7953"
             ],
             [
              0.7777777777777778,
              "#fb9f3a"
             ],
             [
              0.8888888888888888,
              "#fdca26"
             ],
             [
              1,
              "#f0f921"
             ]
            ],
            "type": "histogram2dcontour"
           }
          ],
          "mesh3d": [
           {
            "colorbar": {
             "outlinewidth": 0,
             "ticks": ""
            },
            "type": "mesh3d"
           }
          ],
          "parcoords": [
           {
            "line": {
             "colorbar": {
              "outlinewidth": 0,
              "ticks": ""
             }
            },
            "type": "parcoords"
           }
          ],
          "pie": [
           {
            "automargin": true,
            "type": "pie"
           }
          ],
          "scatter": [
           {
            "fillpattern": {
             "fillmode": "overlay",
             "size": 10,
             "solidity": 0.2
            },
            "type": "scatter"
           }
          ],
          "scatter3d": [
           {
            "line": {
             "colorbar": {
              "outlinewidth": 0,
              "ticks": ""
             }
            },
            "marker": {
             "colorbar": {
              "outlinewidth": 0,
              "ticks": ""
             }
            },
            "type": "scatter3d"
           }
          ],
          "scattercarpet": [
           {
            "marker": {
             "colorbar": {
              "outlinewidth": 0,
              "ticks": ""
             }
            },
            "type": "scattercarpet"
           }
          ],
          "scattergeo": [
           {
            "marker": {
             "colorbar": {
              "outlinewidth": 0,
              "ticks": ""
             }
            },
            "type": "scattergeo"
           }
          ],
          "scattergl": [
           {
            "marker": {
             "colorbar": {
              "outlinewidth": 0,
              "ticks": ""
             }
            },
            "type": "scattergl"
           }
          ],
          "scattermapbox": [
           {
            "marker": {
             "colorbar": {
              "outlinewidth": 0,
              "ticks": ""
             }
            },
            "type": "scattermapbox"
           }
          ],
          "scatterpolar": [
           {
            "marker": {
             "colorbar": {
              "outlinewidth": 0,
              "ticks": ""
             }
            },
            "type": "scatterpolar"
           }
          ],
          "scatterpolargl": [
           {
            "marker": {
             "colorbar": {
              "outlinewidth": 0,
              "ticks": ""
             }
            },
            "type": "scatterpolargl"
           }
          ],
          "scatterternary": [
           {
            "marker": {
             "colorbar": {
              "outlinewidth": 0,
              "ticks": ""
             }
            },
            "type": "scatterternary"
           }
          ],
          "surface": [
           {
            "colorbar": {
             "outlinewidth": 0,
             "ticks": ""
            },
            "colorscale": [
             [
              0,
              "#0d0887"
             ],
             [
              0.1111111111111111,
              "#46039f"
             ],
             [
              0.2222222222222222,
              "#7201a8"
             ],
             [
              0.3333333333333333,
              "#9c179e"
             ],
             [
              0.4444444444444444,
              "#bd3786"
             ],
             [
              0.5555555555555556,
              "#d8576b"
             ],
             [
              0.6666666666666666,
              "#ed7953"
             ],
             [
              0.7777777777777778,
              "#fb9f3a"
             ],
             [
              0.8888888888888888,
              "#fdca26"
             ],
             [
              1,
              "#f0f921"
             ]
            ],
            "type": "surface"
           }
          ],
          "table": [
           {
            "cells": {
             "fill": {
              "color": "#EBF0F8"
             },
             "line": {
              "color": "white"
             }
            },
            "header": {
             "fill": {
              "color": "#C8D4E3"
             },
             "line": {
              "color": "white"
             }
            },
            "type": "table"
           }
          ]
         },
         "layout": {
          "annotationdefaults": {
           "arrowcolor": "#2a3f5f",
           "arrowhead": 0,
           "arrowwidth": 1
          },
          "autotypenumbers": "strict",
          "coloraxis": {
           "colorbar": {
            "outlinewidth": 0,
            "ticks": ""
           }
          },
          "colorscale": {
           "diverging": [
            [
             0,
             "#8e0152"
            ],
            [
             0.1,
             "#c51b7d"
            ],
            [
             0.2,
             "#de77ae"
            ],
            [
             0.3,
             "#f1b6da"
            ],
            [
             0.4,
             "#fde0ef"
            ],
            [
             0.5,
             "#f7f7f7"
            ],
            [
             0.6,
             "#e6f5d0"
            ],
            [
             0.7,
             "#b8e186"
            ],
            [
             0.8,
             "#7fbc41"
            ],
            [
             0.9,
             "#4d9221"
            ],
            [
             1,
             "#276419"
            ]
           ],
           "sequential": [
            [
             0,
             "#0d0887"
            ],
            [
             0.1111111111111111,
             "#46039f"
            ],
            [
             0.2222222222222222,
             "#7201a8"
            ],
            [
             0.3333333333333333,
             "#9c179e"
            ],
            [
             0.4444444444444444,
             "#bd3786"
            ],
            [
             0.5555555555555556,
             "#d8576b"
            ],
            [
             0.6666666666666666,
             "#ed7953"
            ],
            [
             0.7777777777777778,
             "#fb9f3a"
            ],
            [
             0.8888888888888888,
             "#fdca26"
            ],
            [
             1,
             "#f0f921"
            ]
           ],
           "sequentialminus": [
            [
             0,
             "#0d0887"
            ],
            [
             0.1111111111111111,
             "#46039f"
            ],
            [
             0.2222222222222222,
             "#7201a8"
            ],
            [
             0.3333333333333333,
             "#9c179e"
            ],
            [
             0.4444444444444444,
             "#bd3786"
            ],
            [
             0.5555555555555556,
             "#d8576b"
            ],
            [
             0.6666666666666666,
             "#ed7953"
            ],
            [
             0.7777777777777778,
             "#fb9f3a"
            ],
            [
             0.8888888888888888,
             "#fdca26"
            ],
            [
             1,
             "#f0f921"
            ]
           ]
          },
          "colorway": [
           "#636efa",
           "#EF553B",
           "#00cc96",
           "#ab63fa",
           "#FFA15A",
           "#19d3f3",
           "#FF6692",
           "#B6E880",
           "#FF97FF",
           "#FECB52"
          ],
          "font": {
           "color": "#2a3f5f"
          },
          "geo": {
           "bgcolor": "white",
           "lakecolor": "white",
           "landcolor": "#E5ECF6",
           "showlakes": true,
           "showland": true,
           "subunitcolor": "white"
          },
          "hoverlabel": {
           "align": "left"
          },
          "hovermode": "closest",
          "mapbox": {
           "style": "light"
          },
          "paper_bgcolor": "white",
          "plot_bgcolor": "#E5ECF6",
          "polar": {
           "angularaxis": {
            "gridcolor": "white",
            "linecolor": "white",
            "ticks": ""
           },
           "bgcolor": "#E5ECF6",
           "radialaxis": {
            "gridcolor": "white",
            "linecolor": "white",
            "ticks": ""
           }
          },
          "scene": {
           "xaxis": {
            "backgroundcolor": "#E5ECF6",
            "gridcolor": "white",
            "gridwidth": 2,
            "linecolor": "white",
            "showbackground": true,
            "ticks": "",
            "zerolinecolor": "white"
           },
           "yaxis": {
            "backgroundcolor": "#E5ECF6",
            "gridcolor": "white",
            "gridwidth": 2,
            "linecolor": "white",
            "showbackground": true,
            "ticks": "",
            "zerolinecolor": "white"
           },
           "zaxis": {
            "backgroundcolor": "#E5ECF6",
            "gridcolor": "white",
            "gridwidth": 2,
            "linecolor": "white",
            "showbackground": true,
            "ticks": "",
            "zerolinecolor": "white"
           }
          },
          "shapedefaults": {
           "line": {
            "color": "#2a3f5f"
           }
          },
          "ternary": {
           "aaxis": {
            "gridcolor": "white",
            "linecolor": "white",
            "ticks": ""
           },
           "baxis": {
            "gridcolor": "white",
            "linecolor": "white",
            "ticks": ""
           },
           "bgcolor": "#E5ECF6",
           "caxis": {
            "gridcolor": "white",
            "linecolor": "white",
            "ticks": ""
           }
          },
          "title": {
           "x": 0.05
          },
          "xaxis": {
           "automargin": true,
           "gridcolor": "white",
           "linecolor": "white",
           "ticks": "",
           "title": {
            "standoff": 15
           },
           "zerolinecolor": "white",
           "zerolinewidth": 2
          },
          "yaxis": {
           "automargin": true,
           "gridcolor": "white",
           "linecolor": "white",
           "ticks": "",
           "title": {
            "standoff": 15
           },
           "zerolinecolor": "white",
           "zerolinewidth": 2
          }
         }
        },
        "width": 1000
       }
      }
     },
     "metadata": {},
     "output_type": "display_data"
    }
   ],
   "source": [
    "import plotly.express as px\n",
    "\n",
    "# create an interactive world map using Plotly\n",
    "fig = px.scatter_mapbox(gdf2, lat='latitude', lon='longitude', hover_name='name_en', size='area_hectares', size_max=30,\n",
    "                        zoom=1,  color='category', color_discrete_sequence=px.colors.qualitative.Pastel,\n",
    "                        hover_data={'area_hectares': True}, width=1000)\n",
    "\n",
    "# update the mapbox style to 'open-street-map'\n",
    "fig.update_layout(mapbox_style='open-street-map')\n",
    "fig.update_traces(marker_sizemin=5)\n",
    "# show the map\n",
    "fig.show()\n"
   ]
  },
  {
   "cell_type": "code",
   "execution_count": 67,
   "metadata": {},
   "outputs": [
    {
     "data": {
      "application/vnd.plotly.v1+json": {
       "config": {
        "plotlyServerURL": "https://plot.ly"
       },
       "data": [
        {
         "colorbar": {
          "title": {
           "text": "Danger"
          }
         },
         "colorscale": [
          [
           0,
           "rgb(255,245,240)"
          ],
          [
           0.125,
           "rgb(254,224,210)"
          ],
          [
           0.25,
           "rgb(252,187,161)"
          ],
          [
           0.375,
           "rgb(252,146,114)"
          ],
          [
           0.5,
           "rgb(251,106,74)"
          ],
          [
           0.625,
           "rgb(239,59,44)"
          ],
          [
           0.75,
           "rgb(203,24,29)"
          ],
          [
           0.875,
           "rgb(165,15,21)"
          ],
          [
           1,
           "rgb(103,0,13)"
          ]
         ],
         "locationmode": "country names",
         "locations": [
          "Angola",
          "Benin",
          "Botswana",
          "Botswana",
          "Burkina Faso",
          "Burkina Faso",
          "Cabo Verde",
          "Cameroon",
          "Central African Republic",
          "Chad",
          "Chad",
          "Côte d'Ivoire",
          "Côte d'Ivoire",
          "Côte d'Ivoire",
          "Côte d'Ivoire",
          "Democratic Republic of the Congo",
          "Democratic Republic of the Congo",
          "Democratic Republic of the Congo",
          "Democratic Republic of the Congo",
          "Democratic Republic of the Congo",
          "Eritrea",
          "Ethiopia",
          "Ethiopia",
          "Ethiopia",
          "Ethiopia",
          "Ethiopia",
          "Ethiopia",
          "Ethiopia",
          "Ethiopia",
          "Ethiopia",
          "Gabon",
          "Gabon",
          "Gambia (the)",
          "Ghana",
          "Ghana",
          "Kenya",
          "Kenya",
          "Kenya",
          "Kenya",
          "Kenya",
          "Kenya",
          "Kenya",
          "Madagascar",
          "Madagascar",
          "Madagascar",
          "Malawi",
          "Malawi",
          "Mali",
          "Mali",
          "Mali",
          "Mali",
          "Mauritius",
          "Mauritius",
          "Mozambique",
          "Namibia",
          "Namibia",
          "Niger",
          "Niger",
          "Nigeria",
          "Nigeria",
          "Senegal",
          "Senegal",
          "Senegal",
          "Senegal",
          "Senegal",
          "Senegal",
          "Seychelles",
          "Seychelles",
          "South Africa",
          "South Africa",
          "South Africa",
          "South Africa",
          "South Africa",
          "South Africa",
          "South Africa",
          "South Africa",
          "South Africa",
          "Togo",
          "Uganda",
          "Uganda",
          "Uganda",
          "United Republic of Tanzania",
          "United Republic of Tanzania",
          "United Republic of Tanzania",
          "United Republic of Tanzania",
          "United Republic of Tanzania",
          "United Republic of Tanzania",
          "United Republic of Tanzania",
          "Zimbabwe",
          "Zimbabwe",
          "Zimbabwe",
          "Zimbabwe",
          "Benin,Burkina Faso,Niger",
          "Cameroon,Central African Republic,Congo",
          "Côte d'Ivoire,Guinea",
          "Gambia (the),Senegal",
          "Lesotho,South Africa",
          "Zambia,Zimbabwe"
         ],
         "type": "choropleth",
         "z": [
          0,
          0,
          0,
          0,
          0,
          0,
          0,
          0,
          1,
          0,
          0,
          0,
          0,
          0,
          0,
          1,
          1,
          1,
          0,
          1,
          0,
          0,
          0,
          0,
          0,
          0,
          0,
          0,
          0,
          0,
          0,
          0,
          0,
          0,
          0,
          0,
          1,
          0,
          0,
          0,
          0,
          0,
          0,
          0,
          1,
          0,
          0,
          1,
          1,
          0,
          1,
          0,
          0,
          0,
          0,
          0,
          1,
          0,
          0,
          0,
          0,
          0,
          1,
          0,
          0,
          0,
          0,
          0,
          0,
          0,
          0,
          0,
          0,
          0,
          0,
          0,
          0,
          0,
          0,
          0,
          1,
          0,
          0,
          0,
          0,
          1,
          0,
          0,
          0,
          0,
          0,
          0,
          0,
          0,
          1,
          0,
          0,
          0
         ]
        }
       ],
       "layout": {
        "template": {
         "data": {
          "bar": [
           {
            "error_x": {
             "color": "#2a3f5f"
            },
            "error_y": {
             "color": "#2a3f5f"
            },
            "marker": {
             "line": {
              "color": "#E5ECF6",
              "width": 0.5
             },
             "pattern": {
              "fillmode": "overlay",
              "size": 10,
              "solidity": 0.2
             }
            },
            "type": "bar"
           }
          ],
          "barpolar": [
           {
            "marker": {
             "line": {
              "color": "#E5ECF6",
              "width": 0.5
             },
             "pattern": {
              "fillmode": "overlay",
              "size": 10,
              "solidity": 0.2
             }
            },
            "type": "barpolar"
           }
          ],
          "carpet": [
           {
            "aaxis": {
             "endlinecolor": "#2a3f5f",
             "gridcolor": "white",
             "linecolor": "white",
             "minorgridcolor": "white",
             "startlinecolor": "#2a3f5f"
            },
            "baxis": {
             "endlinecolor": "#2a3f5f",
             "gridcolor": "white",
             "linecolor": "white",
             "minorgridcolor": "white",
             "startlinecolor": "#2a3f5f"
            },
            "type": "carpet"
           }
          ],
          "choropleth": [
           {
            "colorbar": {
             "outlinewidth": 0,
             "ticks": ""
            },
            "type": "choropleth"
           }
          ],
          "contour": [
           {
            "colorbar": {
             "outlinewidth": 0,
             "ticks": ""
            },
            "colorscale": [
             [
              0,
              "#0d0887"
             ],
             [
              0.1111111111111111,
              "#46039f"
             ],
             [
              0.2222222222222222,
              "#7201a8"
             ],
             [
              0.3333333333333333,
              "#9c179e"
             ],
             [
              0.4444444444444444,
              "#bd3786"
             ],
             [
              0.5555555555555556,
              "#d8576b"
             ],
             [
              0.6666666666666666,
              "#ed7953"
             ],
             [
              0.7777777777777778,
              "#fb9f3a"
             ],
             [
              0.8888888888888888,
              "#fdca26"
             ],
             [
              1,
              "#f0f921"
             ]
            ],
            "type": "contour"
           }
          ],
          "contourcarpet": [
           {
            "colorbar": {
             "outlinewidth": 0,
             "ticks": ""
            },
            "type": "contourcarpet"
           }
          ],
          "heatmap": [
           {
            "colorbar": {
             "outlinewidth": 0,
             "ticks": ""
            },
            "colorscale": [
             [
              0,
              "#0d0887"
             ],
             [
              0.1111111111111111,
              "#46039f"
             ],
             [
              0.2222222222222222,
              "#7201a8"
             ],
             [
              0.3333333333333333,
              "#9c179e"
             ],
             [
              0.4444444444444444,
              "#bd3786"
             ],
             [
              0.5555555555555556,
              "#d8576b"
             ],
             [
              0.6666666666666666,
              "#ed7953"
             ],
             [
              0.7777777777777778,
              "#fb9f3a"
             ],
             [
              0.8888888888888888,
              "#fdca26"
             ],
             [
              1,
              "#f0f921"
             ]
            ],
            "type": "heatmap"
           }
          ],
          "heatmapgl": [
           {
            "colorbar": {
             "outlinewidth": 0,
             "ticks": ""
            },
            "colorscale": [
             [
              0,
              "#0d0887"
             ],
             [
              0.1111111111111111,
              "#46039f"
             ],
             [
              0.2222222222222222,
              "#7201a8"
             ],
             [
              0.3333333333333333,
              "#9c179e"
             ],
             [
              0.4444444444444444,
              "#bd3786"
             ],
             [
              0.5555555555555556,
              "#d8576b"
             ],
             [
              0.6666666666666666,
              "#ed7953"
             ],
             [
              0.7777777777777778,
              "#fb9f3a"
             ],
             [
              0.8888888888888888,
              "#fdca26"
             ],
             [
              1,
              "#f0f921"
             ]
            ],
            "type": "heatmapgl"
           }
          ],
          "histogram": [
           {
            "marker": {
             "pattern": {
              "fillmode": "overlay",
              "size": 10,
              "solidity": 0.2
             }
            },
            "type": "histogram"
           }
          ],
          "histogram2d": [
           {
            "colorbar": {
             "outlinewidth": 0,
             "ticks": ""
            },
            "colorscale": [
             [
              0,
              "#0d0887"
             ],
             [
              0.1111111111111111,
              "#46039f"
             ],
             [
              0.2222222222222222,
              "#7201a8"
             ],
             [
              0.3333333333333333,
              "#9c179e"
             ],
             [
              0.4444444444444444,
              "#bd3786"
             ],
             [
              0.5555555555555556,
              "#d8576b"
             ],
             [
              0.6666666666666666,
              "#ed7953"
             ],
             [
              0.7777777777777778,
              "#fb9f3a"
             ],
             [
              0.8888888888888888,
              "#fdca26"
             ],
             [
              1,
              "#f0f921"
             ]
            ],
            "type": "histogram2d"
           }
          ],
          "histogram2dcontour": [
           {
            "colorbar": {
             "outlinewidth": 0,
             "ticks": ""
            },
            "colorscale": [
             [
              0,
              "#0d0887"
             ],
             [
              0.1111111111111111,
              "#46039f"
             ],
             [
              0.2222222222222222,
              "#7201a8"
             ],
             [
              0.3333333333333333,
              "#9c179e"
             ],
             [
              0.4444444444444444,
              "#bd3786"
             ],
             [
              0.5555555555555556,
              "#d8576b"
             ],
             [
              0.6666666666666666,
              "#ed7953"
             ],
             [
              0.7777777777777778,
              "#fb9f3a"
             ],
             [
              0.8888888888888888,
              "#fdca26"
             ],
             [
              1,
              "#f0f921"
             ]
            ],
            "type": "histogram2dcontour"
           }
          ],
          "mesh3d": [
           {
            "colorbar": {
             "outlinewidth": 0,
             "ticks": ""
            },
            "type": "mesh3d"
           }
          ],
          "parcoords": [
           {
            "line": {
             "colorbar": {
              "outlinewidth": 0,
              "ticks": ""
             }
            },
            "type": "parcoords"
           }
          ],
          "pie": [
           {
            "automargin": true,
            "type": "pie"
           }
          ],
          "scatter": [
           {
            "fillpattern": {
             "fillmode": "overlay",
             "size": 10,
             "solidity": 0.2
            },
            "type": "scatter"
           }
          ],
          "scatter3d": [
           {
            "line": {
             "colorbar": {
              "outlinewidth": 0,
              "ticks": ""
             }
            },
            "marker": {
             "colorbar": {
              "outlinewidth": 0,
              "ticks": ""
             }
            },
            "type": "scatter3d"
           }
          ],
          "scattercarpet": [
           {
            "marker": {
             "colorbar": {
              "outlinewidth": 0,
              "ticks": ""
             }
            },
            "type": "scattercarpet"
           }
          ],
          "scattergeo": [
           {
            "marker": {
             "colorbar": {
              "outlinewidth": 0,
              "ticks": ""
             }
            },
            "type": "scattergeo"
           }
          ],
          "scattergl": [
           {
            "marker": {
             "colorbar": {
              "outlinewidth": 0,
              "ticks": ""
             }
            },
            "type": "scattergl"
           }
          ],
          "scattermapbox": [
           {
            "marker": {
             "colorbar": {
              "outlinewidth": 0,
              "ticks": ""
             }
            },
            "type": "scattermapbox"
           }
          ],
          "scatterpolar": [
           {
            "marker": {
             "colorbar": {
              "outlinewidth": 0,
              "ticks": ""
             }
            },
            "type": "scatterpolar"
           }
          ],
          "scatterpolargl": [
           {
            "marker": {
             "colorbar": {
              "outlinewidth": 0,
              "ticks": ""
             }
            },
            "type": "scatterpolargl"
           }
          ],
          "scatterternary": [
           {
            "marker": {
             "colorbar": {
              "outlinewidth": 0,
              "ticks": ""
             }
            },
            "type": "scatterternary"
           }
          ],
          "surface": [
           {
            "colorbar": {
             "outlinewidth": 0,
             "ticks": ""
            },
            "colorscale": [
             [
              0,
              "#0d0887"
             ],
             [
              0.1111111111111111,
              "#46039f"
             ],
             [
              0.2222222222222222,
              "#7201a8"
             ],
             [
              0.3333333333333333,
              "#9c179e"
             ],
             [
              0.4444444444444444,
              "#bd3786"
             ],
             [
              0.5555555555555556,
              "#d8576b"
             ],
             [
              0.6666666666666666,
              "#ed7953"
             ],
             [
              0.7777777777777778,
              "#fb9f3a"
             ],
             [
              0.8888888888888888,
              "#fdca26"
             ],
             [
              1,
              "#f0f921"
             ]
            ],
            "type": "surface"
           }
          ],
          "table": [
           {
            "cells": {
             "fill": {
              "color": "#EBF0F8"
             },
             "line": {
              "color": "white"
             }
            },
            "header": {
             "fill": {
              "color": "#C8D4E3"
             },
             "line": {
              "color": "white"
             }
            },
            "type": "table"
           }
          ]
         },
         "layout": {
          "annotationdefaults": {
           "arrowcolor": "#2a3f5f",
           "arrowhead": 0,
           "arrowwidth": 1
          },
          "autotypenumbers": "strict",
          "coloraxis": {
           "colorbar": {
            "outlinewidth": 0,
            "ticks": ""
           }
          },
          "colorscale": {
           "diverging": [
            [
             0,
             "#8e0152"
            ],
            [
             0.1,
             "#c51b7d"
            ],
            [
             0.2,
             "#de77ae"
            ],
            [
             0.3,
             "#f1b6da"
            ],
            [
             0.4,
             "#fde0ef"
            ],
            [
             0.5,
             "#f7f7f7"
            ],
            [
             0.6,
             "#e6f5d0"
            ],
            [
             0.7,
             "#b8e186"
            ],
            [
             0.8,
             "#7fbc41"
            ],
            [
             0.9,
             "#4d9221"
            ],
            [
             1,
             "#276419"
            ]
           ],
           "sequential": [
            [
             0,
             "#0d0887"
            ],
            [
             0.1111111111111111,
             "#46039f"
            ],
            [
             0.2222222222222222,
             "#7201a8"
            ],
            [
             0.3333333333333333,
             "#9c179e"
            ],
            [
             0.4444444444444444,
             "#bd3786"
            ],
            [
             0.5555555555555556,
             "#d8576b"
            ],
            [
             0.6666666666666666,
             "#ed7953"
            ],
            [
             0.7777777777777778,
             "#fb9f3a"
            ],
            [
             0.8888888888888888,
             "#fdca26"
            ],
            [
             1,
             "#f0f921"
            ]
           ],
           "sequentialminus": [
            [
             0,
             "#0d0887"
            ],
            [
             0.1111111111111111,
             "#46039f"
            ],
            [
             0.2222222222222222,
             "#7201a8"
            ],
            [
             0.3333333333333333,
             "#9c179e"
            ],
            [
             0.4444444444444444,
             "#bd3786"
            ],
            [
             0.5555555555555556,
             "#d8576b"
            ],
            [
             0.6666666666666666,
             "#ed7953"
            ],
            [
             0.7777777777777778,
             "#fb9f3a"
            ],
            [
             0.8888888888888888,
             "#fdca26"
            ],
            [
             1,
             "#f0f921"
            ]
           ]
          },
          "colorway": [
           "#636efa",
           "#EF553B",
           "#00cc96",
           "#ab63fa",
           "#FFA15A",
           "#19d3f3",
           "#FF6692",
           "#B6E880",
           "#FF97FF",
           "#FECB52"
          ],
          "font": {
           "color": "#2a3f5f"
          },
          "geo": {
           "bgcolor": "white",
           "lakecolor": "white",
           "landcolor": "#E5ECF6",
           "showlakes": true,
           "showland": true,
           "subunitcolor": "white"
          },
          "hoverlabel": {
           "align": "left"
          },
          "hovermode": "closest",
          "mapbox": {
           "style": "light"
          },
          "paper_bgcolor": "white",
          "plot_bgcolor": "#E5ECF6",
          "polar": {
           "angularaxis": {
            "gridcolor": "white",
            "linecolor": "white",
            "ticks": ""
           },
           "bgcolor": "#E5ECF6",
           "radialaxis": {
            "gridcolor": "white",
            "linecolor": "white",
            "ticks": ""
           }
          },
          "scene": {
           "xaxis": {
            "backgroundcolor": "#E5ECF6",
            "gridcolor": "white",
            "gridwidth": 2,
            "linecolor": "white",
            "showbackground": true,
            "ticks": "",
            "zerolinecolor": "white"
           },
           "yaxis": {
            "backgroundcolor": "#E5ECF6",
            "gridcolor": "white",
            "gridwidth": 2,
            "linecolor": "white",
            "showbackground": true,
            "ticks": "",
            "zerolinecolor": "white"
           },
           "zaxis": {
            "backgroundcolor": "#E5ECF6",
            "gridcolor": "white",
            "gridwidth": 2,
            "linecolor": "white",
            "showbackground": true,
            "ticks": "",
            "zerolinecolor": "white"
           }
          },
          "shapedefaults": {
           "line": {
            "color": "#2a3f5f"
           }
          },
          "ternary": {
           "aaxis": {
            "gridcolor": "white",
            "linecolor": "white",
            "ticks": ""
           },
           "baxis": {
            "gridcolor": "white",
            "linecolor": "white",
            "ticks": ""
           },
           "bgcolor": "#E5ECF6",
           "caxis": {
            "gridcolor": "white",
            "linecolor": "white",
            "ticks": ""
           }
          },
          "title": {
           "x": 0.05
          },
          "xaxis": {
           "automargin": true,
           "gridcolor": "white",
           "linecolor": "white",
           "ticks": "",
           "title": {
            "standoff": 15
           },
           "zerolinecolor": "white",
           "zerolinewidth": 2
          },
          "yaxis": {
           "automargin": true,
           "gridcolor": "white",
           "linecolor": "white",
           "ticks": "",
           "title": {
            "standoff": 15
           },
           "zerolinecolor": "white",
           "zerolinewidth": 2
          }
         }
        },
        "title": {
         "text": "African Countries Danger"
        }
       }
      }
     },
     "metadata": {},
     "output_type": "display_data"
    }
   ],
   "source": [
    "import plotly.graph_objs as go\n",
    "from plotly.subplots import make_subplots\n",
    "\n",
    "\n",
    "fig = make_subplots()\n",
    "\n",
    "\n",
    "data = dict(\n",
    "        type='choropleth',\n",
    "        locations=data_df_transformed['states_name_en'], # column with the name of the countries\n",
    "        z=data_df_transformed['danger'], # column you want to plot\n",
    "        locationmode='country names',\n",
    "        colorscale='Reds',\n",
    "        colorbar_title='Danger'      )\n",
    "\n",
    "layout = dict(title='African Countries Danger')\n",
    "\n",
    "fig = go.Figure(data=[data], layout=layout)\n",
    "\n",
    "\n",
    "fig.show()\n"
   ]
  },
  {
   "cell_type": "code",
   "execution_count": 44,
   "metadata": {},
   "outputs": [
    {
     "data": {
      "application/vnd.plotly.v1+json": {
       "config": {
        "plotlyServerURL": "https://plot.ly"
       },
       "data": [
        {
         "coloraxis": "coloraxis",
         "hovertemplate": "states_name_en=%{x}<br>category=%{y}<br>count=%{z}<extra></extra>",
         "name": "",
         "type": "histogram2d",
         "x": [
          "Angola",
          "Benin",
          "Botswana",
          "Botswana",
          "Burkina Faso",
          "Burkina Faso",
          "Cabo Verde",
          "Cameroon",
          "Central African Republic",
          "Chad",
          "Chad",
          "Côte d'Ivoire",
          "Côte d'Ivoire",
          "Côte d'Ivoire",
          "Côte d'Ivoire",
          "Democratic Republic of the Congo",
          "Democratic Republic of the Congo",
          "Democratic Republic of the Congo",
          "Democratic Republic of the Congo",
          "Democratic Republic of the Congo",
          "Eritrea",
          "Ethiopia",
          "Ethiopia",
          "Ethiopia",
          "Ethiopia",
          "Ethiopia",
          "Ethiopia",
          "Ethiopia",
          "Ethiopia",
          "Ethiopia",
          "Gabon",
          "Gabon",
          "Gambia (the)",
          "Ghana",
          "Ghana",
          "Kenya",
          "Kenya",
          "Kenya",
          "Kenya",
          "Kenya",
          "Kenya",
          "Kenya",
          "Madagascar",
          "Madagascar",
          "Madagascar",
          "Malawi",
          "Malawi",
          "Mali",
          "Mali",
          "Mali",
          "Mali",
          "Mauritius",
          "Mauritius",
          "Mozambique",
          "Namibia",
          "Namibia",
          "Niger",
          "Niger",
          "Nigeria",
          "Nigeria",
          "Senegal",
          "Senegal",
          "Senegal",
          "Senegal",
          "Senegal",
          "Senegal",
          "Seychelles",
          "Seychelles",
          "South Africa",
          "South Africa",
          "South Africa",
          "South Africa",
          "South Africa",
          "South Africa",
          "South Africa",
          "South Africa",
          "South Africa",
          "Togo",
          "Uganda",
          "Uganda",
          "Uganda",
          "United Republic of Tanzania",
          "United Republic of Tanzania",
          "United Republic of Tanzania",
          "United Republic of Tanzania",
          "United Republic of Tanzania",
          "United Republic of Tanzania",
          "United Republic of Tanzania",
          "Zimbabwe",
          "Zimbabwe",
          "Zimbabwe",
          "Zimbabwe",
          "Benin,Burkina Faso,Niger",
          "Cameroon,Central African Republic,Congo",
          "Côte d'Ivoire,Guinea",
          "Gambia (the),Senegal",
          "Lesotho,South Africa",
          "Zambia,Zimbabwe"
         ],
         "xaxis": "x",
         "xbingroup": "x",
         "y": [
          "Cultural",
          "Cultural",
          "Cultural",
          "Natural",
          "Cultural",
          "Cultural",
          "Cultural",
          "Natural",
          "Natural",
          "Natural",
          "Mixed",
          "Natural",
          "Natural",
          "Cultural",
          "Cultural",
          "Natural",
          "Natural",
          "Natural",
          "Natural",
          "Natural",
          "Cultural",
          "Natural",
          "Cultural",
          "Cultural",
          "Cultural",
          "Cultural",
          "Cultural",
          "Cultural",
          "Cultural",
          "Cultural",
          "Mixed",
          "Natural",
          "Cultural",
          "Cultural",
          "Cultural",
          "Natural",
          "Natural",
          "Cultural",
          "Natural",
          "Cultural",
          "Cultural",
          "Cultural",
          "Natural",
          "Cultural",
          "Natural",
          "Natural",
          "Cultural",
          "Cultural",
          "Cultural",
          "Mixed",
          "Cultural",
          "Cultural",
          "Cultural",
          "Cultural",
          "Cultural",
          "Natural",
          "Natural",
          "Cultural",
          "Cultural",
          "Cultural",
          "Natural",
          "Cultural",
          "Natural",
          "Cultural",
          "Cultural",
          "Cultural",
          "Natural",
          "Natural",
          "Natural",
          "Cultural",
          "Cultural",
          "Natural",
          "Cultural",
          "Natural",
          "Cultural",
          "Cultural",
          "Natural",
          "Cultural",
          "Natural",
          "Natural",
          "Cultural",
          "Mixed",
          "Cultural",
          "Natural",
          "Cultural",
          "Natural",
          "Natural",
          "Cultural",
          "Natural",
          "Cultural",
          "Cultural",
          "Cultural",
          "Natural",
          "Natural",
          "Natural",
          "Cultural",
          "Mixed",
          "Natural"
         ],
         "yaxis": "y",
         "ybingroup": "y"
        }
       ],
       "layout": {
        "coloraxis": {
         "colorbar": {
          "title": {
           "text": "count"
          }
         },
         "colorscale": [
          [
           0,
           "#0d0887"
          ],
          [
           0.1111111111111111,
           "#46039f"
          ],
          [
           0.2222222222222222,
           "#7201a8"
          ],
          [
           0.3333333333333333,
           "#9c179e"
          ],
          [
           0.4444444444444444,
           "#bd3786"
          ],
          [
           0.5555555555555556,
           "#d8576b"
          ],
          [
           0.6666666666666666,
           "#ed7953"
          ],
          [
           0.7777777777777778,
           "#fb9f3a"
          ],
          [
           0.8888888888888888,
           "#fdca26"
          ],
          [
           1,
           "#f0f921"
          ]
         ]
        },
        "legend": {
         "tracegroupgap": 0
        },
        "margin": {
         "t": 60
        },
        "template": {
         "data": {
          "bar": [
           {
            "error_x": {
             "color": "#2a3f5f"
            },
            "error_y": {
             "color": "#2a3f5f"
            },
            "marker": {
             "line": {
              "color": "#E5ECF6",
              "width": 0.5
             },
             "pattern": {
              "fillmode": "overlay",
              "size": 10,
              "solidity": 0.2
             }
            },
            "type": "bar"
           }
          ],
          "barpolar": [
           {
            "marker": {
             "line": {
              "color": "#E5ECF6",
              "width": 0.5
             },
             "pattern": {
              "fillmode": "overlay",
              "size": 10,
              "solidity": 0.2
             }
            },
            "type": "barpolar"
           }
          ],
          "carpet": [
           {
            "aaxis": {
             "endlinecolor": "#2a3f5f",
             "gridcolor": "white",
             "linecolor": "white",
             "minorgridcolor": "white",
             "startlinecolor": "#2a3f5f"
            },
            "baxis": {
             "endlinecolor": "#2a3f5f",
             "gridcolor": "white",
             "linecolor": "white",
             "minorgridcolor": "white",
             "startlinecolor": "#2a3f5f"
            },
            "type": "carpet"
           }
          ],
          "choropleth": [
           {
            "colorbar": {
             "outlinewidth": 0,
             "ticks": ""
            },
            "type": "choropleth"
           }
          ],
          "contour": [
           {
            "colorbar": {
             "outlinewidth": 0,
             "ticks": ""
            },
            "colorscale": [
             [
              0,
              "#0d0887"
             ],
             [
              0.1111111111111111,
              "#46039f"
             ],
             [
              0.2222222222222222,
              "#7201a8"
             ],
             [
              0.3333333333333333,
              "#9c179e"
             ],
             [
              0.4444444444444444,
              "#bd3786"
             ],
             [
              0.5555555555555556,
              "#d8576b"
             ],
             [
              0.6666666666666666,
              "#ed7953"
             ],
             [
              0.7777777777777778,
              "#fb9f3a"
             ],
             [
              0.8888888888888888,
              "#fdca26"
             ],
             [
              1,
              "#f0f921"
             ]
            ],
            "type": "contour"
           }
          ],
          "contourcarpet": [
           {
            "colorbar": {
             "outlinewidth": 0,
             "ticks": ""
            },
            "type": "contourcarpet"
           }
          ],
          "heatmap": [
           {
            "colorbar": {
             "outlinewidth": 0,
             "ticks": ""
            },
            "colorscale": [
             [
              0,
              "#0d0887"
             ],
             [
              0.1111111111111111,
              "#46039f"
             ],
             [
              0.2222222222222222,
              "#7201a8"
             ],
             [
              0.3333333333333333,
              "#9c179e"
             ],
             [
              0.4444444444444444,
              "#bd3786"
             ],
             [
              0.5555555555555556,
              "#d8576b"
             ],
             [
              0.6666666666666666,
              "#ed7953"
             ],
             [
              0.7777777777777778,
              "#fb9f3a"
             ],
             [
              0.8888888888888888,
              "#fdca26"
             ],
             [
              1,
              "#f0f921"
             ]
            ],
            "type": "heatmap"
           }
          ],
          "heatmapgl": [
           {
            "colorbar": {
             "outlinewidth": 0,
             "ticks": ""
            },
            "colorscale": [
             [
              0,
              "#0d0887"
             ],
             [
              0.1111111111111111,
              "#46039f"
             ],
             [
              0.2222222222222222,
              "#7201a8"
             ],
             [
              0.3333333333333333,
              "#9c179e"
             ],
             [
              0.4444444444444444,
              "#bd3786"
             ],
             [
              0.5555555555555556,
              "#d8576b"
             ],
             [
              0.6666666666666666,
              "#ed7953"
             ],
             [
              0.7777777777777778,
              "#fb9f3a"
             ],
             [
              0.8888888888888888,
              "#fdca26"
             ],
             [
              1,
              "#f0f921"
             ]
            ],
            "type": "heatmapgl"
           }
          ],
          "histogram": [
           {
            "marker": {
             "pattern": {
              "fillmode": "overlay",
              "size": 10,
              "solidity": 0.2
             }
            },
            "type": "histogram"
           }
          ],
          "histogram2d": [
           {
            "colorbar": {
             "outlinewidth": 0,
             "ticks": ""
            },
            "colorscale": [
             [
              0,
              "#0d0887"
             ],
             [
              0.1111111111111111,
              "#46039f"
             ],
             [
              0.2222222222222222,
              "#7201a8"
             ],
             [
              0.3333333333333333,
              "#9c179e"
             ],
             [
              0.4444444444444444,
              "#bd3786"
             ],
             [
              0.5555555555555556,
              "#d8576b"
             ],
             [
              0.6666666666666666,
              "#ed7953"
             ],
             [
              0.7777777777777778,
              "#fb9f3a"
             ],
             [
              0.8888888888888888,
              "#fdca26"
             ],
             [
              1,
              "#f0f921"
             ]
            ],
            "type": "histogram2d"
           }
          ],
          "histogram2dcontour": [
           {
            "colorbar": {
             "outlinewidth": 0,
             "ticks": ""
            },
            "colorscale": [
             [
              0,
              "#0d0887"
             ],
             [
              0.1111111111111111,
              "#46039f"
             ],
             [
              0.2222222222222222,
              "#7201a8"
             ],
             [
              0.3333333333333333,
              "#9c179e"
             ],
             [
              0.4444444444444444,
              "#bd3786"
             ],
             [
              0.5555555555555556,
              "#d8576b"
             ],
             [
              0.6666666666666666,
              "#ed7953"
             ],
             [
              0.7777777777777778,
              "#fb9f3a"
             ],
             [
              0.8888888888888888,
              "#fdca26"
             ],
             [
              1,
              "#f0f921"
             ]
            ],
            "type": "histogram2dcontour"
           }
          ],
          "mesh3d": [
           {
            "colorbar": {
             "outlinewidth": 0,
             "ticks": ""
            },
            "type": "mesh3d"
           }
          ],
          "parcoords": [
           {
            "line": {
             "colorbar": {
              "outlinewidth": 0,
              "ticks": ""
             }
            },
            "type": "parcoords"
           }
          ],
          "pie": [
           {
            "automargin": true,
            "type": "pie"
           }
          ],
          "scatter": [
           {
            "fillpattern": {
             "fillmode": "overlay",
             "size": 10,
             "solidity": 0.2
            },
            "type": "scatter"
           }
          ],
          "scatter3d": [
           {
            "line": {
             "colorbar": {
              "outlinewidth": 0,
              "ticks": ""
             }
            },
            "marker": {
             "colorbar": {
              "outlinewidth": 0,
              "ticks": ""
             }
            },
            "type": "scatter3d"
           }
          ],
          "scattercarpet": [
           {
            "marker": {
             "colorbar": {
              "outlinewidth": 0,
              "ticks": ""
             }
            },
            "type": "scattercarpet"
           }
          ],
          "scattergeo": [
           {
            "marker": {
             "colorbar": {
              "outlinewidth": 0,
              "ticks": ""
             }
            },
            "type": "scattergeo"
           }
          ],
          "scattergl": [
           {
            "marker": {
             "colorbar": {
              "outlinewidth": 0,
              "ticks": ""
             }
            },
            "type": "scattergl"
           }
          ],
          "scattermapbox": [
           {
            "marker": {
             "colorbar": {
              "outlinewidth": 0,
              "ticks": ""
             }
            },
            "type": "scattermapbox"
           }
          ],
          "scatterpolar": [
           {
            "marker": {
             "colorbar": {
              "outlinewidth": 0,
              "ticks": ""
             }
            },
            "type": "scatterpolar"
           }
          ],
          "scatterpolargl": [
           {
            "marker": {
             "colorbar": {
              "outlinewidth": 0,
              "ticks": ""
             }
            },
            "type": "scatterpolargl"
           }
          ],
          "scatterternary": [
           {
            "marker": {
             "colorbar": {
              "outlinewidth": 0,
              "ticks": ""
             }
            },
            "type": "scatterternary"
           }
          ],
          "surface": [
           {
            "colorbar": {
             "outlinewidth": 0,
             "ticks": ""
            },
            "colorscale": [
             [
              0,
              "#0d0887"
             ],
             [
              0.1111111111111111,
              "#46039f"
             ],
             [
              0.2222222222222222,
              "#7201a8"
             ],
             [
              0.3333333333333333,
              "#9c179e"
             ],
             [
              0.4444444444444444,
              "#bd3786"
             ],
             [
              0.5555555555555556,
              "#d8576b"
             ],
             [
              0.6666666666666666,
              "#ed7953"
             ],
             [
              0.7777777777777778,
              "#fb9f3a"
             ],
             [
              0.8888888888888888,
              "#fdca26"
             ],
             [
              1,
              "#f0f921"
             ]
            ],
            "type": "surface"
           }
          ],
          "table": [
           {
            "cells": {
             "fill": {
              "color": "#EBF0F8"
             },
             "line": {
              "color": "white"
             }
            },
            "header": {
             "fill": {
              "color": "#C8D4E3"
             },
             "line": {
              "color": "white"
             }
            },
            "type": "table"
           }
          ]
         },
         "layout": {
          "annotationdefaults": {
           "arrowcolor": "#2a3f5f",
           "arrowhead": 0,
           "arrowwidth": 1
          },
          "autotypenumbers": "strict",
          "coloraxis": {
           "colorbar": {
            "outlinewidth": 0,
            "ticks": ""
           }
          },
          "colorscale": {
           "diverging": [
            [
             0,
             "#8e0152"
            ],
            [
             0.1,
             "#c51b7d"
            ],
            [
             0.2,
             "#de77ae"
            ],
            [
             0.3,
             "#f1b6da"
            ],
            [
             0.4,
             "#fde0ef"
            ],
            [
             0.5,
             "#f7f7f7"
            ],
            [
             0.6,
             "#e6f5d0"
            ],
            [
             0.7,
             "#b8e186"
            ],
            [
             0.8,
             "#7fbc41"
            ],
            [
             0.9,
             "#4d9221"
            ],
            [
             1,
             "#276419"
            ]
           ],
           "sequential": [
            [
             0,
             "#0d0887"
            ],
            [
             0.1111111111111111,
             "#46039f"
            ],
            [
             0.2222222222222222,
             "#7201a8"
            ],
            [
             0.3333333333333333,
             "#9c179e"
            ],
            [
             0.4444444444444444,
             "#bd3786"
            ],
            [
             0.5555555555555556,
             "#d8576b"
            ],
            [
             0.6666666666666666,
             "#ed7953"
            ],
            [
             0.7777777777777778,
             "#fb9f3a"
            ],
            [
             0.8888888888888888,
             "#fdca26"
            ],
            [
             1,
             "#f0f921"
            ]
           ],
           "sequentialminus": [
            [
             0,
             "#0d0887"
            ],
            [
             0.1111111111111111,
             "#46039f"
            ],
            [
             0.2222222222222222,
             "#7201a8"
            ],
            [
             0.3333333333333333,
             "#9c179e"
            ],
            [
             0.4444444444444444,
             "#bd3786"
            ],
            [
             0.5555555555555556,
             "#d8576b"
            ],
            [
             0.6666666666666666,
             "#ed7953"
            ],
            [
             0.7777777777777778,
             "#fb9f3a"
            ],
            [
             0.8888888888888888,
             "#fdca26"
            ],
            [
             1,
             "#f0f921"
            ]
           ]
          },
          "colorway": [
           "#636efa",
           "#EF553B",
           "#00cc96",
           "#ab63fa",
           "#FFA15A",
           "#19d3f3",
           "#FF6692",
           "#B6E880",
           "#FF97FF",
           "#FECB52"
          ],
          "font": {
           "color": "#2a3f5f"
          },
          "geo": {
           "bgcolor": "white",
           "lakecolor": "white",
           "landcolor": "#E5ECF6",
           "showlakes": true,
           "showland": true,
           "subunitcolor": "white"
          },
          "hoverlabel": {
           "align": "left"
          },
          "hovermode": "closest",
          "mapbox": {
           "style": "light"
          },
          "paper_bgcolor": "white",
          "plot_bgcolor": "#E5ECF6",
          "polar": {
           "angularaxis": {
            "gridcolor": "white",
            "linecolor": "white",
            "ticks": ""
           },
           "bgcolor": "#E5ECF6",
           "radialaxis": {
            "gridcolor": "white",
            "linecolor": "white",
            "ticks": ""
           }
          },
          "scene": {
           "xaxis": {
            "backgroundcolor": "#E5ECF6",
            "gridcolor": "white",
            "gridwidth": 2,
            "linecolor": "white",
            "showbackground": true,
            "ticks": "",
            "zerolinecolor": "white"
           },
           "yaxis": {
            "backgroundcolor": "#E5ECF6",
            "gridcolor": "white",
            "gridwidth": 2,
            "linecolor": "white",
            "showbackground": true,
            "ticks": "",
            "zerolinecolor": "white"
           },
           "zaxis": {
            "backgroundcolor": "#E5ECF6",
            "gridcolor": "white",
            "gridwidth": 2,
            "linecolor": "white",
            "showbackground": true,
            "ticks": "",
            "zerolinecolor": "white"
           }
          },
          "shapedefaults": {
           "line": {
            "color": "#2a3f5f"
           }
          },
          "ternary": {
           "aaxis": {
            "gridcolor": "white",
            "linecolor": "white",
            "ticks": ""
           },
           "baxis": {
            "gridcolor": "white",
            "linecolor": "white",
            "ticks": ""
           },
           "bgcolor": "#E5ECF6",
           "caxis": {
            "gridcolor": "white",
            "linecolor": "white",
            "ticks": ""
           }
          },
          "title": {
           "x": 0.05
          },
          "xaxis": {
           "automargin": true,
           "gridcolor": "white",
           "linecolor": "white",
           "ticks": "",
           "title": {
            "standoff": 15
           },
           "zerolinecolor": "white",
           "zerolinewidth": 2
          },
          "yaxis": {
           "automargin": true,
           "gridcolor": "white",
           "linecolor": "white",
           "ticks": "",
           "title": {
            "standoff": 15
           },
           "zerolinecolor": "white",
           "zerolinewidth": 2
          }
         }
        },
        "xaxis": {
         "anchor": "y",
         "domain": [
          0,
          1
         ],
         "title": {
          "text": "states_name_en"
         }
        },
        "yaxis": {
         "anchor": "x",
         "domain": [
          0,
          1
         ],
         "title": {
          "text": "category"
         }
        }
       }
      }
     },
     "metadata": {},
     "output_type": "display_data"
    }
   ],
   "source": [
    "# create the density heatmap chart\n",
    "fig = px.density_heatmap(data_df_transformed, x=\"states_name_en\", y=\"category\")\n",
    "\n",
    "# display the chart\n",
    "fig.show()\n"
   ]
  },
  {
   "cell_type": "code",
   "execution_count": 51,
   "metadata": {},
   "outputs": [
    {
     "data": {
      "text/html": [
       "<div>\n",
       "<style scoped>\n",
       "    .dataframe tbody tr th:only-of-type {\n",
       "        vertical-align: middle;\n",
       "    }\n",
       "\n",
       "    .dataframe tbody tr th {\n",
       "        vertical-align: top;\n",
       "    }\n",
       "\n",
       "    .dataframe thead th {\n",
       "        text-align: right;\n",
       "    }\n",
       "</style>\n",
       "<table border=\"1\" class=\"dataframe\">\n",
       "  <thead>\n",
       "    <tr style=\"text-align: right;\">\n",
       "      <th></th>\n",
       "      <th>rev_bis</th>\n",
       "      <th>name_en</th>\n",
       "      <th>short_description_en</th>\n",
       "      <th>justification_en</th>\n",
       "      <th>date_inscribed</th>\n",
       "      <th>secondary_dates</th>\n",
       "      <th>danger</th>\n",
       "      <th>date_end</th>\n",
       "      <th>danger_list</th>\n",
       "      <th>longitude</th>\n",
       "      <th>latitude</th>\n",
       "      <th>area_hectares</th>\n",
       "      <th>category</th>\n",
       "      <th>category_short</th>\n",
       "      <th>states_name_en</th>\n",
       "      <th>geometry</th>\n",
       "      <th>Cultural</th>\n",
       "      <th>Mixed</th>\n",
       "      <th>Natural</th>\n",
       "    </tr>\n",
       "  </thead>\n",
       "  <tbody>\n",
       "    <tr>\n",
       "      <th>12</th>\n",
       "      <td>NaN</td>\n",
       "      <td>Mbanza Kongo, Vestiges of the Capital of the f...</td>\n",
       "      <td>&lt;p&gt;The town of Mbanza Kongo, located on a plat...</td>\n",
       "      <td>NaN</td>\n",
       "      <td>2017</td>\n",
       "      <td>NaN</td>\n",
       "      <td>0</td>\n",
       "      <td>NaN</td>\n",
       "      <td>NaN</td>\n",
       "      <td>14.249722</td>\n",
       "      <td>-6.268889</td>\n",
       "      <td>89.290</td>\n",
       "      <td>Cultural</td>\n",
       "      <td>C</td>\n",
       "      <td>Angola</td>\n",
       "      <td>POINT (14.24972 -6.26889)</td>\n",
       "      <td>1</td>\n",
       "      <td>0</td>\n",
       "      <td>0</td>\n",
       "    </tr>\n",
       "    <tr>\n",
       "      <th>75</th>\n",
       "      <td>Bis</td>\n",
       "      <td>Royal Palaces of Abomey</td>\n",
       "      <td>&lt;p&gt;From 1625 to 1900, 12 kings succeeded one a...</td>\n",
       "      <td>NaN</td>\n",
       "      <td>1985</td>\n",
       "      <td>NaN</td>\n",
       "      <td>0</td>\n",
       "      <td>2007.0</td>\n",
       "      <td>P 1985-2007</td>\n",
       "      <td>1.983333</td>\n",
       "      <td>7.183333</td>\n",
       "      <td>47.600</td>\n",
       "      <td>Cultural</td>\n",
       "      <td>C</td>\n",
       "      <td>Benin</td>\n",
       "      <td>POINT (1.98333 7.18333)</td>\n",
       "      <td>1</td>\n",
       "      <td>0</td>\n",
       "      <td>0</td>\n",
       "    </tr>\n",
       "    <tr>\n",
       "      <th>84</th>\n",
       "      <td>NaN</td>\n",
       "      <td>Tsodilo</td>\n",
       "      <td>&lt;p&gt;With one of the highest concentrations of r...</td>\n",
       "      <td>&lt;p&gt;&lt;strong&gt;Criterion i:&lt;/strong&gt; For many thou...</td>\n",
       "      <td>2001</td>\n",
       "      <td>NaN</td>\n",
       "      <td>0</td>\n",
       "      <td>NaN</td>\n",
       "      <td>NaN</td>\n",
       "      <td>21.733333</td>\n",
       "      <td>-18.750000</td>\n",
       "      <td>4800.000</td>\n",
       "      <td>Cultural</td>\n",
       "      <td>C</td>\n",
       "      <td>Botswana</td>\n",
       "      <td>POINT (21.73333 -18.75000)</td>\n",
       "      <td>1</td>\n",
       "      <td>0</td>\n",
       "      <td>0</td>\n",
       "    </tr>\n",
       "    <tr>\n",
       "      <th>85</th>\n",
       "      <td>NaN</td>\n",
       "      <td>Okavango Delta</td>\n",
       "      <td>&lt;p&gt;This delta in north-west Botswana comprises...</td>\n",
       "      <td>NaN</td>\n",
       "      <td>2014</td>\n",
       "      <td>NaN</td>\n",
       "      <td>0</td>\n",
       "      <td>NaN</td>\n",
       "      <td>NaN</td>\n",
       "      <td>22.900000</td>\n",
       "      <td>-19.283333</td>\n",
       "      <td>2023590.000</td>\n",
       "      <td>Natural</td>\n",
       "      <td>N</td>\n",
       "      <td>Botswana</td>\n",
       "      <td>POINT (22.90000 -19.28333)</td>\n",
       "      <td>0</td>\n",
       "      <td>0</td>\n",
       "      <td>1</td>\n",
       "    </tr>\n",
       "    <tr>\n",
       "      <th>117</th>\n",
       "      <td>Rev</td>\n",
       "      <td>Ruins of Loropéni</td>\n",
       "      <td>&lt;p&gt;The 11,130m2 property, the first to be insc...</td>\n",
       "      <td>NaN</td>\n",
       "      <td>2009</td>\n",
       "      <td>NaN</td>\n",
       "      <td>0</td>\n",
       "      <td>NaN</td>\n",
       "      <td>NaN</td>\n",
       "      <td>-3.583333</td>\n",
       "      <td>10.250000</td>\n",
       "      <td>1.113</td>\n",
       "      <td>Cultural</td>\n",
       "      <td>C</td>\n",
       "      <td>Burkina Faso</td>\n",
       "      <td>POINT (-3.58333 10.25000)</td>\n",
       "      <td>1</td>\n",
       "      <td>0</td>\n",
       "      <td>0</td>\n",
       "    </tr>\n",
       "    <tr>\n",
       "      <th>...</th>\n",
       "      <td>...</td>\n",
       "      <td>...</td>\n",
       "      <td>...</td>\n",
       "      <td>...</td>\n",
       "      <td>...</td>\n",
       "      <td>...</td>\n",
       "      <td>...</td>\n",
       "      <td>...</td>\n",
       "      <td>...</td>\n",
       "      <td>...</td>\n",
       "      <td>...</td>\n",
       "      <td>...</td>\n",
       "      <td>...</td>\n",
       "      <td>...</td>\n",
       "      <td>...</td>\n",
       "      <td>...</td>\n",
       "      <td>...</td>\n",
       "      <td>...</td>\n",
       "      <td>...</td>\n",
       "    </tr>\n",
       "    <tr>\n",
       "      <th>1127</th>\n",
       "      <td>Rev</td>\n",
       "      <td>Sangha Trinational</td>\n",
       "      <td>&lt;p&gt;Situated in the north-western Congo Basin, ...</td>\n",
       "      <td>NaN</td>\n",
       "      <td>2012</td>\n",
       "      <td>NaN</td>\n",
       "      <td>0</td>\n",
       "      <td>NaN</td>\n",
       "      <td>NaN</td>\n",
       "      <td>16.554167</td>\n",
       "      <td>2.609444</td>\n",
       "      <td>746309.000</td>\n",
       "      <td>Natural</td>\n",
       "      <td>N</td>\n",
       "      <td>Cameroon,Central African Republic,Congo</td>\n",
       "      <td>POINT (16.55417 2.60944)</td>\n",
       "      <td>0</td>\n",
       "      <td>0</td>\n",
       "      <td>1</td>\n",
       "    </tr>\n",
       "    <tr>\n",
       "      <th>1132</th>\n",
       "      <td>-257</td>\n",
       "      <td>Mount Nimba Strict Nature Reserve</td>\n",
       "      <td>&lt;p&gt;Located on the borders of Guinea, Liberia a...</td>\n",
       "      <td>NaN</td>\n",
       "      <td>1981</td>\n",
       "      <td>1982</td>\n",
       "      <td>1</td>\n",
       "      <td>NaN</td>\n",
       "      <td>Y 1992</td>\n",
       "      <td>-8.390970</td>\n",
       "      <td>7.603180</td>\n",
       "      <td>17540.000</td>\n",
       "      <td>Natural</td>\n",
       "      <td>N</td>\n",
       "      <td>Côte d'Ivoire,Guinea</td>\n",
       "      <td>POINT (-8.39097 7.60318)</td>\n",
       "      <td>0</td>\n",
       "      <td>0</td>\n",
       "      <td>1</td>\n",
       "    </tr>\n",
       "    <tr>\n",
       "      <th>1138</th>\n",
       "      <td>NaN</td>\n",
       "      <td>Stone Circles of Senegambia</td>\n",
       "      <td>&lt;p&gt;The site consists of four large groups of s...</td>\n",
       "      <td>NaN</td>\n",
       "      <td>2006</td>\n",
       "      <td>NaN</td>\n",
       "      <td>0</td>\n",
       "      <td>NaN</td>\n",
       "      <td>NaN</td>\n",
       "      <td>-15.522500</td>\n",
       "      <td>13.691111</td>\n",
       "      <td>9.850</td>\n",
       "      <td>Cultural</td>\n",
       "      <td>C</td>\n",
       "      <td>Gambia (the),Senegal</td>\n",
       "      <td>POINT (-15.52250 13.69111)</td>\n",
       "      <td>1</td>\n",
       "      <td>0</td>\n",
       "      <td>0</td>\n",
       "    </tr>\n",
       "    <tr>\n",
       "      <th>1147</th>\n",
       "      <td>Bis</td>\n",
       "      <td>Maloti-Drakensberg Park</td>\n",
       "      <td>&lt;p&gt;The Maloti-Drakensberg Park is a transnatio...</td>\n",
       "      <td>NaN</td>\n",
       "      <td>2000</td>\n",
       "      <td>2013</td>\n",
       "      <td>0</td>\n",
       "      <td>NaN</td>\n",
       "      <td>NaN</td>\n",
       "      <td>29.123056</td>\n",
       "      <td>-29.765278</td>\n",
       "      <td>249313.000</td>\n",
       "      <td>Mixed</td>\n",
       "      <td>C/N</td>\n",
       "      <td>Lesotho,South Africa</td>\n",
       "      <td>POINT (29.12306 -29.76528)</td>\n",
       "      <td>0</td>\n",
       "      <td>1</td>\n",
       "      <td>0</td>\n",
       "    </tr>\n",
       "    <tr>\n",
       "      <th>1154</th>\n",
       "      <td>NaN</td>\n",
       "      <td>Mosi-oa-Tunya / Victoria Falls</td>\n",
       "      <td>&lt;p&gt;These are among the most spectacular waterf...</td>\n",
       "      <td>NaN</td>\n",
       "      <td>1989</td>\n",
       "      <td>NaN</td>\n",
       "      <td>0</td>\n",
       "      <td>NaN</td>\n",
       "      <td>NaN</td>\n",
       "      <td>25.855390</td>\n",
       "      <td>-17.924530</td>\n",
       "      <td>6860.000</td>\n",
       "      <td>Natural</td>\n",
       "      <td>N</td>\n",
       "      <td>Zambia,Zimbabwe</td>\n",
       "      <td>POINT (25.85539 -17.92453)</td>\n",
       "      <td>0</td>\n",
       "      <td>0</td>\n",
       "      <td>1</td>\n",
       "    </tr>\n",
       "  </tbody>\n",
       "</table>\n",
       "<p>98 rows × 19 columns</p>\n",
       "</div>"
      ],
      "text/plain": [
       "     rev_bis                                            name_en  \\\n",
       "12       NaN  Mbanza Kongo, Vestiges of the Capital of the f...   \n",
       "75       Bis                            Royal Palaces of Abomey   \n",
       "84       NaN                                            Tsodilo   \n",
       "85       NaN                                     Okavango Delta   \n",
       "117      Rev                                  Ruins of Loropéni   \n",
       "...      ...                                                ...   \n",
       "1127     Rev                                 Sangha Trinational   \n",
       "1132    -257                  Mount Nimba Strict Nature Reserve   \n",
       "1138     NaN                        Stone Circles of Senegambia   \n",
       "1147     Bis                            Maloti-Drakensberg Park   \n",
       "1154     NaN                     Mosi-oa-Tunya / Victoria Falls   \n",
       "\n",
       "                                   short_description_en  \\\n",
       "12    <p>The town of Mbanza Kongo, located on a plat...   \n",
       "75    <p>From 1625 to 1900, 12 kings succeeded one a...   \n",
       "84    <p>With one of the highest concentrations of r...   \n",
       "85    <p>This delta in north-west Botswana comprises...   \n",
       "117   <p>The 11,130m2 property, the first to be insc...   \n",
       "...                                                 ...   \n",
       "1127  <p>Situated in the north-western Congo Basin, ...   \n",
       "1132  <p>Located on the borders of Guinea, Liberia a...   \n",
       "1138  <p>The site consists of four large groups of s...   \n",
       "1147  <p>The Maloti-Drakensberg Park is a transnatio...   \n",
       "1154  <p>These are among the most spectacular waterf...   \n",
       "\n",
       "                                       justification_en  date_inscribed  \\\n",
       "12                                                  NaN            2017   \n",
       "75                                                  NaN            1985   \n",
       "84    <p><strong>Criterion i:</strong> For many thou...            2001   \n",
       "85                                                  NaN            2014   \n",
       "117                                                 NaN            2009   \n",
       "...                                                 ...             ...   \n",
       "1127                                                NaN            2012   \n",
       "1132                                                NaN            1981   \n",
       "1138                                                NaN            2006   \n",
       "1147                                                NaN            2000   \n",
       "1154                                                NaN            1989   \n",
       "\n",
       "     secondary_dates  danger  date_end  danger_list  longitude   latitude  \\\n",
       "12               NaN       0       NaN          NaN  14.249722  -6.268889   \n",
       "75               NaN       0    2007.0  P 1985-2007   1.983333   7.183333   \n",
       "84               NaN       0       NaN          NaN  21.733333 -18.750000   \n",
       "85               NaN       0       NaN          NaN  22.900000 -19.283333   \n",
       "117              NaN       0       NaN          NaN  -3.583333  10.250000   \n",
       "...              ...     ...       ...          ...        ...        ...   \n",
       "1127             NaN       0       NaN          NaN  16.554167   2.609444   \n",
       "1132            1982       1       NaN       Y 1992  -8.390970   7.603180   \n",
       "1138             NaN       0       NaN          NaN -15.522500  13.691111   \n",
       "1147            2013       0       NaN          NaN  29.123056 -29.765278   \n",
       "1154             NaN       0       NaN          NaN  25.855390 -17.924530   \n",
       "\n",
       "      area_hectares  category category_short  \\\n",
       "12           89.290  Cultural              C   \n",
       "75           47.600  Cultural              C   \n",
       "84         4800.000  Cultural              C   \n",
       "85      2023590.000   Natural              N   \n",
       "117           1.113  Cultural              C   \n",
       "...             ...       ...            ...   \n",
       "1127     746309.000   Natural              N   \n",
       "1132      17540.000   Natural              N   \n",
       "1138          9.850  Cultural              C   \n",
       "1147     249313.000     Mixed            C/N   \n",
       "1154       6860.000   Natural              N   \n",
       "\n",
       "                               states_name_en                    geometry  \\\n",
       "12                                     Angola   POINT (14.24972 -6.26889)   \n",
       "75                                      Benin     POINT (1.98333 7.18333)   \n",
       "84                                   Botswana  POINT (21.73333 -18.75000)   \n",
       "85                                   Botswana  POINT (22.90000 -19.28333)   \n",
       "117                              Burkina Faso   POINT (-3.58333 10.25000)   \n",
       "...                                       ...                         ...   \n",
       "1127  Cameroon,Central African Republic,Congo    POINT (16.55417 2.60944)   \n",
       "1132                     Côte d'Ivoire,Guinea    POINT (-8.39097 7.60318)   \n",
       "1138                     Gambia (the),Senegal  POINT (-15.52250 13.69111)   \n",
       "1147                     Lesotho,South Africa  POINT (29.12306 -29.76528)   \n",
       "1154                          Zambia,Zimbabwe  POINT (25.85539 -17.92453)   \n",
       "\n",
       "      Cultural  Mixed  Natural  \n",
       "12           1      0        0  \n",
       "75           1      0        0  \n",
       "84           1      0        0  \n",
       "85           0      0        1  \n",
       "117          1      0        0  \n",
       "...        ...    ...      ...  \n",
       "1127         0      0        1  \n",
       "1132         0      0        1  \n",
       "1138         1      0        0  \n",
       "1147         0      1        0  \n",
       "1154         0      0        1  \n",
       "\n",
       "[98 rows x 19 columns]"
      ]
     },
     "execution_count": 51,
     "metadata": {},
     "output_type": "execute_result"
    }
   ],
   "source": [
    "data_df_transformed = pd.concat([data_df_transformed, pd.get_dummies(data_df_transformed['category'])], axis = 1)\n",
    "data_df_transformed"
   ]
  },
  {
   "cell_type": "code",
   "execution_count": 58,
   "metadata": {},
   "outputs": [
    {
     "data": {
      "application/vnd.plotly.v1+json": {
       "config": {
        "plotlyServerURL": "https://plot.ly"
       },
       "data": [
        {
         "coloraxis": "coloraxis",
         "hovertemplate": "Mixed=%{z}<br>latitude=%{lat}<br>longitude=%{lon}<extra></extra>",
         "lat": [
          -6.2688888889,
          7.183333333,
          -18.75,
          -19.2833333333,
          10.25,
          12.5877583333,
          14.9151388889,
          3,
          9,
          19.055,
          17.0416666667,
          5.6488888889,
          9,
          5.1958333333,
          10.4903166667,
          0.916666667,
          4,
          -2.334053,
          -2,
          2,
          15.3352777778,
          13.1833333333,
          11.10006,
          8.43491,
          14.13019,
          4.8,
          12.02935,
          12.607909,
          9.3088888888,
          5.3,
          -0.5,
          0.4061111111,
          13.31616667,
          5.39103,
          6.4011111111,
          -0.155,
          3.051305556,
          -2.284444444,
          -0.4425,
          -3.9319444444,
          -4.0627777778,
          -0.8913380556,
          -18.66667,
          -18.75917,
          -14.4597222222,
          -14.03333,
          -14.2933333333,
          13.90639,
          16.77333333,
          14.33333,
          16.2898,
          -20.1586388889,
          -20.4519444444,
          -15.03417,
          -20.5955833333,
          -24.8852777778,
          18,
          16.9736111111,
          10.74056,
          7.75556,
          16.414602,
          14.66722,
          12.841271,
          16.02778,
          13.8352777778,
          12.5933333333,
          -9.416666667,
          -4.32917,
          -27.83889,
          -24.15861,
          -33.8,
          -34.3611111111,
          -22.1925,
          -26.86,
          -28.6,
          -25.6876111111,
          -25.9738888889,
          10.06666667,
          -1.080555556,
          0.223611111,
          0.348611111,
          -3.18722,
          -8.95778,
          -2.33333,
          -6.16306,
          -9,
          -3.06667,
          -4.7244444444,
          -15.81944444,
          -20.5,
          -20.28333333,
          -20.15833333,
          11.8841666667,
          2.6094444444,
          7.60318,
          13.6911111111,
          -29.7652777778,
          -17.92453
         ],
         "lon": [
          14.2497222222,
          1.983333333,
          21.73333333,
          22.9,
          -3.5833333333,
          -3.3289861111,
          -23.6051944444,
          13,
          21.5,
          20.5055555556,
          21.8627777778,
          -7.0952777778,
          -4,
          -3.7363888889,
          -6.4101666667,
          29.16666667,
          29.25,
          28.180743,
          21,
          28.5,
          38.9358333333,
          38.0666666667,
          40.57939,
          38.6121,
          38.71861,
          35.96666667,
          39.04042,
          37.4697,
          42.1377777777,
          37.4,
          11.5,
          12.6408333333,
          -16.35719444,
          -0.49361,
          -1.6258333333,
          37.3155555556,
          36.50366667,
          40.8525,
          36.24,
          39.5961111111,
          39.6794444444,
          34.326107,
          44.75,
          47.56278,
          49.7025,
          34.88333,
          34.2791666666,
          -4.555,
          -2.999444444,
          -3.41667,
          -0.04456,
          57.5031666666,
          57.3283333333,
          40.73583,
          14.3725833333,
          15.4077777778,
          9,
          7.9913888889,
          13.57194,
          4.55222,
          -16.237906,
          -17.40083,
          -12.899781,
          -16.50444,
          -16.4986111111,
          -12.8458333333,
          46.41666667,
          55.7375,
          32.55,
          29.17694,
          18.36666667,
          18.475,
          29.23889,
          27.26,
          17.2038888888,
          20.3745833333,
          31.0138888889,
          1.133333333,
          29.66138889,
          29.92416667,
          32.55138889,
          35.54083,
          39.52278,
          34.56667,
          39.18917,
          37.4,
          37.36667,
          35.8338888888,
          29.40805556,
          28.5,
          30.93333333,
          28.37666667,
          2.4877777778,
          16.5541666667,
          -8.39097,
          -15.5225,
          29.1230555556,
          25.85539
         ],
         "name": "",
         "radius": 10,
         "subplot": "mapbox",
         "type": "densitymapbox",
         "z": [
          0,
          0,
          0,
          0,
          0,
          0,
          0,
          0,
          0,
          0,
          1,
          0,
          0,
          0,
          0,
          0,
          0,
          0,
          0,
          0,
          0,
          0,
          0,
          0,
          0,
          0,
          0,
          0,
          0,
          0,
          1,
          0,
          0,
          0,
          0,
          0,
          0,
          0,
          0,
          0,
          0,
          0,
          0,
          0,
          0,
          0,
          0,
          0,
          0,
          1,
          0,
          0,
          0,
          0,
          0,
          0,
          0,
          0,
          0,
          0,
          0,
          0,
          0,
          0,
          0,
          0,
          0,
          0,
          0,
          0,
          0,
          0,
          0,
          0,
          0,
          0,
          0,
          0,
          0,
          0,
          0,
          1,
          0,
          0,
          0,
          0,
          0,
          0,
          0,
          0,
          0,
          0,
          0,
          0,
          0,
          0,
          1,
          0
         ]
        }
       ],
       "layout": {
        "coloraxis": {
         "colorbar": {
          "title": {
           "text": "Mixed"
          }
         },
         "colorscale": [
          [
           0,
           "#0d0887"
          ],
          [
           0.1111111111111111,
           "#46039f"
          ],
          [
           0.2222222222222222,
           "#7201a8"
          ],
          [
           0.3333333333333333,
           "#9c179e"
          ],
          [
           0.4444444444444444,
           "#bd3786"
          ],
          [
           0.5555555555555556,
           "#d8576b"
          ],
          [
           0.6666666666666666,
           "#ed7953"
          ],
          [
           0.7777777777777778,
           "#fb9f3a"
          ],
          [
           0.8888888888888888,
           "#fdca26"
          ],
          [
           1,
           "#f0f921"
          ]
         ]
        },
        "legend": {
         "tracegroupgap": 0
        },
        "mapbox": {
         "center": {
          "lat": 6,
          "lon": 24
         },
         "domain": {
          "x": [
           0,
           1
          ],
          "y": [
           0,
           1
          ]
         },
         "style": "open-street-map",
         "zoom": 1.5
        },
        "margin": {
         "t": 60
        },
        "template": {
         "data": {
          "bar": [
           {
            "error_x": {
             "color": "#2a3f5f"
            },
            "error_y": {
             "color": "#2a3f5f"
            },
            "marker": {
             "line": {
              "color": "#E5ECF6",
              "width": 0.5
             },
             "pattern": {
              "fillmode": "overlay",
              "size": 10,
              "solidity": 0.2
             }
            },
            "type": "bar"
           }
          ],
          "barpolar": [
           {
            "marker": {
             "line": {
              "color": "#E5ECF6",
              "width": 0.5
             },
             "pattern": {
              "fillmode": "overlay",
              "size": 10,
              "solidity": 0.2
             }
            },
            "type": "barpolar"
           }
          ],
          "carpet": [
           {
            "aaxis": {
             "endlinecolor": "#2a3f5f",
             "gridcolor": "white",
             "linecolor": "white",
             "minorgridcolor": "white",
             "startlinecolor": "#2a3f5f"
            },
            "baxis": {
             "endlinecolor": "#2a3f5f",
             "gridcolor": "white",
             "linecolor": "white",
             "minorgridcolor": "white",
             "startlinecolor": "#2a3f5f"
            },
            "type": "carpet"
           }
          ],
          "choropleth": [
           {
            "colorbar": {
             "outlinewidth": 0,
             "ticks": ""
            },
            "type": "choropleth"
           }
          ],
          "contour": [
           {
            "colorbar": {
             "outlinewidth": 0,
             "ticks": ""
            },
            "colorscale": [
             [
              0,
              "#0d0887"
             ],
             [
              0.1111111111111111,
              "#46039f"
             ],
             [
              0.2222222222222222,
              "#7201a8"
             ],
             [
              0.3333333333333333,
              "#9c179e"
             ],
             [
              0.4444444444444444,
              "#bd3786"
             ],
             [
              0.5555555555555556,
              "#d8576b"
             ],
             [
              0.6666666666666666,
              "#ed7953"
             ],
             [
              0.7777777777777778,
              "#fb9f3a"
             ],
             [
              0.8888888888888888,
              "#fdca26"
             ],
             [
              1,
              "#f0f921"
             ]
            ],
            "type": "contour"
           }
          ],
          "contourcarpet": [
           {
            "colorbar": {
             "outlinewidth": 0,
             "ticks": ""
            },
            "type": "contourcarpet"
           }
          ],
          "heatmap": [
           {
            "colorbar": {
             "outlinewidth": 0,
             "ticks": ""
            },
            "colorscale": [
             [
              0,
              "#0d0887"
             ],
             [
              0.1111111111111111,
              "#46039f"
             ],
             [
              0.2222222222222222,
              "#7201a8"
             ],
             [
              0.3333333333333333,
              "#9c179e"
             ],
             [
              0.4444444444444444,
              "#bd3786"
             ],
             [
              0.5555555555555556,
              "#d8576b"
             ],
             [
              0.6666666666666666,
              "#ed7953"
             ],
             [
              0.7777777777777778,
              "#fb9f3a"
             ],
             [
              0.8888888888888888,
              "#fdca26"
             ],
             [
              1,
              "#f0f921"
             ]
            ],
            "type": "heatmap"
           }
          ],
          "heatmapgl": [
           {
            "colorbar": {
             "outlinewidth": 0,
             "ticks": ""
            },
            "colorscale": [
             [
              0,
              "#0d0887"
             ],
             [
              0.1111111111111111,
              "#46039f"
             ],
             [
              0.2222222222222222,
              "#7201a8"
             ],
             [
              0.3333333333333333,
              "#9c179e"
             ],
             [
              0.4444444444444444,
              "#bd3786"
             ],
             [
              0.5555555555555556,
              "#d8576b"
             ],
             [
              0.6666666666666666,
              "#ed7953"
             ],
             [
              0.7777777777777778,
              "#fb9f3a"
             ],
             [
              0.8888888888888888,
              "#fdca26"
             ],
             [
              1,
              "#f0f921"
             ]
            ],
            "type": "heatmapgl"
           }
          ],
          "histogram": [
           {
            "marker": {
             "pattern": {
              "fillmode": "overlay",
              "size": 10,
              "solidity": 0.2
             }
            },
            "type": "histogram"
           }
          ],
          "histogram2d": [
           {
            "colorbar": {
             "outlinewidth": 0,
             "ticks": ""
            },
            "colorscale": [
             [
              0,
              "#0d0887"
             ],
             [
              0.1111111111111111,
              "#46039f"
             ],
             [
              0.2222222222222222,
              "#7201a8"
             ],
             [
              0.3333333333333333,
              "#9c179e"
             ],
             [
              0.4444444444444444,
              "#bd3786"
             ],
             [
              0.5555555555555556,
              "#d8576b"
             ],
             [
              0.6666666666666666,
              "#ed7953"
             ],
             [
              0.7777777777777778,
              "#fb9f3a"
             ],
             [
              0.8888888888888888,
              "#fdca26"
             ],
             [
              1,
              "#f0f921"
             ]
            ],
            "type": "histogram2d"
           }
          ],
          "histogram2dcontour": [
           {
            "colorbar": {
             "outlinewidth": 0,
             "ticks": ""
            },
            "colorscale": [
             [
              0,
              "#0d0887"
             ],
             [
              0.1111111111111111,
              "#46039f"
             ],
             [
              0.2222222222222222,
              "#7201a8"
             ],
             [
              0.3333333333333333,
              "#9c179e"
             ],
             [
              0.4444444444444444,
              "#bd3786"
             ],
             [
              0.5555555555555556,
              "#d8576b"
             ],
             [
              0.6666666666666666,
              "#ed7953"
             ],
             [
              0.7777777777777778,
              "#fb9f3a"
             ],
             [
              0.8888888888888888,
              "#fdca26"
             ],
             [
              1,
              "#f0f921"
             ]
            ],
            "type": "histogram2dcontour"
           }
          ],
          "mesh3d": [
           {
            "colorbar": {
             "outlinewidth": 0,
             "ticks": ""
            },
            "type": "mesh3d"
           }
          ],
          "parcoords": [
           {
            "line": {
             "colorbar": {
              "outlinewidth": 0,
              "ticks": ""
             }
            },
            "type": "parcoords"
           }
          ],
          "pie": [
           {
            "automargin": true,
            "type": "pie"
           }
          ],
          "scatter": [
           {
            "fillpattern": {
             "fillmode": "overlay",
             "size": 10,
             "solidity": 0.2
            },
            "type": "scatter"
           }
          ],
          "scatter3d": [
           {
            "line": {
             "colorbar": {
              "outlinewidth": 0,
              "ticks": ""
             }
            },
            "marker": {
             "colorbar": {
              "outlinewidth": 0,
              "ticks": ""
             }
            },
            "type": "scatter3d"
           }
          ],
          "scattercarpet": [
           {
            "marker": {
             "colorbar": {
              "outlinewidth": 0,
              "ticks": ""
             }
            },
            "type": "scattercarpet"
           }
          ],
          "scattergeo": [
           {
            "marker": {
             "colorbar": {
              "outlinewidth": 0,
              "ticks": ""
             }
            },
            "type": "scattergeo"
           }
          ],
          "scattergl": [
           {
            "marker": {
             "colorbar": {
              "outlinewidth": 0,
              "ticks": ""
             }
            },
            "type": "scattergl"
           }
          ],
          "scattermapbox": [
           {
            "marker": {
             "colorbar": {
              "outlinewidth": 0,
              "ticks": ""
             }
            },
            "type": "scattermapbox"
           }
          ],
          "scatterpolar": [
           {
            "marker": {
             "colorbar": {
              "outlinewidth": 0,
              "ticks": ""
             }
            },
            "type": "scatterpolar"
           }
          ],
          "scatterpolargl": [
           {
            "marker": {
             "colorbar": {
              "outlinewidth": 0,
              "ticks": ""
             }
            },
            "type": "scatterpolargl"
           }
          ],
          "scatterternary": [
           {
            "marker": {
             "colorbar": {
              "outlinewidth": 0,
              "ticks": ""
             }
            },
            "type": "scatterternary"
           }
          ],
          "surface": [
           {
            "colorbar": {
             "outlinewidth": 0,
             "ticks": ""
            },
            "colorscale": [
             [
              0,
              "#0d0887"
             ],
             [
              0.1111111111111111,
              "#46039f"
             ],
             [
              0.2222222222222222,
              "#7201a8"
             ],
             [
              0.3333333333333333,
              "#9c179e"
             ],
             [
              0.4444444444444444,
              "#bd3786"
             ],
             [
              0.5555555555555556,
              "#d8576b"
             ],
             [
              0.6666666666666666,
              "#ed7953"
             ],
             [
              0.7777777777777778,
              "#fb9f3a"
             ],
             [
              0.8888888888888888,
              "#fdca26"
             ],
             [
              1,
              "#f0f921"
             ]
            ],
            "type": "surface"
           }
          ],
          "table": [
           {
            "cells": {
             "fill": {
              "color": "#EBF0F8"
             },
             "line": {
              "color": "white"
             }
            },
            "header": {
             "fill": {
              "color": "#C8D4E3"
             },
             "line": {
              "color": "white"
             }
            },
            "type": "table"
           }
          ]
         },
         "layout": {
          "annotationdefaults": {
           "arrowcolor": "#2a3f5f",
           "arrowhead": 0,
           "arrowwidth": 1
          },
          "autotypenumbers": "strict",
          "coloraxis": {
           "colorbar": {
            "outlinewidth": 0,
            "ticks": ""
           }
          },
          "colorscale": {
           "diverging": [
            [
             0,
             "#8e0152"
            ],
            [
             0.1,
             "#c51b7d"
            ],
            [
             0.2,
             "#de77ae"
            ],
            [
             0.3,
             "#f1b6da"
            ],
            [
             0.4,
             "#fde0ef"
            ],
            [
             0.5,
             "#f7f7f7"
            ],
            [
             0.6,
             "#e6f5d0"
            ],
            [
             0.7,
             "#b8e186"
            ],
            [
             0.8,
             "#7fbc41"
            ],
            [
             0.9,
             "#4d9221"
            ],
            [
             1,
             "#276419"
            ]
           ],
           "sequential": [
            [
             0,
             "#0d0887"
            ],
            [
             0.1111111111111111,
             "#46039f"
            ],
            [
             0.2222222222222222,
             "#7201a8"
            ],
            [
             0.3333333333333333,
             "#9c179e"
            ],
            [
             0.4444444444444444,
             "#bd3786"
            ],
            [
             0.5555555555555556,
             "#d8576b"
            ],
            [
             0.6666666666666666,
             "#ed7953"
            ],
            [
             0.7777777777777778,
             "#fb9f3a"
            ],
            [
             0.8888888888888888,
             "#fdca26"
            ],
            [
             1,
             "#f0f921"
            ]
           ],
           "sequentialminus": [
            [
             0,
             "#0d0887"
            ],
            [
             0.1111111111111111,
             "#46039f"
            ],
            [
             0.2222222222222222,
             "#7201a8"
            ],
            [
             0.3333333333333333,
             "#9c179e"
            ],
            [
             0.4444444444444444,
             "#bd3786"
            ],
            [
             0.5555555555555556,
             "#d8576b"
            ],
            [
             0.6666666666666666,
             "#ed7953"
            ],
            [
             0.7777777777777778,
             "#fb9f3a"
            ],
            [
             0.8888888888888888,
             "#fdca26"
            ],
            [
             1,
             "#f0f921"
            ]
           ]
          },
          "colorway": [
           "#636efa",
           "#EF553B",
           "#00cc96",
           "#ab63fa",
           "#FFA15A",
           "#19d3f3",
           "#FF6692",
           "#B6E880",
           "#FF97FF",
           "#FECB52"
          ],
          "font": {
           "color": "#2a3f5f"
          },
          "geo": {
           "bgcolor": "white",
           "lakecolor": "white",
           "landcolor": "#E5ECF6",
           "showlakes": true,
           "showland": true,
           "subunitcolor": "white"
          },
          "hoverlabel": {
           "align": "left"
          },
          "hovermode": "closest",
          "mapbox": {
           "style": "light"
          },
          "paper_bgcolor": "white",
          "plot_bgcolor": "#E5ECF6",
          "polar": {
           "angularaxis": {
            "gridcolor": "white",
            "linecolor": "white",
            "ticks": ""
           },
           "bgcolor": "#E5ECF6",
           "radialaxis": {
            "gridcolor": "white",
            "linecolor": "white",
            "ticks": ""
           }
          },
          "scene": {
           "xaxis": {
            "backgroundcolor": "#E5ECF6",
            "gridcolor": "white",
            "gridwidth": 2,
            "linecolor": "white",
            "showbackground": true,
            "ticks": "",
            "zerolinecolor": "white"
           },
           "yaxis": {
            "backgroundcolor": "#E5ECF6",
            "gridcolor": "white",
            "gridwidth": 2,
            "linecolor": "white",
            "showbackground": true,
            "ticks": "",
            "zerolinecolor": "white"
           },
           "zaxis": {
            "backgroundcolor": "#E5ECF6",
            "gridcolor": "white",
            "gridwidth": 2,
            "linecolor": "white",
            "showbackground": true,
            "ticks": "",
            "zerolinecolor": "white"
           }
          },
          "shapedefaults": {
           "line": {
            "color": "#2a3f5f"
           }
          },
          "ternary": {
           "aaxis": {
            "gridcolor": "white",
            "linecolor": "white",
            "ticks": ""
           },
           "baxis": {
            "gridcolor": "white",
            "linecolor": "white",
            "ticks": ""
           },
           "bgcolor": "#E5ECF6",
           "caxis": {
            "gridcolor": "white",
            "linecolor": "white",
            "ticks": ""
           }
          },
          "title": {
           "x": 0.05
          },
          "xaxis": {
           "automargin": true,
           "gridcolor": "white",
           "linecolor": "white",
           "ticks": "",
           "title": {
            "standoff": 15
           },
           "zerolinecolor": "white",
           "zerolinewidth": 2
          },
          "yaxis": {
           "automargin": true,
           "gridcolor": "white",
           "linecolor": "white",
           "ticks": "",
           "title": {
            "standoff": 15
           },
           "zerolinecolor": "white",
           "zerolinewidth": 2
          }
         }
        }
       }
      }
     },
     "metadata": {},
     "output_type": "display_data"
    }
   ],
   "source": [
    "\n",
    "# Create figure\n",
    "fig = px.density_mapbox(data_df_transformed, lat='latitude', lon='longitude', z='Mixed',\n",
    "                        radius=10, center=dict(lat=6, lon=24), zoom=1.5,\n",
    "                        mapbox_style=\"open-street-map\")\n",
    "\n",
    "# Show figure\n",
    "fig.show()\n"
   ]
  },
  {
   "cell_type": "code",
   "execution_count": null,
   "metadata": {},
   "outputs": [],
   "source": [
    "import plotly.graph_objs as go\n",
    "\n",
    "\n",
    "\n",
    "\n",
    "data = dict(\n",
    "        type='choropleth',\n",
    "        locations=data_df_transformed['states_name_en'], # column with the name of the countries\n",
    "        z=data_df_transformed['danger'], # column you want to plot\n",
    "        locationmode='country names',\n",
    "        colorscale='Reds',\n",
    "        colorbar_title='Danger'      )\n",
    "\n",
    "layout = dict(title='African Countries Danger')\n",
    "\n",
    "fig = go.Figure(data=[data], layout=layout)\n",
    "fig.show()\n",
    "\n"
   ]
  }
 ],
 "metadata": {
  "kernelspec": {
   "display_name": "Python 3",
   "language": "python",
   "name": "python3"
  },
  "language_info": {
   "codemirror_mode": {
    "name": "ipython",
    "version": 3
   },
   "file_extension": ".py",
   "mimetype": "text/x-python",
   "name": "python",
   "nbconvert_exporter": "python",
   "pygments_lexer": "ipython3",
   "version": "3.10.7"
  },
  "orig_nbformat": 4
 },
 "nbformat": 4,
 "nbformat_minor": 2
}
