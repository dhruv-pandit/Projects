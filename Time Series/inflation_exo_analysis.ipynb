{
 "cells": [
  {
   "cell_type": "code",
   "execution_count": 20,
   "metadata": {},
   "outputs": [],
   "source": [
    "import pandas as pd\n",
    "import seaborn as sns\n",
    "import numpy as np\n",
    "import matplotlib.pyplot as plt\n",
    "from statsmodels.tsa.seasonal import seasonal_decompose\n",
    "from statsmodels.tsa.arima.model import ARIMA\n",
    "from itertools import product\n",
    "from statsmodels.tsa.stattools import adfuller\n",
    "from statsmodels.graphics.tsaplots import plot_acf,plot_pacf\n",
    "from statsmodels.tsa.statespace.sarimax import SARIMAX\n",
    "from pmdarima import auto_arima\n"
   ]
  },
  {
   "cell_type": "code",
   "execution_count": 22,
   "metadata": {},
   "outputs": [],
   "source": [
    "data_df = pd.DataFrame({})\n",
    "cpi = pd.read_csv(r'/Users/dhruvpandit/Documents/GitHub/time-series-project/Inflation/CPHPTT01EZM659N.csv', index_col='DATE').rename(columns={'CPHPTT01EZM659N' : 'CPI'})\n",
    "oil = pd.read_csv(r'/Users/dhruvpandit/Documents/GitHub/time-series-project/Inflation/MCOILBRENTEU.csv', index_col='DATE').rename(columns={'MCOILBRENTEU' : 'OIL'})\n",
    "gas = pd.read_csv(r'/Users/dhruvpandit/Documents/GitHub/time-series-project/Inflation/PNGASEUUSDM.csv', index_col='DATE').rename(columns={'PNGASEUUSDM' : 'GAS'})\n",
    "longterm = pd.read_csv(r'/Users/dhruvpandit/Documents/GitHub/time-series-project/Inflation/IRLTLT01EZM156N.csv', index_col='DATE').rename(columns={'IRLTLT01EZM156N' : 'LongTerm'})\n",
    "threemonth = pd.read_csv(r'/Users/dhruvpandit/Documents/GitHub/time-series-project/Inflation/IR3TIB01EZM156N.csv', index_col='DATE').rename(columns={'IR3TIB01EZM156N' : 'ThreeMonth'})"
   ]
  },
  {
   "cell_type": "code",
   "execution_count": 27,
   "metadata": {},
   "outputs": [],
   "source": [
    "cpi = pd.Series(cpi['CPI'])\n",
    "oil = pd.Series(oil['OIL'])\n",
    "gas = pd.Series(gas['GAS'])\n",
    "longterm = pd.Series(longterm['LongTerm'])\n",
    "threemonth = pd.Series(threemonth['ThreeMonth'])"
   ]
  },
  {
   "cell_type": "code",
   "execution_count": 37,
   "metadata": {},
   "outputs": [
    {
     "data": {
      "text/plain": [
       "DATE\n",
       "1997-01-01    23.5400\n",
       "1997-02-01    20.8500\n",
       "1997-03-01    19.1300\n",
       "1997-04-01    17.5600\n",
       "1997-05-01    19.0200\n",
       "               ...   \n",
       "2022-08-01     0.3947\n",
       "2022-09-01     1.0109\n",
       "2022-10-01     1.4277\n",
       "2022-11-01     1.8252\n",
       "2022-12-01     2.0663\n",
       "Length: 1248, dtype: float64"
      ]
     },
     "execution_count": 37,
     "metadata": {},
     "output_type": "execute_result"
    }
   ],
   "source": []
  },
  {
   "cell_type": "code",
   "execution_count": 41,
   "metadata": {},
   "outputs": [
    {
     "data": {
      "text/html": [
       "<div>\n",
       "<style scoped>\n",
       "    .dataframe tbody tr th:only-of-type {\n",
       "        vertical-align: middle;\n",
       "    }\n",
       "\n",
       "    .dataframe tbody tr th {\n",
       "        vertical-align: top;\n",
       "    }\n",
       "\n",
       "    .dataframe thead th {\n",
       "        text-align: right;\n",
       "    }\n",
       "</style>\n",
       "<table border=\"1\" class=\"dataframe\">\n",
       "  <thead>\n",
       "    <tr style=\"text-align: right;\">\n",
       "      <th></th>\n",
       "      <th>oil</th>\n",
       "      <th>gas</th>\n",
       "      <th>lt</th>\n",
       "      <th>three</th>\n",
       "    </tr>\n",
       "    <tr>\n",
       "      <th>DATE</th>\n",
       "      <th></th>\n",
       "      <th></th>\n",
       "      <th></th>\n",
       "      <th></th>\n",
       "    </tr>\n",
       "  </thead>\n",
       "  <tbody>\n",
       "    <tr>\n",
       "      <th>1997-01-01</th>\n",
       "      <td>23.54</td>\n",
       "      <td>3.000000</td>\n",
       "      <td>6.2300</td>\n",
       "      <td>4.3900</td>\n",
       "    </tr>\n",
       "    <tr>\n",
       "      <th>1997-02-01</th>\n",
       "      <td>20.85</td>\n",
       "      <td>2.944444</td>\n",
       "      <td>6.0600</td>\n",
       "      <td>4.4300</td>\n",
       "    </tr>\n",
       "    <tr>\n",
       "      <th>1997-03-01</th>\n",
       "      <td>19.13</td>\n",
       "      <td>2.760000</td>\n",
       "      <td>6.3200</td>\n",
       "      <td>4.5000</td>\n",
       "    </tr>\n",
       "    <tr>\n",
       "      <th>1997-04-01</th>\n",
       "      <td>17.56</td>\n",
       "      <td>2.730000</td>\n",
       "      <td>6.3900</td>\n",
       "      <td>4.3900</td>\n",
       "    </tr>\n",
       "    <tr>\n",
       "      <th>1997-05-01</th>\n",
       "      <td>19.02</td>\n",
       "      <td>2.730000</td>\n",
       "      <td>6.1800</td>\n",
       "      <td>4.3000</td>\n",
       "    </tr>\n",
       "    <tr>\n",
       "      <th>...</th>\n",
       "      <td>...</td>\n",
       "      <td>...</td>\n",
       "      <td>...</td>\n",
       "      <td>...</td>\n",
       "    </tr>\n",
       "    <tr>\n",
       "      <th>2022-08-01</th>\n",
       "      <td>100.45</td>\n",
       "      <td>69.977239</td>\n",
       "      <td>2.0583</td>\n",
       "      <td>0.3947</td>\n",
       "    </tr>\n",
       "    <tr>\n",
       "      <th>2022-09-01</th>\n",
       "      <td>89.76</td>\n",
       "      <td>55.179127</td>\n",
       "      <td>2.8138</td>\n",
       "      <td>1.0109</td>\n",
       "    </tr>\n",
       "    <tr>\n",
       "      <th>2022-10-01</th>\n",
       "      <td>93.33</td>\n",
       "      <td>20.806637</td>\n",
       "      <td>3.1850</td>\n",
       "      <td>1.4277</td>\n",
       "    </tr>\n",
       "    <tr>\n",
       "      <th>2022-11-01</th>\n",
       "      <td>91.42</td>\n",
       "      <td>28.790805</td>\n",
       "      <td>2.9342</td>\n",
       "      <td>1.8252</td>\n",
       "    </tr>\n",
       "    <tr>\n",
       "      <th>2022-12-01</th>\n",
       "      <td>80.92</td>\n",
       "      <td>35.368731</td>\n",
       "      <td>3.0002</td>\n",
       "      <td>2.0663</td>\n",
       "    </tr>\n",
       "  </tbody>\n",
       "</table>\n",
       "<p>312 rows × 4 columns</p>\n",
       "</div>"
      ],
      "text/plain": [
       "               oil        gas      lt   three\n",
       "DATE                                         \n",
       "1997-01-01   23.54   3.000000  6.2300  4.3900\n",
       "1997-02-01   20.85   2.944444  6.0600  4.4300\n",
       "1997-03-01   19.13   2.760000  6.3200  4.5000\n",
       "1997-04-01   17.56   2.730000  6.3900  4.3900\n",
       "1997-05-01   19.02   2.730000  6.1800  4.3000\n",
       "...            ...        ...     ...     ...\n",
       "2022-08-01  100.45  69.977239  2.0583  0.3947\n",
       "2022-09-01   89.76  55.179127  2.8138  1.0109\n",
       "2022-10-01   93.33  20.806637  3.1850  1.4277\n",
       "2022-11-01   91.42  28.790805  2.9342  1.8252\n",
       "2022-12-01   80.92  35.368731  3.0002  2.0663\n",
       "\n",
       "[312 rows x 4 columns]"
      ]
     },
     "execution_count": 41,
     "metadata": {},
     "output_type": "execute_result"
    }
   ],
   "source": [
    "exog = pd.DataFrame({\n",
    "    'oil' : oil.values, \n",
    "    'gas' : gas.values,\n",
    "    'lt' : longterm.values, \n",
    "    'three' : threemonth.values\n",
    "}).set_index(pd.Index(oil.index))\n",
    "exog"
   ]
  },
  {
   "cell_type": "code",
   "execution_count": 43,
   "metadata": {},
   "outputs": [
    {
     "data": {
      "text/html": [
       "<style>#sk-container-id-1 {color: black;background-color: white;}#sk-container-id-1 pre{padding: 0;}#sk-container-id-1 div.sk-toggleable {background-color: white;}#sk-container-id-1 label.sk-toggleable__label {cursor: pointer;display: block;width: 100%;margin-bottom: 0;padding: 0.3em;box-sizing: border-box;text-align: center;}#sk-container-id-1 label.sk-toggleable__label-arrow:before {content: \"▸\";float: left;margin-right: 0.25em;color: #696969;}#sk-container-id-1 label.sk-toggleable__label-arrow:hover:before {color: black;}#sk-container-id-1 div.sk-estimator:hover label.sk-toggleable__label-arrow:before {color: black;}#sk-container-id-1 div.sk-toggleable__content {max-height: 0;max-width: 0;overflow: hidden;text-align: left;background-color: #f0f8ff;}#sk-container-id-1 div.sk-toggleable__content pre {margin: 0.2em;color: black;border-radius: 0.25em;background-color: #f0f8ff;}#sk-container-id-1 input.sk-toggleable__control:checked~div.sk-toggleable__content {max-height: 200px;max-width: 100%;overflow: auto;}#sk-container-id-1 input.sk-toggleable__control:checked~label.sk-toggleable__label-arrow:before {content: \"▾\";}#sk-container-id-1 div.sk-estimator input.sk-toggleable__control:checked~label.sk-toggleable__label {background-color: #d4ebff;}#sk-container-id-1 div.sk-label input.sk-toggleable__control:checked~label.sk-toggleable__label {background-color: #d4ebff;}#sk-container-id-1 input.sk-hidden--visually {border: 0;clip: rect(1px 1px 1px 1px);clip: rect(1px, 1px, 1px, 1px);height: 1px;margin: -1px;overflow: hidden;padding: 0;position: absolute;width: 1px;}#sk-container-id-1 div.sk-estimator {font-family: monospace;background-color: #f0f8ff;border: 1px dotted black;border-radius: 0.25em;box-sizing: border-box;margin-bottom: 0.5em;}#sk-container-id-1 div.sk-estimator:hover {background-color: #d4ebff;}#sk-container-id-1 div.sk-parallel-item::after {content: \"\";width: 100%;border-bottom: 1px solid gray;flex-grow: 1;}#sk-container-id-1 div.sk-label:hover label.sk-toggleable__label {background-color: #d4ebff;}#sk-container-id-1 div.sk-serial::before {content: \"\";position: absolute;border-left: 1px solid gray;box-sizing: border-box;top: 0;bottom: 0;left: 50%;z-index: 0;}#sk-container-id-1 div.sk-serial {display: flex;flex-direction: column;align-items: center;background-color: white;padding-right: 0.2em;padding-left: 0.2em;position: relative;}#sk-container-id-1 div.sk-item {position: relative;z-index: 1;}#sk-container-id-1 div.sk-parallel {display: flex;align-items: stretch;justify-content: center;background-color: white;position: relative;}#sk-container-id-1 div.sk-item::before, #sk-container-id-1 div.sk-parallel-item::before {content: \"\";position: absolute;border-left: 1px solid gray;box-sizing: border-box;top: 0;bottom: 0;left: 50%;z-index: -1;}#sk-container-id-1 div.sk-parallel-item {display: flex;flex-direction: column;z-index: 1;position: relative;background-color: white;}#sk-container-id-1 div.sk-parallel-item:first-child::after {align-self: flex-end;width: 50%;}#sk-container-id-1 div.sk-parallel-item:last-child::after {align-self: flex-start;width: 50%;}#sk-container-id-1 div.sk-parallel-item:only-child::after {width: 0;}#sk-container-id-1 div.sk-dashed-wrapped {border: 1px dashed gray;margin: 0 0.4em 0.5em 0.4em;box-sizing: border-box;padding-bottom: 0.4em;background-color: white;}#sk-container-id-1 div.sk-label label {font-family: monospace;font-weight: bold;display: inline-block;line-height: 1.2em;}#sk-container-id-1 div.sk-label-container {text-align: center;}#sk-container-id-1 div.sk-container {/* jupyter's `normalize.less` sets `[hidden] { display: none; }` but bootstrap.min.css set `[hidden] { display: none !important; }` so we also need the `!important` here to be able to override the default hidden behavior on the sphinx rendered scikit-learn.org. See: https://github.com/scikit-learn/scikit-learn/issues/21755 */display: inline-block !important;position: relative;}#sk-container-id-1 div.sk-text-repr-fallback {display: none;}</style><div id=\"sk-container-id-1\" class=\"sk-top-container\"><div class=\"sk-text-repr-fallback\"><pre> ARIMA(3,0,2)(0,0,1)[12] intercept</pre><b>In a Jupyter environment, please rerun this cell to show the HTML representation or trust the notebook. <br />On GitHub, the HTML representation is unable to render, please try loading this page with nbviewer.org.</b></div><div class=\"sk-container\" hidden><div class=\"sk-item\"><div class=\"sk-estimator sk-toggleable\"><input class=\"sk-toggleable__control sk-hidden--visually\" id=\"sk-estimator-id-1\" type=\"checkbox\" checked><label for=\"sk-estimator-id-1\" class=\"sk-toggleable__label sk-toggleable__label-arrow\">ARIMA</label><div class=\"sk-toggleable__content\"><pre> ARIMA(3,0,2)(0,0,1)[12] intercept</pre></div></div></div></div></div>"
      ],
      "text/plain": [
       "ARIMA(order=(3, 0, 2), scoring_args={}, seasonal_order=(0, 0, 1, 12),\n",
       "      suppress_warnings=True)"
      ]
     },
     "execution_count": 43,
     "metadata": {},
     "output_type": "execute_result"
    }
   ],
   "source": [
    "auto_arima(y=cpi, X = exog, m = 12, seasonal=True)"
   ]
  },
  {
   "cell_type": "code",
   "execution_count": 66,
   "metadata": {},
   "outputs": [],
   "source": [
    "train_cpi = cpi[:308]\n",
    "test_cpi = cpi[308:]\n",
    "train_exog = exog[:308]\n",
    "test_exog = exog[308:]\n"
   ]
  },
  {
   "cell_type": "code",
   "execution_count": 67,
   "metadata": {},
   "outputs": [
    {
     "name": "stderr",
     "output_type": "stream",
     "text": [
      "/opt/homebrew/lib/python3.10/site-packages/statsmodels/tsa/base/tsa_model.py:471: ValueWarning: No frequency information was provided, so inferred frequency MS will be used.\n",
      "  self._init_dates(dates, freq)\n",
      "/opt/homebrew/lib/python3.10/site-packages/statsmodels/tsa/base/tsa_model.py:471: ValueWarning: No frequency information was provided, so inferred frequency MS will be used.\n",
      "  self._init_dates(dates, freq)\n",
      "/opt/homebrew/lib/python3.10/site-packages/statsmodels/tsa/statespace/sarimax.py:966: UserWarning: Non-stationary starting autoregressive parameters found. Using zeros as starting parameters.\n",
      "  warn('Non-stationary starting autoregressive parameters'\n",
      "/opt/homebrew/lib/python3.10/site-packages/statsmodels/tsa/statespace/sarimax.py:978: UserWarning: Non-invertible starting MA parameters found. Using zeros as starting parameters.\n",
      "  warn('Non-invertible starting MA parameters found.'\n",
      " This problem is unconstrained.\n"
     ]
    },
    {
     "name": "stdout",
     "output_type": "stream",
     "text": [
      "RUNNING THE L-BFGS-B CODE\n",
      "\n",
      "           * * *\n",
      "\n",
      "Machine precision = 2.220D-16\n",
      " N =           11     M =           10\n",
      "\n",
      "At X0         0 variables are exactly at the bounds\n",
      "\n",
      "At iterate    0    f=  2.16849D+00    |proj g|=  3.92830D+01\n",
      "\n",
      "At iterate    5    f=  7.73680D-01    |proj g|=  1.23142D+00\n",
      "\n",
      "At iterate   10    f=  1.52113D-01    |proj g|=  1.64784D+00\n",
      "\n",
      "At iterate   15    f= -1.24797D-02    |proj g|=  2.59632D-01\n",
      "\n",
      "At iterate   20    f= -2.82391D-02    |proj g|=  5.28073D-02\n",
      "\n",
      "At iterate   25    f= -3.03434D-02    |proj g|=  7.07212D-02\n",
      "\n",
      "At iterate   30    f= -3.06200D-02    |proj g|=  1.01669D-01\n",
      "\n",
      "At iterate   35    f= -3.12398D-02    |proj g|=  6.33454D-02\n",
      "\n",
      "At iterate   40    f= -3.12668D-02    |proj g|=  7.41877D-03\n",
      "\n",
      "At iterate   45    f= -3.14183D-02    |proj g|=  2.45848D-01\n",
      "\n",
      "At iterate   50    f= -3.15309D-02    |proj g|=  2.75903D-02\n",
      "\n",
      "           * * *\n",
      "\n",
      "Tit   = total number of iterations\n",
      "Tnf   = total number of function evaluations\n",
      "Tnint = total number of segments explored during Cauchy searches\n",
      "Skip  = number of BFGS updates skipped\n",
      "Nact  = number of active bounds at final generalized Cauchy point\n",
      "Projg = norm of the final projected gradient\n",
      "F     = final function value\n",
      "\n",
      "           * * *\n",
      "\n",
      "   N    Tit     Tnf  Tnint  Skip  Nact     Projg        F\n",
      "   11     50     63      1     0     0   2.759D-02  -3.153D-02\n",
      "  F =  -3.1530861444090272E-002\n",
      "\n",
      "STOP: TOTAL NO. of ITERATIONS REACHED LIMIT                 \n"
     ]
    },
    {
     "name": "stderr",
     "output_type": "stream",
     "text": [
      "/opt/homebrew/lib/python3.10/site-packages/statsmodels/base/model.py:604: ConvergenceWarning: Maximum Likelihood optimization failed to converge. Check mle_retvals\n",
      "  warnings.warn(\"Maximum Likelihood optimization failed to \"\n"
     ]
    }
   ],
   "source": [
    "model_exog = SARIMAX(\n",
    "    train_cpi, exog=train_exog, order=(3, 0, 2), seasonal_order=(0, 0, 1, 12)\n",
    ")\n",
    "res = model_exog.fit()\n",
    "start = len(train_cpi)\n",
    "end = len(train_cpi) + len(test_cpi) -1\n",
    "\n",
    "# ax = test_cpi.plot(legend=True, figsize=(16,8))\n",
    "# prediction.plot(legend=True)"
   ]
  },
  {
   "cell_type": "code",
   "execution_count": 58,
   "metadata": {},
   "outputs": [
    {
     "data": {
      "text/plain": [
       "1.3"
      ]
     },
     "execution_count": 58,
     "metadata": {},
     "output_type": "execute_result"
    }
   ],
   "source": [
    "cpi.iloc[290]"
   ]
  },
  {
   "cell_type": "code",
   "execution_count": 99,
   "metadata": {},
   "outputs": [
    {
     "data": {
      "text/plain": [
       "1997-01-01    1.750617\n",
       "1997-02-01    2.147312\n",
       "1997-03-01    1.982529\n",
       "1997-04-01    1.631870\n",
       "1997-05-01    1.487483\n",
       "                ...   \n",
       "2022-08-01    9.063906\n",
       "2022-09-01    8.633998\n",
       "2022-10-01    7.733125\n",
       "2022-11-01    7.653300\n",
       "2022-12-01    7.705259\n",
       "Freq: MS, Name: Pred, Length: 312, dtype: float64"
      ]
     },
     "execution_count": 99,
     "metadata": {},
     "output_type": "execute_result"
    }
   ],
   "source": [
    "pred = res.predict(0, end, exog = test_exog).rename('Pred')\n",
    "pred"
   ]
  },
  {
   "cell_type": "code",
   "execution_count": 72,
   "metadata": {},
   "outputs": [
    {
     "data": {
      "text/plain": [
       "DATE\n",
       "2022-09-01     9.9\n",
       "2022-10-01    10.6\n",
       "2022-11-01    10.1\n",
       "2022-12-01     9.2\n",
       "Name: CPI, dtype: float64"
      ]
     },
     "execution_count": 72,
     "metadata": {},
     "output_type": "execute_result"
    }
   ],
   "source": [
    "cpi[308:312]"
   ]
  },
  {
   "cell_type": "code",
   "execution_count": 88,
   "metadata": {},
   "outputs": [
    {
     "data": {
      "text/plain": [
       "Index(['2022 09 01', '2022 10 01', '2022 11 01', '2022 12 01'], dtype='object')"
      ]
     },
     "execution_count": 88,
     "metadata": {},
     "output_type": "execute_result"
    }
   ],
   "source": [
    "a = pd.Series(pred.values, index=pred.index.strftime('%Y %m %d'))"
   ]
  }
 ],
 "metadata": {
  "kernelspec": {
   "display_name": "Python 3",
   "language": "python",
   "name": "python3"
  },
  "language_info": {
   "codemirror_mode": {
    "name": "ipython",
    "version": 3
   },
   "file_extension": ".py",
   "mimetype": "text/x-python",
   "name": "python",
   "nbconvert_exporter": "python",
   "pygments_lexer": "ipython3",
   "version": "3.10.7"
  },
  "orig_nbformat": 4,
  "vscode": {
   "interpreter": {
    "hash": "b0fa6594d8f4cbf19f97940f81e996739fb7646882a419484c72d19e05852a7e"
   }
  }
 },
 "nbformat": 4,
 "nbformat_minor": 2
}
